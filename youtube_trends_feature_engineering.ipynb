{
 "cells": [
  {
   "cell_type": "markdown",
   "metadata": {},
   "source": [
    "# TrendTracker: Exploring Trending Youtube Videos in Canada"
   ]
  },
  {
   "cell_type": "markdown",
   "metadata": {},
   "source": [
    "### Feature Engineering"
   ]
  },
  {
   "cell_type": "markdown",
   "metadata": {},
   "source": [
    "In this notebook, I will create new columns that can help with our model."
   ]
  },
  {
   "cell_type": "markdown",
   "metadata": {},
   "source": [
    "### Import Libraries and Data"
   ]
  },
  {
   "cell_type": "code",
   "execution_count": 108,
   "metadata": {},
   "outputs": [],
   "source": [
    "import pandas as pd\n",
    "import numpy as np\n",
    "import matplotlib.pyplot as plt\n",
    "import seaborn as sns\n",
    "import datetime"
   ]
  },
  {
   "cell_type": "code",
   "execution_count": 109,
   "metadata": {},
   "outputs": [],
   "source": [
    "# File name represents most recent update\n",
    "file = r'/Users/OliverPan/Desktop/youtube_data/trend_12-03-20.csv'"
   ]
  },
  {
   "cell_type": "code",
   "execution_count": 110,
   "metadata": {},
   "outputs": [],
   "source": [
    "trends = pd.read_csv(file)"
   ]
  },
  {
   "cell_type": "code",
   "execution_count": 111,
   "metadata": {},
   "outputs": [],
   "source": [
    "# Change format\n",
    "pd.options.display.float_format = '{:.5f}'.format"
   ]
  },
  {
   "cell_type": "code",
   "execution_count": 112,
   "metadata": {},
   "outputs": [],
   "source": [
    "# Turn trending_date and publishedAt to datetime format\n",
    "trends['trending_date'] = trends['trending_date'].str[0:10]\n",
    "trends['publishedAt'] = trends['publishedAt'].str[0:10]\n",
    "trends['trending_date'] = pd.to_datetime(trends['trending_date'])\n",
    "trends['publishedAt'] = pd.to_datetime(trends['publishedAt'])"
   ]
  },
  {
   "cell_type": "code",
   "execution_count": 113,
   "metadata": {},
   "outputs": [],
   "source": [
    "trends.fillna('Empty', inplace = True)"
   ]
  },
  {
   "cell_type": "markdown",
   "metadata": {},
   "source": [
    "### Feature 1: Likes to Dislikes Ratio"
   ]
  },
  {
   "cell_type": "code",
   "execution_count": 114,
   "metadata": {},
   "outputs": [],
   "source": [
    "trends['likes_to_dislikes'] = trends['likes'] / trends['dislikes']"
   ]
  },
  {
   "cell_type": "code",
   "execution_count": 115,
   "metadata": {},
   "outputs": [
    {
     "data": {
      "text/plain": [
       "count   22248.00000\n",
       "mean       80.11951\n",
       "std        83.58158\n",
       "min         0.13961\n",
       "25%        30.72792\n",
       "50%        58.27218\n",
       "75%        99.91116\n",
       "max      1659.80000\n",
       "Name: likes_to_dislikes, dtype: float64"
      ]
     },
     "execution_count": 115,
     "metadata": {},
     "output_type": "execute_result"
    }
   ],
   "source": [
    "trends['likes_to_dislikes'].describe()"
   ]
  },
  {
   "cell_type": "code",
   "execution_count": 116,
   "metadata": {},
   "outputs": [
    {
     "data": {
      "text/html": [
       "<div>\n",
       "<style scoped>\n",
       "    .dataframe tbody tr th:only-of-type {\n",
       "        vertical-align: middle;\n",
       "    }\n",
       "\n",
       "    .dataframe tbody tr th {\n",
       "        vertical-align: top;\n",
       "    }\n",
       "\n",
       "    .dataframe thead th {\n",
       "        text-align: right;\n",
       "    }\n",
       "</style>\n",
       "<table border=\"1\" class=\"dataframe\">\n",
       "  <thead>\n",
       "    <tr style=\"text-align: right;\">\n",
       "      <th></th>\n",
       "      <th>video_id</th>\n",
       "      <th>title</th>\n",
       "      <th>publishedAt</th>\n",
       "      <th>channelId</th>\n",
       "      <th>channelTitle</th>\n",
       "      <th>categoryId</th>\n",
       "      <th>trending_date</th>\n",
       "      <th>tags</th>\n",
       "      <th>view_count</th>\n",
       "      <th>likes</th>\n",
       "      <th>dislikes</th>\n",
       "      <th>comment_count</th>\n",
       "      <th>thumbnail_link</th>\n",
       "      <th>comments_disabled</th>\n",
       "      <th>ratings_disabled</th>\n",
       "      <th>description</th>\n",
       "      <th>likes_to_dislikes</th>\n",
       "    </tr>\n",
       "  </thead>\n",
       "  <tbody>\n",
       "    <tr>\n",
       "      <th>14088</th>\n",
       "      <td>NEpKlsUw9XU</td>\n",
       "      <td>ghost + guest 👻🎶</td>\n",
       "      <td>2020-10-19</td>\n",
       "      <td>UCdkkQvJoB0kGgYHCYwSkdww</td>\n",
       "      <td>Louie Zong</td>\n",
       "      <td>1</td>\n",
       "      <td>2020-10-21</td>\n",
       "      <td>[None]</td>\n",
       "      <td>188256</td>\n",
       "      <td>66392</td>\n",
       "      <td>40</td>\n",
       "      <td>2961</td>\n",
       "      <td>https://i.ytimg.com/vi/NEpKlsUw9XU/default.jpg</td>\n",
       "      <td>False</td>\n",
       "      <td>False</td>\n",
       "      <td>yes! they are back! and with a new friend!</td>\n",
       "      <td>1659.80000</td>\n",
       "    </tr>\n",
       "  </tbody>\n",
       "</table>\n",
       "</div>"
      ],
      "text/plain": [
       "          video_id             title publishedAt                 channelId  \\\n",
       "14088  NEpKlsUw9XU  ghost + guest 👻🎶  2020-10-19  UCdkkQvJoB0kGgYHCYwSkdww   \n",
       "\n",
       "      channelTitle  categoryId trending_date    tags  view_count  likes  \\\n",
       "14088   Louie Zong           1    2020-10-21  [None]      188256  66392   \n",
       "\n",
       "       dislikes  comment_count  \\\n",
       "14088        40           2961   \n",
       "\n",
       "                                       thumbnail_link  comments_disabled  \\\n",
       "14088  https://i.ytimg.com/vi/NEpKlsUw9XU/default.jpg              False   \n",
       "\n",
       "       ratings_disabled                                 description  \\\n",
       "14088             False  yes! they are back! and with a new friend!   \n",
       "\n",
       "       likes_to_dislikes  \n",
       "14088         1659.80000  "
      ]
     },
     "execution_count": 116,
     "metadata": {},
     "output_type": "execute_result"
    }
   ],
   "source": [
    "trends[trends['likes_to_dislikes'] == 1659.80000]"
   ]
  },
  {
   "cell_type": "markdown",
   "metadata": {},
   "source": [
    "This video had a really good ratio, but the view count wasn't very high compared to other videos."
   ]
  },
  {
   "cell_type": "markdown",
   "metadata": {},
   "source": [
    "### Feature 2: Time to trending"
   ]
  },
  {
   "cell_type": "code",
   "execution_count": 117,
   "metadata": {},
   "outputs": [],
   "source": [
    "# How long does it generally take for a video to become viral\n",
    "trends['time_to_trend'] = trends['trending_date'] - trends['publishedAt']"
   ]
  },
  {
   "cell_type": "code",
   "execution_count": 118,
   "metadata": {},
   "outputs": [
    {
     "data": {
      "text/plain": [
       "count                     22400\n",
       "mean     3 days 11:04:08.142857\n",
       "std      2 days 02:47:55.029928\n",
       "min             0 days 00:00:00\n",
       "25%             2 days 00:00:00\n",
       "50%             3 days 00:00:00\n",
       "75%             5 days 00:00:00\n",
       "max            34 days 00:00:00\n",
       "Name: time_to_trend, dtype: object"
      ]
     },
     "execution_count": 118,
     "metadata": {},
     "output_type": "execute_result"
    }
   ],
   "source": [
    "trends['time_to_trend'].describe()"
   ]
  },
  {
   "cell_type": "code",
   "execution_count": 119,
   "metadata": {},
   "outputs": [
    {
     "data": {
      "text/html": [
       "<div>\n",
       "<style scoped>\n",
       "    .dataframe tbody tr th:only-of-type {\n",
       "        vertical-align: middle;\n",
       "    }\n",
       "\n",
       "    .dataframe tbody tr th {\n",
       "        vertical-align: top;\n",
       "    }\n",
       "\n",
       "    .dataframe thead th {\n",
       "        text-align: right;\n",
       "    }\n",
       "</style>\n",
       "<table border=\"1\" class=\"dataframe\">\n",
       "  <thead>\n",
       "    <tr style=\"text-align: right;\">\n",
       "      <th></th>\n",
       "      <th>video_id</th>\n",
       "      <th>title</th>\n",
       "      <th>publishedAt</th>\n",
       "      <th>channelId</th>\n",
       "      <th>channelTitle</th>\n",
       "      <th>categoryId</th>\n",
       "      <th>trending_date</th>\n",
       "      <th>tags</th>\n",
       "      <th>view_count</th>\n",
       "      <th>likes</th>\n",
       "      <th>dislikes</th>\n",
       "      <th>comment_count</th>\n",
       "      <th>thumbnail_link</th>\n",
       "      <th>comments_disabled</th>\n",
       "      <th>ratings_disabled</th>\n",
       "      <th>description</th>\n",
       "      <th>likes_to_dislikes</th>\n",
       "      <th>time_to_trend</th>\n",
       "    </tr>\n",
       "  </thead>\n",
       "  <tbody>\n",
       "    <tr>\n",
       "      <th>20995</th>\n",
       "      <td>Z-pdaEa2XC8</td>\n",
       "      <td>iPad Air — Boiiing</td>\n",
       "      <td>2020-10-23</td>\n",
       "      <td>UCE5_hf5ONW6_qy9ShfYfB4w</td>\n",
       "      <td>Apple Canada</td>\n",
       "      <td>28</td>\n",
       "      <td>2020-11-26</td>\n",
       "      <td>apple|apple ipad|ipad|ipad air|apple ipad air|...</td>\n",
       "      <td>1826775</td>\n",
       "      <td>1535</td>\n",
       "      <td>650</td>\n",
       "      <td>0</td>\n",
       "      <td>https://i.ytimg.com/vi/Z-pdaEa2XC8/default.jpg</td>\n",
       "      <td>True</td>\n",
       "      <td>False</td>\n",
       "      <td>Introducing iPad Air. Featuring an all-screen ...</td>\n",
       "      <td>2.36154</td>\n",
       "      <td>34 days</td>\n",
       "    </tr>\n",
       "  </tbody>\n",
       "</table>\n",
       "</div>"
      ],
      "text/plain": [
       "          video_id               title publishedAt                 channelId  \\\n",
       "20995  Z-pdaEa2XC8  iPad Air — Boiiing  2020-10-23  UCE5_hf5ONW6_qy9ShfYfB4w   \n",
       "\n",
       "       channelTitle  categoryId trending_date  \\\n",
       "20995  Apple Canada          28    2020-11-26   \n",
       "\n",
       "                                                    tags  view_count  likes  \\\n",
       "20995  apple|apple ipad|ipad|ipad air|apple ipad air|...     1826775   1535   \n",
       "\n",
       "       dislikes  comment_count  \\\n",
       "20995       650              0   \n",
       "\n",
       "                                       thumbnail_link  comments_disabled  \\\n",
       "20995  https://i.ytimg.com/vi/Z-pdaEa2XC8/default.jpg               True   \n",
       "\n",
       "       ratings_disabled                                        description  \\\n",
       "20995             False  Introducing iPad Air. Featuring an all-screen ...   \n",
       "\n",
       "       likes_to_dislikes time_to_trend  \n",
       "20995            2.36154       34 days  "
      ]
     },
     "execution_count": 119,
     "metadata": {},
     "output_type": "execute_result"
    }
   ],
   "source": [
    "# Quick look at data with 34 days till trend\n",
    "trends[trends['time_to_trend'] == '34 days']"
   ]
  },
  {
   "cell_type": "markdown",
   "metadata": {},
   "source": [
    "This is very interesting, the Apple video only started trending on Thanksgiving, maybe this serves as an indication for marketing technology. The iPad also gained traction around Black Friday (maybe there was a deal)"
   ]
  },
  {
   "cell_type": "markdown",
   "metadata": {},
   "source": [
    "### Feature 3: Youtube Link"
   ]
  },
  {
   "cell_type": "code",
   "execution_count": 120,
   "metadata": {},
   "outputs": [],
   "source": [
    "# The video_id represents the youtube link, so we can feature engineer it in\n",
    "trends['youtube_link'] = 'https://www.youtube.com/watch?v=' + trends['video_id']"
   ]
  },
  {
   "cell_type": "markdown",
   "metadata": {},
   "source": [
    "### Feature 4: No Tags"
   ]
  },
  {
   "cell_type": "code",
   "execution_count": 121,
   "metadata": {},
   "outputs": [],
   "source": [
    "trends['no_description'] = trends['description'].apply(lambda x: 1 if x == 'Empty' else 0)"
   ]
  },
  {
   "cell_type": "code",
   "execution_count": 124,
   "metadata": {},
   "outputs": [
    {
     "data": {
      "text/html": [
       "<div>\n",
       "<style scoped>\n",
       "    .dataframe tbody tr th:only-of-type {\n",
       "        vertical-align: middle;\n",
       "    }\n",
       "\n",
       "    .dataframe tbody tr th {\n",
       "        vertical-align: top;\n",
       "    }\n",
       "\n",
       "    .dataframe thead th {\n",
       "        text-align: right;\n",
       "    }\n",
       "</style>\n",
       "<table border=\"1\" class=\"dataframe\">\n",
       "  <thead>\n",
       "    <tr style=\"text-align: right;\">\n",
       "      <th></th>\n",
       "      <th>video_id</th>\n",
       "      <th>title</th>\n",
       "      <th>publishedAt</th>\n",
       "      <th>channelId</th>\n",
       "      <th>channelTitle</th>\n",
       "      <th>categoryId</th>\n",
       "      <th>trending_date</th>\n",
       "      <th>tags</th>\n",
       "      <th>view_count</th>\n",
       "      <th>likes</th>\n",
       "      <th>dislikes</th>\n",
       "      <th>comment_count</th>\n",
       "      <th>thumbnail_link</th>\n",
       "      <th>comments_disabled</th>\n",
       "      <th>ratings_disabled</th>\n",
       "      <th>description</th>\n",
       "      <th>likes_to_dislikes</th>\n",
       "      <th>time_to_trend</th>\n",
       "      <th>youtube_link</th>\n",
       "      <th>no_description</th>\n",
       "    </tr>\n",
       "  </thead>\n",
       "  <tbody>\n",
       "    <tr>\n",
       "      <th>90</th>\n",
       "      <td>yyXGTANms4g</td>\n",
       "      <td>BENEFIT PAPA</td>\n",
       "      <td>2020-08-11</td>\n",
       "      <td>UCxAkiUiL3KnMl0BIFBv6xxA</td>\n",
       "      <td>Mr Macaroni</td>\n",
       "      <td>24</td>\n",
       "      <td>2020-08-12</td>\n",
       "      <td>[None]</td>\n",
       "      <td>121898</td>\n",
       "      <td>8795</td>\n",
       "      <td>60</td>\n",
       "      <td>1205</td>\n",
       "      <td>https://i.ytimg.com/vi/yyXGTANms4g/default.jpg</td>\n",
       "      <td>False</td>\n",
       "      <td>False</td>\n",
       "      <td>Empty</td>\n",
       "      <td>146.58333</td>\n",
       "      <td>1 days</td>\n",
       "      <td>https://www.youtube.com/watch?v=yyXGTANms4g</td>\n",
       "      <td>1</td>\n",
       "    </tr>\n",
       "    <tr>\n",
       "      <th>222</th>\n",
       "      <td>NSuaUok-wTY</td>\n",
       "      <td>[1147] Locksmith Says My Videos Are BS... Lose...</td>\n",
       "      <td>2020-08-12</td>\n",
       "      <td>UCm9K6rby98W8JigLoZOh6FQ</td>\n",
       "      <td>LockPickingLawyer</td>\n",
       "      <td>27</td>\n",
       "      <td>2020-08-13</td>\n",
       "      <td>Lock|picking</td>\n",
       "      <td>422963</td>\n",
       "      <td>62940</td>\n",
       "      <td>168</td>\n",
       "      <td>7301</td>\n",
       "      <td>https://i.ytimg.com/vi/NSuaUok-wTY/default.jpg</td>\n",
       "      <td>False</td>\n",
       "      <td>False</td>\n",
       "      <td>Empty</td>\n",
       "      <td>374.64286</td>\n",
       "      <td>1 days</td>\n",
       "      <td>https://www.youtube.com/watch?v=NSuaUok-wTY</td>\n",
       "      <td>1</td>\n",
       "    </tr>\n",
       "    <tr>\n",
       "      <th>317</th>\n",
       "      <td>yyXGTANms4g</td>\n",
       "      <td>BENEFIT PAPA</td>\n",
       "      <td>2020-08-11</td>\n",
       "      <td>UCxAkiUiL3KnMl0BIFBv6xxA</td>\n",
       "      <td>Mr Macaroni</td>\n",
       "      <td>24</td>\n",
       "      <td>2020-08-13</td>\n",
       "      <td>[None]</td>\n",
       "      <td>150314</td>\n",
       "      <td>9737</td>\n",
       "      <td>65</td>\n",
       "      <td>1282</td>\n",
       "      <td>https://i.ytimg.com/vi/yyXGTANms4g/default.jpg</td>\n",
       "      <td>False</td>\n",
       "      <td>False</td>\n",
       "      <td>Empty</td>\n",
       "      <td>149.80000</td>\n",
       "      <td>2 days</td>\n",
       "      <td>https://www.youtube.com/watch?v=yyXGTANms4g</td>\n",
       "      <td>1</td>\n",
       "    </tr>\n",
       "    <tr>\n",
       "      <th>445</th>\n",
       "      <td>NSuaUok-wTY</td>\n",
       "      <td>[1147] Locksmith Says My Videos Are BS... Lose...</td>\n",
       "      <td>2020-08-12</td>\n",
       "      <td>UCm9K6rby98W8JigLoZOh6FQ</td>\n",
       "      <td>LockPickingLawyer</td>\n",
       "      <td>27</td>\n",
       "      <td>2020-08-14</td>\n",
       "      <td>Lock|picking</td>\n",
       "      <td>511773</td>\n",
       "      <td>69611</td>\n",
       "      <td>214</td>\n",
       "      <td>7837</td>\n",
       "      <td>https://i.ytimg.com/vi/NSuaUok-wTY/default.jpg</td>\n",
       "      <td>False</td>\n",
       "      <td>False</td>\n",
       "      <td>Empty</td>\n",
       "      <td>325.28505</td>\n",
       "      <td>2 days</td>\n",
       "      <td>https://www.youtube.com/watch?v=NSuaUok-wTY</td>\n",
       "      <td>1</td>\n",
       "    </tr>\n",
       "    <tr>\n",
       "      <th>542</th>\n",
       "      <td>yyXGTANms4g</td>\n",
       "      <td>BENEFIT PAPA</td>\n",
       "      <td>2020-08-11</td>\n",
       "      <td>UCxAkiUiL3KnMl0BIFBv6xxA</td>\n",
       "      <td>Mr Macaroni</td>\n",
       "      <td>24</td>\n",
       "      <td>2020-08-14</td>\n",
       "      <td>[None]</td>\n",
       "      <td>173118</td>\n",
       "      <td>10486</td>\n",
       "      <td>74</td>\n",
       "      <td>1343</td>\n",
       "      <td>https://i.ytimg.com/vi/yyXGTANms4g/default.jpg</td>\n",
       "      <td>False</td>\n",
       "      <td>False</td>\n",
       "      <td>Empty</td>\n",
       "      <td>141.70270</td>\n",
       "      <td>3 days</td>\n",
       "      <td>https://www.youtube.com/watch?v=yyXGTANms4g</td>\n",
       "      <td>1</td>\n",
       "    </tr>\n",
       "  </tbody>\n",
       "</table>\n",
       "</div>"
      ],
      "text/plain": [
       "        video_id                                              title  \\\n",
       "90   yyXGTANms4g                                       BENEFIT PAPA   \n",
       "222  NSuaUok-wTY  [1147] Locksmith Says My Videos Are BS... Lose...   \n",
       "317  yyXGTANms4g                                       BENEFIT PAPA   \n",
       "445  NSuaUok-wTY  [1147] Locksmith Says My Videos Are BS... Lose...   \n",
       "542  yyXGTANms4g                                       BENEFIT PAPA   \n",
       "\n",
       "    publishedAt                 channelId       channelTitle  categoryId  \\\n",
       "90   2020-08-11  UCxAkiUiL3KnMl0BIFBv6xxA        Mr Macaroni          24   \n",
       "222  2020-08-12  UCm9K6rby98W8JigLoZOh6FQ  LockPickingLawyer          27   \n",
       "317  2020-08-11  UCxAkiUiL3KnMl0BIFBv6xxA        Mr Macaroni          24   \n",
       "445  2020-08-12  UCm9K6rby98W8JigLoZOh6FQ  LockPickingLawyer          27   \n",
       "542  2020-08-11  UCxAkiUiL3KnMl0BIFBv6xxA        Mr Macaroni          24   \n",
       "\n",
       "    trending_date          tags  view_count  likes  dislikes  comment_count  \\\n",
       "90     2020-08-12        [None]      121898   8795        60           1205   \n",
       "222    2020-08-13  Lock|picking      422963  62940       168           7301   \n",
       "317    2020-08-13        [None]      150314   9737        65           1282   \n",
       "445    2020-08-14  Lock|picking      511773  69611       214           7837   \n",
       "542    2020-08-14        [None]      173118  10486        74           1343   \n",
       "\n",
       "                                     thumbnail_link  comments_disabled  \\\n",
       "90   https://i.ytimg.com/vi/yyXGTANms4g/default.jpg              False   \n",
       "222  https://i.ytimg.com/vi/NSuaUok-wTY/default.jpg              False   \n",
       "317  https://i.ytimg.com/vi/yyXGTANms4g/default.jpg              False   \n",
       "445  https://i.ytimg.com/vi/NSuaUok-wTY/default.jpg              False   \n",
       "542  https://i.ytimg.com/vi/yyXGTANms4g/default.jpg              False   \n",
       "\n",
       "     ratings_disabled description  likes_to_dislikes time_to_trend  \\\n",
       "90              False       Empty          146.58333        1 days   \n",
       "222             False       Empty          374.64286        1 days   \n",
       "317             False       Empty          149.80000        2 days   \n",
       "445             False       Empty          325.28505        2 days   \n",
       "542             False       Empty          141.70270        3 days   \n",
       "\n",
       "                                    youtube_link  no_description  \n",
       "90   https://www.youtube.com/watch?v=yyXGTANms4g               1  \n",
       "222  https://www.youtube.com/watch?v=NSuaUok-wTY               1  \n",
       "317  https://www.youtube.com/watch?v=yyXGTANms4g               1  \n",
       "445  https://www.youtube.com/watch?v=NSuaUok-wTY               1  \n",
       "542  https://www.youtube.com/watch?v=yyXGTANms4g               1  "
      ]
     },
     "execution_count": 124,
     "metadata": {},
     "output_type": "execute_result"
    }
   ],
   "source": [
    "trends[trends['no_description'] == 1].head()"
   ]
  },
  {
   "cell_type": "code",
   "execution_count": null,
   "metadata": {},
   "outputs": [],
   "source": []
  }
 ],
 "metadata": {
  "kernelspec": {
   "display_name": "Python 3",
   "language": "python",
   "name": "python3"
  },
  "language_info": {
   "codemirror_mode": {
    "name": "ipython",
    "version": 3
   },
   "file_extension": ".py",
   "mimetype": "text/x-python",
   "name": "python",
   "nbconvert_exporter": "python",
   "pygments_lexer": "ipython3",
   "version": "3.8.3"
  }
 },
 "nbformat": 4,
 "nbformat_minor": 4
}
