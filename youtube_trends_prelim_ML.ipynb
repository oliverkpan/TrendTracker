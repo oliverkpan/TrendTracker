{
 "cells": [
  {
   "cell_type": "markdown",
   "metadata": {},
   "source": [
    "# TrendTracker: Exploring Trending Youtube Videos in Canada"
   ]
  },
  {
   "cell_type": "markdown",
   "metadata": {},
   "source": [
    "We can now take the features we created and construct preliminary machine learning models. The target variable will be a feature we created, which was views per date until trending."
   ]
  },
  {
   "cell_type": "markdown",
   "metadata": {},
   "source": [
    "### Import Libraries and Data"
   ]
  },
  {
   "cell_type": "code",
   "execution_count": 1,
   "metadata": {},
   "outputs": [],
   "source": [
    "import pandas as pd\n",
    "import numpy as np\n",
    "import matplotlib.pyplot as plt\n",
    "import seaborn as sns\n",
    "import datetime as dt"
   ]
  },
  {
   "cell_type": "code",
   "execution_count": 2,
   "metadata": {},
   "outputs": [],
   "source": [
    "# Change format\n",
    "pd.options.display.float_format = '{:.12f}'.format"
   ]
  },
  {
   "cell_type": "code",
   "execution_count": 3,
   "metadata": {},
   "outputs": [],
   "source": [
    "# File name represents most recent update\n",
    "file = r'/Users/OliverPan/Desktop/youtube_data/trend_features.csv'"
   ]
  },
  {
   "cell_type": "code",
   "execution_count": 4,
   "metadata": {},
   "outputs": [
    {
     "name": "stderr",
     "output_type": "stream",
     "text": [
      "/Users/oliverpan/opt/anaconda3/lib/python3.8/site-packages/IPython/core/interactiveshell.py:3071: DtypeWarning: Columns (1,2,3,4,5,6,7,8,12,13,14,15,18) have mixed types.Specify dtype option on import or set low_memory=False.\n",
      "  has_raised = await self.run_ast_nodes(code_ast.body, cell_name,\n"
     ]
    }
   ],
   "source": [
    "model_features = pd.read_csv(file)"
   ]
  },
  {
   "cell_type": "code",
   "execution_count": 5,
   "metadata": {},
   "outputs": [
    {
     "data": {
      "text/html": [
       "<div>\n",
       "<style scoped>\n",
       "    .dataframe tbody tr th:only-of-type {\n",
       "        vertical-align: middle;\n",
       "    }\n",
       "\n",
       "    .dataframe tbody tr th {\n",
       "        vertical-align: top;\n",
       "    }\n",
       "\n",
       "    .dataframe thead th {\n",
       "        text-align: right;\n",
       "    }\n",
       "</style>\n",
       "<table border=\"1\" class=\"dataframe\">\n",
       "  <thead>\n",
       "    <tr style=\"text-align: right;\">\n",
       "      <th></th>\n",
       "      <th>video_id</th>\n",
       "      <th>title</th>\n",
       "      <th>publishedAt</th>\n",
       "      <th>channelId</th>\n",
       "      <th>channelTitle</th>\n",
       "      <th>categoryId</th>\n",
       "      <th>trending_date</th>\n",
       "      <th>tags</th>\n",
       "      <th>view_count</th>\n",
       "      <th>likes</th>\n",
       "      <th>...</th>\n",
       "      <th>comments_disabled</th>\n",
       "      <th>ratings_disabled</th>\n",
       "      <th>description</th>\n",
       "      <th>likes_to_dislikes</th>\n",
       "      <th>time_to_trend</th>\n",
       "      <th>youtube_link</th>\n",
       "      <th>no_description</th>\n",
       "      <th>views_per_date</th>\n",
       "      <th>num_trending</th>\n",
       "      <th>num_per_day</th>\n",
       "    </tr>\n",
       "  </thead>\n",
       "  <tbody>\n",
       "    <tr>\n",
       "      <th>0</th>\n",
       "      <td>KX06ksuS6Xo</td>\n",
       "      <td>Diljit Dosanjh: CLASH (Official) Music Video |...</td>\n",
       "      <td>2020-08-11</td>\n",
       "      <td>UCZRdNleCgW-BGUJf-bbjzQg</td>\n",
       "      <td>Diljit Dosanjh</td>\n",
       "      <td>10.000000000000</td>\n",
       "      <td>2020-08-12</td>\n",
       "      <td>clash diljit dosanjh|diljit dosanjh|diljit dos...</td>\n",
       "      <td>9140911.000000000000</td>\n",
       "      <td>296541.000000000000</td>\n",
       "      <td>...</td>\n",
       "      <td>False</td>\n",
       "      <td>False</td>\n",
       "      <td>CLASH official music video performed by DILJIT...</td>\n",
       "      <td>47.983980582524</td>\n",
       "      <td>1.000000000000</td>\n",
       "      <td>https://www.youtube.com/watch?v=KX06ksuS6Xo</td>\n",
       "      <td>0.000000000000</td>\n",
       "      <td>9140911.000000000000</td>\n",
       "      <td>18.000000000000</td>\n",
       "      <td>230.000000000000</td>\n",
       "    </tr>\n",
       "    <tr>\n",
       "      <th>1</th>\n",
       "      <td>J78aPJ3VyNs</td>\n",
       "      <td>I left youtube for a month and THIS is what ha...</td>\n",
       "      <td>2020-08-11</td>\n",
       "      <td>UCYzPXprvl5Y-Sf0g4vX-m6g</td>\n",
       "      <td>jacksepticeye</td>\n",
       "      <td>24.000000000000</td>\n",
       "      <td>2020-08-12</td>\n",
       "      <td>jacksepticeye|funny|funny meme|memes|jacksepti...</td>\n",
       "      <td>2038853.000000000000</td>\n",
       "      <td>353797.000000000000</td>\n",
       "      <td>...</td>\n",
       "      <td>False</td>\n",
       "      <td>False</td>\n",
       "      <td>I left youtube for a month and this is what ha...</td>\n",
       "      <td>134.625951293759</td>\n",
       "      <td>1.000000000000</td>\n",
       "      <td>https://www.youtube.com/watch?v=J78aPJ3VyNs</td>\n",
       "      <td>0.000000000000</td>\n",
       "      <td>2038853.000000000000</td>\n",
       "      <td>11.000000000000</td>\n",
       "      <td>230.000000000000</td>\n",
       "    </tr>\n",
       "    <tr>\n",
       "      <th>2</th>\n",
       "      <td>M9Pmf9AB4Mo</td>\n",
       "      <td>Apex Legends | Stories from the Outlands – “Th...</td>\n",
       "      <td>2020-08-11</td>\n",
       "      <td>UC0ZV6M2THA81QT9hrVWJG3A</td>\n",
       "      <td>Apex Legends</td>\n",
       "      <td>20.000000000000</td>\n",
       "      <td>2020-08-12</td>\n",
       "      <td>Apex Legends|Apex Legends characters|new Apex ...</td>\n",
       "      <td>2381688.000000000000</td>\n",
       "      <td>146740.000000000000</td>\n",
       "      <td>...</td>\n",
       "      <td>False</td>\n",
       "      <td>False</td>\n",
       "      <td>While running her own modding shop, Ramya Pare...</td>\n",
       "      <td>52.519685039370</td>\n",
       "      <td>1.000000000000</td>\n",
       "      <td>https://www.youtube.com/watch?v=M9Pmf9AB4Mo</td>\n",
       "      <td>0.000000000000</td>\n",
       "      <td>2381688.000000000000</td>\n",
       "      <td>54.000000000000</td>\n",
       "      <td>230.000000000000</td>\n",
       "    </tr>\n",
       "    <tr>\n",
       "      <th>3</th>\n",
       "      <td>3C66w5Z0ixs</td>\n",
       "      <td>I ASKED HER TO BE MY GIRLFRIEND...</td>\n",
       "      <td>2020-08-11</td>\n",
       "      <td>UCvtRTOMP2TqYqu51xNrqAzg</td>\n",
       "      <td>Brawadis</td>\n",
       "      <td>22.000000000000</td>\n",
       "      <td>2020-08-12</td>\n",
       "      <td>brawadis|prank|basketball|skits|ghost|funny vi...</td>\n",
       "      <td>1514614.000000000000</td>\n",
       "      <td>156914.000000000000</td>\n",
       "      <td>...</td>\n",
       "      <td>False</td>\n",
       "      <td>False</td>\n",
       "      <td>SUBSCRIBE to BRAWADIS ▶ http://bit.ly/Subscrib...</td>\n",
       "      <td>26.790848557282</td>\n",
       "      <td>1.000000000000</td>\n",
       "      <td>https://www.youtube.com/watch?v=3C66w5Z0ixs</td>\n",
       "      <td>0.000000000000</td>\n",
       "      <td>1514614.000000000000</td>\n",
       "      <td>12.000000000000</td>\n",
       "      <td>230.000000000000</td>\n",
       "    </tr>\n",
       "    <tr>\n",
       "      <th>4</th>\n",
       "      <td>VIUo6yapDbc</td>\n",
       "      <td>Ultimate DIY Home Movie Theater for The LaBran...</td>\n",
       "      <td>2020-08-11</td>\n",
       "      <td>UCDVPcEbVLQgLZX0Rt6jo34A</td>\n",
       "      <td>Mr. Kate</td>\n",
       "      <td>26.000000000000</td>\n",
       "      <td>2020-08-12</td>\n",
       "      <td>The LaBrant Family|DIY|Interior Design|Makeove...</td>\n",
       "      <td>1123889.000000000000</td>\n",
       "      <td>45803.000000000000</td>\n",
       "      <td>...</td>\n",
       "      <td>False</td>\n",
       "      <td>False</td>\n",
       "      <td>Transforming The LaBrant Family's empty white ...</td>\n",
       "      <td>47.513485477178</td>\n",
       "      <td>1.000000000000</td>\n",
       "      <td>https://www.youtube.com/watch?v=VIUo6yapDbc</td>\n",
       "      <td>0.000000000000</td>\n",
       "      <td>1123889.000000000000</td>\n",
       "      <td>11.000000000000</td>\n",
       "      <td>230.000000000000</td>\n",
       "    </tr>\n",
       "  </tbody>\n",
       "</table>\n",
       "<p>5 rows × 23 columns</p>\n",
       "</div>"
      ],
      "text/plain": [
       "      video_id                                              title publishedAt  \\\n",
       "0  KX06ksuS6Xo  Diljit Dosanjh: CLASH (Official) Music Video |...  2020-08-11   \n",
       "1  J78aPJ3VyNs  I left youtube for a month and THIS is what ha...  2020-08-11   \n",
       "2  M9Pmf9AB4Mo  Apex Legends | Stories from the Outlands – “Th...  2020-08-11   \n",
       "3  3C66w5Z0ixs                 I ASKED HER TO BE MY GIRLFRIEND...  2020-08-11   \n",
       "4  VIUo6yapDbc  Ultimate DIY Home Movie Theater for The LaBran...  2020-08-11   \n",
       "\n",
       "                  channelId    channelTitle      categoryId trending_date  \\\n",
       "0  UCZRdNleCgW-BGUJf-bbjzQg  Diljit Dosanjh 10.000000000000    2020-08-12   \n",
       "1  UCYzPXprvl5Y-Sf0g4vX-m6g   jacksepticeye 24.000000000000    2020-08-12   \n",
       "2  UC0ZV6M2THA81QT9hrVWJG3A    Apex Legends 20.000000000000    2020-08-12   \n",
       "3  UCvtRTOMP2TqYqu51xNrqAzg        Brawadis 22.000000000000    2020-08-12   \n",
       "4  UCDVPcEbVLQgLZX0Rt6jo34A        Mr. Kate 26.000000000000    2020-08-12   \n",
       "\n",
       "                                                tags           view_count  \\\n",
       "0  clash diljit dosanjh|diljit dosanjh|diljit dos... 9140911.000000000000   \n",
       "1  jacksepticeye|funny|funny meme|memes|jacksepti... 2038853.000000000000   \n",
       "2  Apex Legends|Apex Legends characters|new Apex ... 2381688.000000000000   \n",
       "3  brawadis|prank|basketball|skits|ghost|funny vi... 1514614.000000000000   \n",
       "4  The LaBrant Family|DIY|Interior Design|Makeove... 1123889.000000000000   \n",
       "\n",
       "                likes  ...  comments_disabled  ratings_disabled  \\\n",
       "0 296541.000000000000  ...              False             False   \n",
       "1 353797.000000000000  ...              False             False   \n",
       "2 146740.000000000000  ...              False             False   \n",
       "3 156914.000000000000  ...              False             False   \n",
       "4  45803.000000000000  ...              False             False   \n",
       "\n",
       "                                         description likes_to_dislikes  \\\n",
       "0  CLASH official music video performed by DILJIT...   47.983980582524   \n",
       "1  I left youtube for a month and this is what ha...  134.625951293759   \n",
       "2  While running her own modding shop, Ramya Pare...   52.519685039370   \n",
       "3  SUBSCRIBE to BRAWADIS ▶ http://bit.ly/Subscrib...   26.790848557282   \n",
       "4  Transforming The LaBrant Family's empty white ...   47.513485477178   \n",
       "\n",
       "   time_to_trend                                 youtube_link  no_description  \\\n",
       "0 1.000000000000  https://www.youtube.com/watch?v=KX06ksuS6Xo  0.000000000000   \n",
       "1 1.000000000000  https://www.youtube.com/watch?v=J78aPJ3VyNs  0.000000000000   \n",
       "2 1.000000000000  https://www.youtube.com/watch?v=M9Pmf9AB4Mo  0.000000000000   \n",
       "3 1.000000000000  https://www.youtube.com/watch?v=3C66w5Z0ixs  0.000000000000   \n",
       "4 1.000000000000  https://www.youtube.com/watch?v=VIUo6yapDbc  0.000000000000   \n",
       "\n",
       "        views_per_date    num_trending      num_per_day  \n",
       "0 9140911.000000000000 18.000000000000 230.000000000000  \n",
       "1 2038853.000000000000 11.000000000000 230.000000000000  \n",
       "2 2381688.000000000000 54.000000000000 230.000000000000  \n",
       "3 1514614.000000000000 12.000000000000 230.000000000000  \n",
       "4 1123889.000000000000 11.000000000000 230.000000000000  \n",
       "\n",
       "[5 rows x 23 columns]"
      ]
     },
     "execution_count": 5,
     "metadata": {},
     "output_type": "execute_result"
    }
   ],
   "source": [
    "model_features.head()"
   ]
  },
  {
   "cell_type": "code",
   "execution_count": 6,
   "metadata": {},
   "outputs": [
    {
     "data": {
      "text/plain": [
       "Index(['video_id', 'title', 'publishedAt', 'channelId', 'channelTitle',\n",
       "       'categoryId', 'trending_date', 'tags', 'view_count', 'likes',\n",
       "       'dislikes', 'comment_count', 'thumbnail_link', 'comments_disabled',\n",
       "       'ratings_disabled', 'description', 'likes_to_dislikes', 'time_to_trend',\n",
       "       'youtube_link', 'no_description', 'views_per_date', 'num_trending',\n",
       "       'num_per_day'],\n",
       "      dtype='object')"
      ]
     },
     "execution_count": 6,
     "metadata": {},
     "output_type": "execute_result"
    }
   ],
   "source": [
    "model_features.columns"
   ]
  },
  {
   "cell_type": "code",
   "execution_count": 7,
   "metadata": {},
   "outputs": [],
   "source": [
    "# Remove some variables temporarily\n",
    "model_features = model_features[['views_per_date', 'categoryId', 'view_count', 'likes', 'dislikes', 'comment_count', 'comments_disabled', 'ratings_disabled','likes_to_dislikes', 'time_to_trend', 'no_description', 'num_trending']]"
   ]
  },
  {
   "cell_type": "code",
   "execution_count": 8,
   "metadata": {},
   "outputs": [
    {
     "data": {
      "text/html": [
       "<div>\n",
       "<style scoped>\n",
       "    .dataframe tbody tr th:only-of-type {\n",
       "        vertical-align: middle;\n",
       "    }\n",
       "\n",
       "    .dataframe tbody tr th {\n",
       "        vertical-align: top;\n",
       "    }\n",
       "\n",
       "    .dataframe thead th {\n",
       "        text-align: right;\n",
       "    }\n",
       "</style>\n",
       "<table border=\"1\" class=\"dataframe\">\n",
       "  <thead>\n",
       "    <tr style=\"text-align: right;\">\n",
       "      <th></th>\n",
       "      <th>views_per_date</th>\n",
       "      <th>categoryId</th>\n",
       "      <th>view_count</th>\n",
       "      <th>likes</th>\n",
       "      <th>dislikes</th>\n",
       "      <th>comment_count</th>\n",
       "      <th>comments_disabled</th>\n",
       "      <th>ratings_disabled</th>\n",
       "      <th>likes_to_dislikes</th>\n",
       "      <th>time_to_trend</th>\n",
       "      <th>no_description</th>\n",
       "      <th>num_trending</th>\n",
       "    </tr>\n",
       "  </thead>\n",
       "  <tbody>\n",
       "    <tr>\n",
       "      <th>0</th>\n",
       "      <td>9140911.000000000000</td>\n",
       "      <td>10.000000000000</td>\n",
       "      <td>9140911.000000000000</td>\n",
       "      <td>296541.000000000000</td>\n",
       "      <td>6180.000000000000</td>\n",
       "      <td>30059.000000000000</td>\n",
       "      <td>False</td>\n",
       "      <td>False</td>\n",
       "      <td>47.983980582524</td>\n",
       "      <td>1.000000000000</td>\n",
       "      <td>0.000000000000</td>\n",
       "      <td>18.000000000000</td>\n",
       "    </tr>\n",
       "    <tr>\n",
       "      <th>1</th>\n",
       "      <td>2038853.000000000000</td>\n",
       "      <td>24.000000000000</td>\n",
       "      <td>2038853.000000000000</td>\n",
       "      <td>353797.000000000000</td>\n",
       "      <td>2628.000000000000</td>\n",
       "      <td>40222.000000000000</td>\n",
       "      <td>False</td>\n",
       "      <td>False</td>\n",
       "      <td>134.625951293759</td>\n",
       "      <td>1.000000000000</td>\n",
       "      <td>0.000000000000</td>\n",
       "      <td>11.000000000000</td>\n",
       "    </tr>\n",
       "    <tr>\n",
       "      <th>2</th>\n",
       "      <td>2381688.000000000000</td>\n",
       "      <td>20.000000000000</td>\n",
       "      <td>2381688.000000000000</td>\n",
       "      <td>146740.000000000000</td>\n",
       "      <td>2794.000000000000</td>\n",
       "      <td>16549.000000000000</td>\n",
       "      <td>False</td>\n",
       "      <td>False</td>\n",
       "      <td>52.519685039370</td>\n",
       "      <td>1.000000000000</td>\n",
       "      <td>0.000000000000</td>\n",
       "      <td>54.000000000000</td>\n",
       "    </tr>\n",
       "    <tr>\n",
       "      <th>3</th>\n",
       "      <td>1514614.000000000000</td>\n",
       "      <td>22.000000000000</td>\n",
       "      <td>1514614.000000000000</td>\n",
       "      <td>156914.000000000000</td>\n",
       "      <td>5857.000000000000</td>\n",
       "      <td>35331.000000000000</td>\n",
       "      <td>False</td>\n",
       "      <td>False</td>\n",
       "      <td>26.790848557282</td>\n",
       "      <td>1.000000000000</td>\n",
       "      <td>0.000000000000</td>\n",
       "      <td>12.000000000000</td>\n",
       "    </tr>\n",
       "    <tr>\n",
       "      <th>4</th>\n",
       "      <td>1123889.000000000000</td>\n",
       "      <td>26.000000000000</td>\n",
       "      <td>1123889.000000000000</td>\n",
       "      <td>45803.000000000000</td>\n",
       "      <td>964.000000000000</td>\n",
       "      <td>2198.000000000000</td>\n",
       "      <td>False</td>\n",
       "      <td>False</td>\n",
       "      <td>47.513485477178</td>\n",
       "      <td>1.000000000000</td>\n",
       "      <td>0.000000000000</td>\n",
       "      <td>11.000000000000</td>\n",
       "    </tr>\n",
       "  </tbody>\n",
       "</table>\n",
       "</div>"
      ],
      "text/plain": [
       "        views_per_date      categoryId           view_count  \\\n",
       "0 9140911.000000000000 10.000000000000 9140911.000000000000   \n",
       "1 2038853.000000000000 24.000000000000 2038853.000000000000   \n",
       "2 2381688.000000000000 20.000000000000 2381688.000000000000   \n",
       "3 1514614.000000000000 22.000000000000 1514614.000000000000   \n",
       "4 1123889.000000000000 26.000000000000 1123889.000000000000   \n",
       "\n",
       "                likes          dislikes      comment_count comments_disabled  \\\n",
       "0 296541.000000000000 6180.000000000000 30059.000000000000             False   \n",
       "1 353797.000000000000 2628.000000000000 40222.000000000000             False   \n",
       "2 146740.000000000000 2794.000000000000 16549.000000000000             False   \n",
       "3 156914.000000000000 5857.000000000000 35331.000000000000             False   \n",
       "4  45803.000000000000  964.000000000000  2198.000000000000             False   \n",
       "\n",
       "  ratings_disabled  likes_to_dislikes  time_to_trend  no_description  \\\n",
       "0            False    47.983980582524 1.000000000000  0.000000000000   \n",
       "1            False   134.625951293759 1.000000000000  0.000000000000   \n",
       "2            False    52.519685039370 1.000000000000  0.000000000000   \n",
       "3            False    26.790848557282 1.000000000000  0.000000000000   \n",
       "4            False    47.513485477178 1.000000000000  0.000000000000   \n",
       "\n",
       "     num_trending  \n",
       "0 18.000000000000  \n",
       "1 11.000000000000  \n",
       "2 54.000000000000  \n",
       "3 12.000000000000  \n",
       "4 11.000000000000  "
      ]
     },
     "execution_count": 8,
     "metadata": {},
     "output_type": "execute_result"
    }
   ],
   "source": [
    "model_features.head()"
   ]
  },
  {
   "cell_type": "code",
   "execution_count": 9,
   "metadata": {},
   "outputs": [],
   "source": [
    "# Change to categorical\n",
    "model_features['comments_disabled'] = model_features['comments_disabled'].astype('category').cat.codes\n",
    "model_features['ratings_disabled'] = model_features['ratings_disabled'].astype('category').cat.codes"
   ]
  },
  {
   "cell_type": "code",
   "execution_count": 10,
   "metadata": {},
   "outputs": [],
   "source": [
    "model_features = model_features.replace([np.inf, -np.inf], np.nan)\n",
    "model_features = model_features.dropna()"
   ]
  },
  {
   "cell_type": "code",
   "execution_count": 11,
   "metadata": {},
   "outputs": [
    {
     "data": {
      "text/html": [
       "<div>\n",
       "<style scoped>\n",
       "    .dataframe tbody tr th:only-of-type {\n",
       "        vertical-align: middle;\n",
       "    }\n",
       "\n",
       "    .dataframe tbody tr th {\n",
       "        vertical-align: top;\n",
       "    }\n",
       "\n",
       "    .dataframe thead th {\n",
       "        text-align: right;\n",
       "    }\n",
       "</style>\n",
       "<table border=\"1\" class=\"dataframe\">\n",
       "  <thead>\n",
       "    <tr style=\"text-align: right;\">\n",
       "      <th></th>\n",
       "      <th>views_per_date</th>\n",
       "      <th>categoryId</th>\n",
       "      <th>view_count</th>\n",
       "      <th>likes</th>\n",
       "      <th>dislikes</th>\n",
       "      <th>comment_count</th>\n",
       "      <th>comments_disabled</th>\n",
       "      <th>ratings_disabled</th>\n",
       "      <th>likes_to_dislikes</th>\n",
       "      <th>time_to_trend</th>\n",
       "      <th>no_description</th>\n",
       "      <th>num_trending</th>\n",
       "    </tr>\n",
       "  </thead>\n",
       "  <tbody>\n",
       "    <tr>\n",
       "      <th>0</th>\n",
       "      <td>9140911.000000000000</td>\n",
       "      <td>10.000000000000</td>\n",
       "      <td>9140911.000000000000</td>\n",
       "      <td>296541.000000000000</td>\n",
       "      <td>6180.000000000000</td>\n",
       "      <td>30059.000000000000</td>\n",
       "      <td>0</td>\n",
       "      <td>0</td>\n",
       "      <td>47.983980582524</td>\n",
       "      <td>1.000000000000</td>\n",
       "      <td>0.000000000000</td>\n",
       "      <td>18.000000000000</td>\n",
       "    </tr>\n",
       "    <tr>\n",
       "      <th>1</th>\n",
       "      <td>2038853.000000000000</td>\n",
       "      <td>24.000000000000</td>\n",
       "      <td>2038853.000000000000</td>\n",
       "      <td>353797.000000000000</td>\n",
       "      <td>2628.000000000000</td>\n",
       "      <td>40222.000000000000</td>\n",
       "      <td>0</td>\n",
       "      <td>0</td>\n",
       "      <td>134.625951293759</td>\n",
       "      <td>1.000000000000</td>\n",
       "      <td>0.000000000000</td>\n",
       "      <td>11.000000000000</td>\n",
       "    </tr>\n",
       "    <tr>\n",
       "      <th>2</th>\n",
       "      <td>2381688.000000000000</td>\n",
       "      <td>20.000000000000</td>\n",
       "      <td>2381688.000000000000</td>\n",
       "      <td>146740.000000000000</td>\n",
       "      <td>2794.000000000000</td>\n",
       "      <td>16549.000000000000</td>\n",
       "      <td>0</td>\n",
       "      <td>0</td>\n",
       "      <td>52.519685039370</td>\n",
       "      <td>1.000000000000</td>\n",
       "      <td>0.000000000000</td>\n",
       "      <td>54.000000000000</td>\n",
       "    </tr>\n",
       "    <tr>\n",
       "      <th>3</th>\n",
       "      <td>1514614.000000000000</td>\n",
       "      <td>22.000000000000</td>\n",
       "      <td>1514614.000000000000</td>\n",
       "      <td>156914.000000000000</td>\n",
       "      <td>5857.000000000000</td>\n",
       "      <td>35331.000000000000</td>\n",
       "      <td>0</td>\n",
       "      <td>0</td>\n",
       "      <td>26.790848557282</td>\n",
       "      <td>1.000000000000</td>\n",
       "      <td>0.000000000000</td>\n",
       "      <td>12.000000000000</td>\n",
       "    </tr>\n",
       "    <tr>\n",
       "      <th>4</th>\n",
       "      <td>1123889.000000000000</td>\n",
       "      <td>26.000000000000</td>\n",
       "      <td>1123889.000000000000</td>\n",
       "      <td>45803.000000000000</td>\n",
       "      <td>964.000000000000</td>\n",
       "      <td>2198.000000000000</td>\n",
       "      <td>0</td>\n",
       "      <td>0</td>\n",
       "      <td>47.513485477178</td>\n",
       "      <td>1.000000000000</td>\n",
       "      <td>0.000000000000</td>\n",
       "      <td>11.000000000000</td>\n",
       "    </tr>\n",
       "  </tbody>\n",
       "</table>\n",
       "</div>"
      ],
      "text/plain": [
       "        views_per_date      categoryId           view_count  \\\n",
       "0 9140911.000000000000 10.000000000000 9140911.000000000000   \n",
       "1 2038853.000000000000 24.000000000000 2038853.000000000000   \n",
       "2 2381688.000000000000 20.000000000000 2381688.000000000000   \n",
       "3 1514614.000000000000 22.000000000000 1514614.000000000000   \n",
       "4 1123889.000000000000 26.000000000000 1123889.000000000000   \n",
       "\n",
       "                likes          dislikes      comment_count  comments_disabled  \\\n",
       "0 296541.000000000000 6180.000000000000 30059.000000000000                  0   \n",
       "1 353797.000000000000 2628.000000000000 40222.000000000000                  0   \n",
       "2 146740.000000000000 2794.000000000000 16549.000000000000                  0   \n",
       "3 156914.000000000000 5857.000000000000 35331.000000000000                  0   \n",
       "4  45803.000000000000  964.000000000000  2198.000000000000                  0   \n",
       "\n",
       "   ratings_disabled  likes_to_dislikes  time_to_trend  no_description  \\\n",
       "0                 0    47.983980582524 1.000000000000  0.000000000000   \n",
       "1                 0   134.625951293759 1.000000000000  0.000000000000   \n",
       "2                 0    52.519685039370 1.000000000000  0.000000000000   \n",
       "3                 0    26.790848557282 1.000000000000  0.000000000000   \n",
       "4                 0    47.513485477178 1.000000000000  0.000000000000   \n",
       "\n",
       "     num_trending  \n",
       "0 18.000000000000  \n",
       "1 11.000000000000  \n",
       "2 54.000000000000  \n",
       "3 12.000000000000  \n",
       "4 11.000000000000  "
      ]
     },
     "execution_count": 11,
     "metadata": {},
     "output_type": "execute_result"
    }
   ],
   "source": [
    "model_features.head()"
   ]
  },
  {
   "cell_type": "code",
   "execution_count": 12,
   "metadata": {},
   "outputs": [
    {
     "data": {
      "text/html": [
       "<div>\n",
       "<style scoped>\n",
       "    .dataframe tbody tr th:only-of-type {\n",
       "        vertical-align: middle;\n",
       "    }\n",
       "\n",
       "    .dataframe tbody tr th {\n",
       "        vertical-align: top;\n",
       "    }\n",
       "\n",
       "    .dataframe thead th {\n",
       "        text-align: right;\n",
       "    }\n",
       "</style>\n",
       "<table border=\"1\" class=\"dataframe\">\n",
       "  <thead>\n",
       "    <tr style=\"text-align: right;\">\n",
       "      <th></th>\n",
       "      <th>views_per_date</th>\n",
       "      <th>likes</th>\n",
       "      <th>dislikes</th>\n",
       "      <th>comment_count</th>\n",
       "      <th>comments_disabled</th>\n",
       "      <th>ratings_disabled</th>\n",
       "      <th>likes_to_dislikes</th>\n",
       "      <th>time_to_trend</th>\n",
       "      <th>no_description</th>\n",
       "      <th>num_trending</th>\n",
       "    </tr>\n",
       "  </thead>\n",
       "  <tbody>\n",
       "    <tr>\n",
       "      <th>views_per_date</th>\n",
       "      <td>1.000000000000</td>\n",
       "      <td>0.779080381189</td>\n",
       "      <td>0.616313050851</td>\n",
       "      <td>0.676852624085</td>\n",
       "      <td>0.019298677606</td>\n",
       "      <td>nan</td>\n",
       "      <td>-0.030909781986</td>\n",
       "      <td>-0.073168621769</td>\n",
       "      <td>-0.012481064834</td>\n",
       "      <td>0.214460032749</td>\n",
       "    </tr>\n",
       "    <tr>\n",
       "      <th>likes</th>\n",
       "      <td>0.779080381189</td>\n",
       "      <td>1.000000000000</td>\n",
       "      <td>0.748775563577</td>\n",
       "      <td>0.806590779475</td>\n",
       "      <td>-0.013095701720</td>\n",
       "      <td>nan</td>\n",
       "      <td>0.038954693107</td>\n",
       "      <td>0.071613353579</td>\n",
       "      <td>-0.012123334160</td>\n",
       "      <td>0.199977165491</td>\n",
       "    </tr>\n",
       "    <tr>\n",
       "      <th>dislikes</th>\n",
       "      <td>0.616313050851</td>\n",
       "      <td>0.748775563577</td>\n",
       "      <td>1.000000000000</td>\n",
       "      <td>0.680323632489</td>\n",
       "      <td>0.013788642809</td>\n",
       "      <td>nan</td>\n",
       "      <td>-0.077446762858</td>\n",
       "      <td>0.067723030298</td>\n",
       "      <td>0.019699845046</td>\n",
       "      <td>0.102319592747</td>\n",
       "    </tr>\n",
       "    <tr>\n",
       "      <th>comment_count</th>\n",
       "      <td>0.676852624085</td>\n",
       "      <td>0.806590779475</td>\n",
       "      <td>0.680323632489</td>\n",
       "      <td>1.000000000000</td>\n",
       "      <td>-0.013502911671</td>\n",
       "      <td>nan</td>\n",
       "      <td>-0.010333377608</td>\n",
       "      <td>0.031083347050</td>\n",
       "      <td>-0.004824851062</td>\n",
       "      <td>0.103532964342</td>\n",
       "    </tr>\n",
       "    <tr>\n",
       "      <th>comments_disabled</th>\n",
       "      <td>0.019298677606</td>\n",
       "      <td>-0.013095701720</td>\n",
       "      <td>0.013788642809</td>\n",
       "      <td>-0.013502911671</td>\n",
       "      <td>1.000000000000</td>\n",
       "      <td>nan</td>\n",
       "      <td>-0.075133733840</td>\n",
       "      <td>0.041703138244</td>\n",
       "      <td>0.007746906275</td>\n",
       "      <td>-0.038365805091</td>\n",
       "    </tr>\n",
       "    <tr>\n",
       "      <th>ratings_disabled</th>\n",
       "      <td>nan</td>\n",
       "      <td>nan</td>\n",
       "      <td>nan</td>\n",
       "      <td>nan</td>\n",
       "      <td>nan</td>\n",
       "      <td>nan</td>\n",
       "      <td>nan</td>\n",
       "      <td>nan</td>\n",
       "      <td>nan</td>\n",
       "      <td>nan</td>\n",
       "    </tr>\n",
       "    <tr>\n",
       "      <th>likes_to_dislikes</th>\n",
       "      <td>-0.030909781986</td>\n",
       "      <td>0.038954693107</td>\n",
       "      <td>-0.077446762858</td>\n",
       "      <td>-0.010333377608</td>\n",
       "      <td>-0.075133733840</td>\n",
       "      <td>nan</td>\n",
       "      <td>1.000000000000</td>\n",
       "      <td>-0.075237169628</td>\n",
       "      <td>-0.010288188061</td>\n",
       "      <td>-0.066144561260</td>\n",
       "    </tr>\n",
       "    <tr>\n",
       "      <th>time_to_trend</th>\n",
       "      <td>-0.073168621769</td>\n",
       "      <td>0.071613353579</td>\n",
       "      <td>0.067723030298</td>\n",
       "      <td>0.031083347050</td>\n",
       "      <td>0.041703138244</td>\n",
       "      <td>nan</td>\n",
       "      <td>-0.075237169628</td>\n",
       "      <td>1.000000000000</td>\n",
       "      <td>0.105462327565</td>\n",
       "      <td>-0.017596674960</td>\n",
       "    </tr>\n",
       "    <tr>\n",
       "      <th>no_description</th>\n",
       "      <td>-0.012481064834</td>\n",
       "      <td>-0.012123334160</td>\n",
       "      <td>0.019699845046</td>\n",
       "      <td>-0.004824851062</td>\n",
       "      <td>0.007746906275</td>\n",
       "      <td>nan</td>\n",
       "      <td>-0.010288188061</td>\n",
       "      <td>0.105462327565</td>\n",
       "      <td>1.000000000000</td>\n",
       "      <td>-0.022317114646</td>\n",
       "    </tr>\n",
       "    <tr>\n",
       "      <th>num_trending</th>\n",
       "      <td>0.214460032749</td>\n",
       "      <td>0.199977165491</td>\n",
       "      <td>0.102319592747</td>\n",
       "      <td>0.103532964342</td>\n",
       "      <td>-0.038365805091</td>\n",
       "      <td>nan</td>\n",
       "      <td>-0.066144561260</td>\n",
       "      <td>-0.017596674960</td>\n",
       "      <td>-0.022317114646</td>\n",
       "      <td>1.000000000000</td>\n",
       "    </tr>\n",
       "  </tbody>\n",
       "</table>\n",
       "</div>"
      ],
      "text/plain": [
       "                   views_per_date           likes        dislikes  \\\n",
       "views_per_date     1.000000000000  0.779080381189  0.616313050851   \n",
       "likes              0.779080381189  1.000000000000  0.748775563577   \n",
       "dislikes           0.616313050851  0.748775563577  1.000000000000   \n",
       "comment_count      0.676852624085  0.806590779475  0.680323632489   \n",
       "comments_disabled  0.019298677606 -0.013095701720  0.013788642809   \n",
       "ratings_disabled              nan             nan             nan   \n",
       "likes_to_dislikes -0.030909781986  0.038954693107 -0.077446762858   \n",
       "time_to_trend     -0.073168621769  0.071613353579  0.067723030298   \n",
       "no_description    -0.012481064834 -0.012123334160  0.019699845046   \n",
       "num_trending       0.214460032749  0.199977165491  0.102319592747   \n",
       "\n",
       "                    comment_count  comments_disabled  ratings_disabled  \\\n",
       "views_per_date     0.676852624085     0.019298677606               nan   \n",
       "likes              0.806590779475    -0.013095701720               nan   \n",
       "dislikes           0.680323632489     0.013788642809               nan   \n",
       "comment_count      1.000000000000    -0.013502911671               nan   \n",
       "comments_disabled -0.013502911671     1.000000000000               nan   \n",
       "ratings_disabled              nan                nan               nan   \n",
       "likes_to_dislikes -0.010333377608    -0.075133733840               nan   \n",
       "time_to_trend      0.031083347050     0.041703138244               nan   \n",
       "no_description    -0.004824851062     0.007746906275               nan   \n",
       "num_trending       0.103532964342    -0.038365805091               nan   \n",
       "\n",
       "                   likes_to_dislikes   time_to_trend  no_description  \\\n",
       "views_per_date       -0.030909781986 -0.073168621769 -0.012481064834   \n",
       "likes                 0.038954693107  0.071613353579 -0.012123334160   \n",
       "dislikes             -0.077446762858  0.067723030298  0.019699845046   \n",
       "comment_count        -0.010333377608  0.031083347050 -0.004824851062   \n",
       "comments_disabled    -0.075133733840  0.041703138244  0.007746906275   \n",
       "ratings_disabled                 nan             nan             nan   \n",
       "likes_to_dislikes     1.000000000000 -0.075237169628 -0.010288188061   \n",
       "time_to_trend        -0.075237169628  1.000000000000  0.105462327565   \n",
       "no_description       -0.010288188061  0.105462327565  1.000000000000   \n",
       "num_trending         -0.066144561260 -0.017596674960 -0.022317114646   \n",
       "\n",
       "                     num_trending  \n",
       "views_per_date     0.214460032749  \n",
       "likes              0.199977165491  \n",
       "dislikes           0.102319592747  \n",
       "comment_count      0.103532964342  \n",
       "comments_disabled -0.038365805091  \n",
       "ratings_disabled              nan  \n",
       "likes_to_dislikes -0.066144561260  \n",
       "time_to_trend     -0.017596674960  \n",
       "no_description    -0.022317114646  \n",
       "num_trending       1.000000000000  "
      ]
     },
     "execution_count": 12,
     "metadata": {},
     "output_type": "execute_result"
    }
   ],
   "source": [
    "model_features.corr()"
   ]
  },
  {
   "cell_type": "markdown",
   "metadata": {},
   "source": [
    "### KMeans to create target variable"
   ]
  },
  {
   "cell_type": "markdown",
   "metadata": {},
   "source": [
    "I will use kmeans to put these variables into two groups, 1 being a \"successful\" trending video, and one that represents to other trending videos."
   ]
  },
  {
   "cell_type": "code",
   "execution_count": 13,
   "metadata": {},
   "outputs": [],
   "source": [
    "from sklearn.cluster import KMeans \n",
    "from sklearn import metrics "
   ]
  },
  {
   "cell_type": "code",
   "execution_count": 14,
   "metadata": {},
   "outputs": [
    {
     "data": {
      "text/plain": [
       "Text(0.5, 1.0, 'Elbow method on cluster_df')"
      ]
     },
     "execution_count": 14,
     "metadata": {},
     "output_type": "execute_result"
    },
    {
     "data": {
      "image/png": "[encoded data removed]",
      "text/plain": [
       "<Figure size 720x504 with 1 Axes>"
      ]
     },
     "metadata": {
      "needs_background": "light"
     },
     "output_type": "display_data"
    }
   ],
   "source": [
    "distortions = []\n",
    "\n",
    "K = range(1,10)\n",
    "for k in K:\n",
    "    kmeanModel = KMeans(n_clusters=k)\n",
    "    kmeanModel.fit(model_features)\n",
    "    distortions.append(kmeanModel.inertia_)\n",
    "    \n",
    "plt.figure(figsize=(10,7))\n",
    "plt.plot(K, distortions, 'bx-')\n",
    "plt.xlabel('k')\n",
    "plt.ylabel('Distortion')\n",
    "plt.title('Elbow method on cluster_df')"
   ]
  },
  {
   "cell_type": "markdown",
   "metadata": {},
   "source": [
    "Given the dataset, the elbow method suggests 2-3 groups, but due to our models we want to use, we will select 2."
   ]
  },
  {
   "cell_type": "code",
   "execution_count": 15,
   "metadata": {},
   "outputs": [],
   "source": [
    "kmeans = KMeans(n_clusters=2, random_state=0).fit(model_features)\n",
    "model_features['successful_trend'] = kmeans.labels_"
   ]
  },
  {
   "cell_type": "code",
   "execution_count": 16,
   "metadata": {},
   "outputs": [],
   "source": [
    "# Remove some variables temporarily\n",
    "model_features = model_features[['successful_trend', 'views_per_date', 'categoryId', 'view_count', 'likes', 'dislikes', 'comment_count', 'comments_disabled', 'ratings_disabled','time_to_trend', 'no_description', 'num_trending']]"
   ]
  },
  {
   "cell_type": "code",
   "execution_count": 17,
   "metadata": {},
   "outputs": [
    {
     "data": {
      "text/html": [
       "<div>\n",
       "<style scoped>\n",
       "    .dataframe tbody tr th:only-of-type {\n",
       "        vertical-align: middle;\n",
       "    }\n",
       "\n",
       "    .dataframe tbody tr th {\n",
       "        vertical-align: top;\n",
       "    }\n",
       "\n",
       "    .dataframe thead th {\n",
       "        text-align: right;\n",
       "    }\n",
       "</style>\n",
       "<table border=\"1\" class=\"dataframe\">\n",
       "  <thead>\n",
       "    <tr style=\"text-align: right;\">\n",
       "      <th></th>\n",
       "      <th>successful_trend</th>\n",
       "      <th>views_per_date</th>\n",
       "      <th>categoryId</th>\n",
       "      <th>view_count</th>\n",
       "      <th>likes</th>\n",
       "      <th>dislikes</th>\n",
       "      <th>comment_count</th>\n",
       "      <th>comments_disabled</th>\n",
       "      <th>ratings_disabled</th>\n",
       "      <th>time_to_trend</th>\n",
       "      <th>no_description</th>\n",
       "      <th>num_trending</th>\n",
       "    </tr>\n",
       "  </thead>\n",
       "  <tbody>\n",
       "    <tr>\n",
       "      <th>0</th>\n",
       "      <td>0</td>\n",
       "      <td>9140911.000000000000</td>\n",
       "      <td>10.000000000000</td>\n",
       "      <td>9140911.000000000000</td>\n",
       "      <td>296541.000000000000</td>\n",
       "      <td>6180.000000000000</td>\n",
       "      <td>30059.000000000000</td>\n",
       "      <td>0</td>\n",
       "      <td>0</td>\n",
       "      <td>1.000000000000</td>\n",
       "      <td>0.000000000000</td>\n",
       "      <td>18.000000000000</td>\n",
       "    </tr>\n",
       "    <tr>\n",
       "      <th>1</th>\n",
       "      <td>0</td>\n",
       "      <td>2038853.000000000000</td>\n",
       "      <td>24.000000000000</td>\n",
       "      <td>2038853.000000000000</td>\n",
       "      <td>353797.000000000000</td>\n",
       "      <td>2628.000000000000</td>\n",
       "      <td>40222.000000000000</td>\n",
       "      <td>0</td>\n",
       "      <td>0</td>\n",
       "      <td>1.000000000000</td>\n",
       "      <td>0.000000000000</td>\n",
       "      <td>11.000000000000</td>\n",
       "    </tr>\n",
       "    <tr>\n",
       "      <th>2</th>\n",
       "      <td>0</td>\n",
       "      <td>2381688.000000000000</td>\n",
       "      <td>20.000000000000</td>\n",
       "      <td>2381688.000000000000</td>\n",
       "      <td>146740.000000000000</td>\n",
       "      <td>2794.000000000000</td>\n",
       "      <td>16549.000000000000</td>\n",
       "      <td>0</td>\n",
       "      <td>0</td>\n",
       "      <td>1.000000000000</td>\n",
       "      <td>0.000000000000</td>\n",
       "      <td>54.000000000000</td>\n",
       "    </tr>\n",
       "    <tr>\n",
       "      <th>3</th>\n",
       "      <td>0</td>\n",
       "      <td>1514614.000000000000</td>\n",
       "      <td>22.000000000000</td>\n",
       "      <td>1514614.000000000000</td>\n",
       "      <td>156914.000000000000</td>\n",
       "      <td>5857.000000000000</td>\n",
       "      <td>35331.000000000000</td>\n",
       "      <td>0</td>\n",
       "      <td>0</td>\n",
       "      <td>1.000000000000</td>\n",
       "      <td>0.000000000000</td>\n",
       "      <td>12.000000000000</td>\n",
       "    </tr>\n",
       "    <tr>\n",
       "      <th>4</th>\n",
       "      <td>0</td>\n",
       "      <td>1123889.000000000000</td>\n",
       "      <td>26.000000000000</td>\n",
       "      <td>1123889.000000000000</td>\n",
       "      <td>45803.000000000000</td>\n",
       "      <td>964.000000000000</td>\n",
       "      <td>2198.000000000000</td>\n",
       "      <td>0</td>\n",
       "      <td>0</td>\n",
       "      <td>1.000000000000</td>\n",
       "      <td>0.000000000000</td>\n",
       "      <td>11.000000000000</td>\n",
       "    </tr>\n",
       "  </tbody>\n",
       "</table>\n",
       "</div>"
      ],
      "text/plain": [
       "   successful_trend       views_per_date      categoryId           view_count  \\\n",
       "0                 0 9140911.000000000000 10.000000000000 9140911.000000000000   \n",
       "1                 0 2038853.000000000000 24.000000000000 2038853.000000000000   \n",
       "2                 0 2381688.000000000000 20.000000000000 2381688.000000000000   \n",
       "3                 0 1514614.000000000000 22.000000000000 1514614.000000000000   \n",
       "4                 0 1123889.000000000000 26.000000000000 1123889.000000000000   \n",
       "\n",
       "                likes          dislikes      comment_count  comments_disabled  \\\n",
       "0 296541.000000000000 6180.000000000000 30059.000000000000                  0   \n",
       "1 353797.000000000000 2628.000000000000 40222.000000000000                  0   \n",
       "2 146740.000000000000 2794.000000000000 16549.000000000000                  0   \n",
       "3 156914.000000000000 5857.000000000000 35331.000000000000                  0   \n",
       "4  45803.000000000000  964.000000000000  2198.000000000000                  0   \n",
       "\n",
       "   ratings_disabled  time_to_trend  no_description    num_trending  \n",
       "0                 0 1.000000000000  0.000000000000 18.000000000000  \n",
       "1                 0 1.000000000000  0.000000000000 11.000000000000  \n",
       "2                 0 1.000000000000  0.000000000000 54.000000000000  \n",
       "3                 0 1.000000000000  0.000000000000 12.000000000000  \n",
       "4                 0 1.000000000000  0.000000000000 11.000000000000  "
      ]
     },
     "execution_count": 17,
     "metadata": {},
     "output_type": "execute_result"
    }
   ],
   "source": [
    "model_features.head()"
   ]
  },
  {
   "cell_type": "code",
   "execution_count": 18,
   "metadata": {},
   "outputs": [
    {
     "name": "stdout",
     "output_type": "stream",
     "text": [
      "<class 'pandas.core.frame.DataFrame'>\n",
      "Int64Index: 21153 entries, 0 to 688852\n",
      "Data columns (total 12 columns):\n",
      " #   Column             Non-Null Count  Dtype\n",
      "---  ------             --------------  -----\n",
      " 0   successful_trend   21153 non-null  int32\n",
      " 1   views_per_date     21153 non-null  int64\n",
      " 2   categoryId         21153 non-null  int64\n",
      " 3   view_count         21153 non-null  int64\n",
      " 4   likes              21153 non-null  int64\n",
      " 5   dislikes           21153 non-null  int64\n",
      " 6   comment_count      21153 non-null  int64\n",
      " 7   comments_disabled  21153 non-null  int8 \n",
      " 8   ratings_disabled   21153 non-null  int8 \n",
      " 9   time_to_trend      21153 non-null  int64\n",
      " 10  no_description     21153 non-null  int64\n",
      " 11  num_trending       21153 non-null  int64\n",
      "dtypes: int32(1), int64(9), int8(2)\n",
      "memory usage: 1.7 MB\n"
     ]
    }
   ],
   "source": [
    "model_features[['categoryId', 'view_count', 'views_per_date', 'likes', 'dislikes', 'comment_count', 'time_to_trend', 'no_description', 'num_trending']] = model_features[['categoryId', 'view_count', 'views_per_date', 'likes', 'dislikes', 'comment_count', 'time_to_trend', 'no_description', 'num_trending']].astype('int')\n",
    "model_features.info()"
   ]
  },
  {
   "cell_type": "markdown",
   "metadata": {},
   "source": [
    "### Baseline Model: Linear Regression w/o parameter tuning"
   ]
  },
  {
   "cell_type": "markdown",
   "metadata": {},
   "source": [
    "Note: We have a lot of colinearity between values so this model may be incorrect."
   ]
  },
  {
   "cell_type": "code",
   "execution_count": 19,
   "metadata": {},
   "outputs": [],
   "source": [
    "from sklearn.linear_model import LinearRegression\n",
    "from sklearn.model_selection import train_test_split"
   ]
  },
  {
   "cell_type": "code",
   "execution_count": 20,
   "metadata": {},
   "outputs": [
    {
     "data": {
      "text/plain": [
       "0    21115\n",
       "1       38\n",
       "Name: successful_trend, dtype: int64"
      ]
     },
     "execution_count": 20,
     "metadata": {},
     "output_type": "execute_result"
    }
   ],
   "source": [
    "model_features['successful_trend'].value_counts()"
   ]
  },
  {
   "cell_type": "code",
   "execution_count": 21,
   "metadata": {},
   "outputs": [],
   "source": [
    "model_features['successful_trend'] = model_features['successful_trend'].astype('category').cat.codes.astype('int')"
   ]
  },
  {
   "cell_type": "code",
   "execution_count": 22,
   "metadata": {},
   "outputs": [
    {
     "data": {
      "text/plain": [
       "0         0\n",
       "1         0\n",
       "2         0\n",
       "3         0\n",
       "4         0\n",
       "         ..\n",
       "688848    0\n",
       "688849    0\n",
       "688850    0\n",
       "688851    0\n",
       "688852    0\n",
       "Name: successful_trend, Length: 21153, dtype: int64"
      ]
     },
     "execution_count": 22,
     "metadata": {},
     "output_type": "execute_result"
    }
   ],
   "source": [
    "model_features['successful_trend'] "
   ]
  },
  {
   "cell_type": "markdown",
   "metadata": {},
   "source": [
    "Before we can test train split, we need to use SMOTE to sample the data. If we run linear regression, the model will overfit on the zeroes"
   ]
  },
  {
   "cell_type": "code",
   "execution_count": 23,
   "metadata": {},
   "outputs": [],
   "source": [
    "from imblearn.over_sampling import SMOTE\n",
    "sm = SMOTE(random_state=42)"
   ]
  },
  {
   "cell_type": "code",
   "execution_count": 24,
   "metadata": {},
   "outputs": [],
   "source": [
    "X = np.array(model_features.loc[:, model_features.columns != 'successful_trend'])\n",
    "y = np.array(model_features.loc[:, model_features.columns == 'successful_trend']).reshape(-1, 1)"
   ]
  },
  {
   "cell_type": "code",
   "execution_count": 25,
   "metadata": {},
   "outputs": [],
   "source": [
    "X_train, X_test, y_train, y_test = train_test_split(X, y, test_size=0.2, random_state=0)"
   ]
  },
  {
   "cell_type": "code",
   "execution_count": 26,
   "metadata": {},
   "outputs": [],
   "source": [
    "X_train, y_train = sm.fit_resample(X_train, y_train)"
   ]
  },
  {
   "cell_type": "code",
   "execution_count": 27,
   "metadata": {},
   "outputs": [
    {
     "data": {
      "text/plain": [
       "LinearRegression()"
      ]
     },
     "execution_count": 27,
     "metadata": {},
     "output_type": "execute_result"
    }
   ],
   "source": [
    "model = LinearRegression()\n",
    "model.fit(X_train,y_train)"
   ]
  },
  {
   "cell_type": "code",
   "execution_count": 28,
   "metadata": {},
   "outputs": [
    {
     "data": {
      "text/plain": [
       "array([ 8.25605339e-09, -2.80482527e-03,  1.48790744e-08, -7.22212081e-08,\n",
       "       -5.01624287e-07, -1.50874519e-07, -2.62244617e-02,  1.47451495e-17,\n",
       "       -3.19326561e-03, -1.80347028e-02,  3.47894800e-05])"
      ]
     },
     "execution_count": 28,
     "metadata": {},
     "output_type": "execute_result"
    }
   ],
   "source": [
    "feature_importance = model.coef_\n",
    "feature_importance"
   ]
  },
  {
   "cell_type": "markdown",
   "metadata": {},
   "source": [
    "We find errors due to the fact that the target variable was not binary. It looks like we need to re-evaluate our model. "
   ]
  }
 ],
 "metadata": {
  "kernelspec": {
   "display_name": "Python 3",
   "language": "python",
   "name": "python3"
  },
  "language_info": {
   "codemirror_mode": {
    "name": "ipython",
    "version": 3
   },
   "file_extension": ".py",
   "mimetype": "text/x-python",
   "name": "python",
   "nbconvert_exporter": "python",
   "pygments_lexer": "ipython3",
   "version": "3.8.3"
  }
 },
 "nbformat": 4,
 "nbformat_minor": 4
}
