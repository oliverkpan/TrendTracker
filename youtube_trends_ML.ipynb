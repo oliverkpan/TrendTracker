{
 "cells": [
  {
   "cell_type": "markdown",
   "metadata": {},
   "source": [
    "# TrendTracker: Exploring Trending Youtube Videos in Canada"
   ]
  },
  {
   "cell_type": "markdown",
   "metadata": {},
   "source": [
    "We can now take the features we created and construct preliminary machine learning models. The target variable will be a feature we created, which was views per date until trending."
   ]
  },
  {
   "cell_type": "markdown",
   "metadata": {},
   "source": [
    "### Import Libraries and Data"
   ]
  },
  {
   "cell_type": "code",
   "execution_count": 178,
   "metadata": {},
   "outputs": [],
   "source": [
    "import pandas as pd\n",
    "import numpy as np\n",
    "import matplotlib.pyplot as plt\n",
    "import seaborn as sns\n",
    "import datetime as dt\n",
    "from sklearn.metrics import mean_squared_error\n",
    "from math import sqrt"
   ]
  },
  {
   "cell_type": "code",
   "execution_count": 179,
   "metadata": {},
   "outputs": [],
   "source": [
    "# Change format\n",
    "pd.options.display.float_format = '{:.12f}'.format"
   ]
  },
  {
   "cell_type": "code",
   "execution_count": 180,
   "metadata": {},
   "outputs": [],
   "source": [
    "# File name represents most recent update\n",
    "file = r'/Users/OliverPan/Desktop/youtube_data/trend_features.csv'"
   ]
  },
  {
   "cell_type": "code",
   "execution_count": 181,
   "metadata": {},
   "outputs": [
    {
     "name": "stderr",
     "output_type": "stream",
     "text": [
      "/Users/oliverpan/opt/anaconda3/lib/python3.8/site-packages/IPython/core/interactiveshell.py:3071: DtypeWarning: Columns (1,2,3,4,5,6,7,8,12,13,14,15,18) have mixed types.Specify dtype option on import or set low_memory=False.\n",
      "  has_raised = await self.run_ast_nodes(code_ast.body, cell_name,\n"
     ]
    }
   ],
   "source": [
    "model_features = pd.read_csv(file)"
   ]
  },
  {
   "cell_type": "code",
   "execution_count": 182,
   "metadata": {},
   "outputs": [
    {
     "data": {
      "text/html": [
       "<div>\n",
       "<style scoped>\n",
       "    .dataframe tbody tr th:only-of-type {\n",
       "        vertical-align: middle;\n",
       "    }\n",
       "\n",
       "    .dataframe tbody tr th {\n",
       "        vertical-align: top;\n",
       "    }\n",
       "\n",
       "    .dataframe thead th {\n",
       "        text-align: right;\n",
       "    }\n",
       "</style>\n",
       "<table border=\"1\" class=\"dataframe\">\n",
       "  <thead>\n",
       "    <tr style=\"text-align: right;\">\n",
       "      <th></th>\n",
       "      <th>video_id</th>\n",
       "      <th>title</th>\n",
       "      <th>publishedAt</th>\n",
       "      <th>channelId</th>\n",
       "      <th>channelTitle</th>\n",
       "      <th>categoryId</th>\n",
       "      <th>trending_date</th>\n",
       "      <th>tags</th>\n",
       "      <th>view_count</th>\n",
       "      <th>likes</th>\n",
       "      <th>...</th>\n",
       "      <th>comments_disabled</th>\n",
       "      <th>ratings_disabled</th>\n",
       "      <th>description</th>\n",
       "      <th>likes_to_dislikes</th>\n",
       "      <th>time_to_trend</th>\n",
       "      <th>youtube_link</th>\n",
       "      <th>no_description</th>\n",
       "      <th>views_per_date</th>\n",
       "      <th>num_trending</th>\n",
       "      <th>num_per_day</th>\n",
       "    </tr>\n",
       "  </thead>\n",
       "  <tbody>\n",
       "    <tr>\n",
       "      <th>0</th>\n",
       "      <td>KX06ksuS6Xo</td>\n",
       "      <td>Diljit Dosanjh: CLASH (Official) Music Video |...</td>\n",
       "      <td>2020-08-11</td>\n",
       "      <td>UCZRdNleCgW-BGUJf-bbjzQg</td>\n",
       "      <td>Diljit Dosanjh</td>\n",
       "      <td>10.000000000000</td>\n",
       "      <td>2020-08-12</td>\n",
       "      <td>clash diljit dosanjh|diljit dosanjh|diljit dos...</td>\n",
       "      <td>9140911.000000000000</td>\n",
       "      <td>296541.000000000000</td>\n",
       "      <td>...</td>\n",
       "      <td>False</td>\n",
       "      <td>False</td>\n",
       "      <td>CLASH official music video performed by DILJIT...</td>\n",
       "      <td>47.983980582524</td>\n",
       "      <td>1.000000000000</td>\n",
       "      <td>https://www.youtube.com/watch?v=KX06ksuS6Xo</td>\n",
       "      <td>0.000000000000</td>\n",
       "      <td>9140911.000000000000</td>\n",
       "      <td>18.000000000000</td>\n",
       "      <td>230.000000000000</td>\n",
       "    </tr>\n",
       "    <tr>\n",
       "      <th>1</th>\n",
       "      <td>J78aPJ3VyNs</td>\n",
       "      <td>I left youtube for a month and THIS is what ha...</td>\n",
       "      <td>2020-08-11</td>\n",
       "      <td>UCYzPXprvl5Y-Sf0g4vX-m6g</td>\n",
       "      <td>jacksepticeye</td>\n",
       "      <td>24.000000000000</td>\n",
       "      <td>2020-08-12</td>\n",
       "      <td>jacksepticeye|funny|funny meme|memes|jacksepti...</td>\n",
       "      <td>2038853.000000000000</td>\n",
       "      <td>353797.000000000000</td>\n",
       "      <td>...</td>\n",
       "      <td>False</td>\n",
       "      <td>False</td>\n",
       "      <td>I left youtube for a month and this is what ha...</td>\n",
       "      <td>134.625951293759</td>\n",
       "      <td>1.000000000000</td>\n",
       "      <td>https://www.youtube.com/watch?v=J78aPJ3VyNs</td>\n",
       "      <td>0.000000000000</td>\n",
       "      <td>2038853.000000000000</td>\n",
       "      <td>11.000000000000</td>\n",
       "      <td>230.000000000000</td>\n",
       "    </tr>\n",
       "    <tr>\n",
       "      <th>2</th>\n",
       "      <td>M9Pmf9AB4Mo</td>\n",
       "      <td>Apex Legends | Stories from the Outlands – “Th...</td>\n",
       "      <td>2020-08-11</td>\n",
       "      <td>UC0ZV6M2THA81QT9hrVWJG3A</td>\n",
       "      <td>Apex Legends</td>\n",
       "      <td>20.000000000000</td>\n",
       "      <td>2020-08-12</td>\n",
       "      <td>Apex Legends|Apex Legends characters|new Apex ...</td>\n",
       "      <td>2381688.000000000000</td>\n",
       "      <td>146740.000000000000</td>\n",
       "      <td>...</td>\n",
       "      <td>False</td>\n",
       "      <td>False</td>\n",
       "      <td>While running her own modding shop, Ramya Pare...</td>\n",
       "      <td>52.519685039370</td>\n",
       "      <td>1.000000000000</td>\n",
       "      <td>https://www.youtube.com/watch?v=M9Pmf9AB4Mo</td>\n",
       "      <td>0.000000000000</td>\n",
       "      <td>2381688.000000000000</td>\n",
       "      <td>54.000000000000</td>\n",
       "      <td>230.000000000000</td>\n",
       "    </tr>\n",
       "    <tr>\n",
       "      <th>3</th>\n",
       "      <td>3C66w5Z0ixs</td>\n",
       "      <td>I ASKED HER TO BE MY GIRLFRIEND...</td>\n",
       "      <td>2020-08-11</td>\n",
       "      <td>UCvtRTOMP2TqYqu51xNrqAzg</td>\n",
       "      <td>Brawadis</td>\n",
       "      <td>22.000000000000</td>\n",
       "      <td>2020-08-12</td>\n",
       "      <td>brawadis|prank|basketball|skits|ghost|funny vi...</td>\n",
       "      <td>1514614.000000000000</td>\n",
       "      <td>156914.000000000000</td>\n",
       "      <td>...</td>\n",
       "      <td>False</td>\n",
       "      <td>False</td>\n",
       "      <td>SUBSCRIBE to BRAWADIS ▶ http://bit.ly/Subscrib...</td>\n",
       "      <td>26.790848557282</td>\n",
       "      <td>1.000000000000</td>\n",
       "      <td>https://www.youtube.com/watch?v=3C66w5Z0ixs</td>\n",
       "      <td>0.000000000000</td>\n",
       "      <td>1514614.000000000000</td>\n",
       "      <td>12.000000000000</td>\n",
       "      <td>230.000000000000</td>\n",
       "    </tr>\n",
       "    <tr>\n",
       "      <th>4</th>\n",
       "      <td>VIUo6yapDbc</td>\n",
       "      <td>Ultimate DIY Home Movie Theater for The LaBran...</td>\n",
       "      <td>2020-08-11</td>\n",
       "      <td>UCDVPcEbVLQgLZX0Rt6jo34A</td>\n",
       "      <td>Mr. Kate</td>\n",
       "      <td>26.000000000000</td>\n",
       "      <td>2020-08-12</td>\n",
       "      <td>The LaBrant Family|DIY|Interior Design|Makeove...</td>\n",
       "      <td>1123889.000000000000</td>\n",
       "      <td>45803.000000000000</td>\n",
       "      <td>...</td>\n",
       "      <td>False</td>\n",
       "      <td>False</td>\n",
       "      <td>Transforming The LaBrant Family's empty white ...</td>\n",
       "      <td>47.513485477178</td>\n",
       "      <td>1.000000000000</td>\n",
       "      <td>https://www.youtube.com/watch?v=VIUo6yapDbc</td>\n",
       "      <td>0.000000000000</td>\n",
       "      <td>1123889.000000000000</td>\n",
       "      <td>11.000000000000</td>\n",
       "      <td>230.000000000000</td>\n",
       "    </tr>\n",
       "  </tbody>\n",
       "</table>\n",
       "<p>5 rows × 23 columns</p>\n",
       "</div>"
      ],
      "text/plain": [
       "      video_id                                              title publishedAt  \\\n",
       "0  KX06ksuS6Xo  Diljit Dosanjh: CLASH (Official) Music Video |...  2020-08-11   \n",
       "1  J78aPJ3VyNs  I left youtube for a month and THIS is what ha...  2020-08-11   \n",
       "2  M9Pmf9AB4Mo  Apex Legends | Stories from the Outlands – “Th...  2020-08-11   \n",
       "3  3C66w5Z0ixs                 I ASKED HER TO BE MY GIRLFRIEND...  2020-08-11   \n",
       "4  VIUo6yapDbc  Ultimate DIY Home Movie Theater for The LaBran...  2020-08-11   \n",
       "\n",
       "                  channelId    channelTitle      categoryId trending_date  \\\n",
       "0  UCZRdNleCgW-BGUJf-bbjzQg  Diljit Dosanjh 10.000000000000    2020-08-12   \n",
       "1  UCYzPXprvl5Y-Sf0g4vX-m6g   jacksepticeye 24.000000000000    2020-08-12   \n",
       "2  UC0ZV6M2THA81QT9hrVWJG3A    Apex Legends 20.000000000000    2020-08-12   \n",
       "3  UCvtRTOMP2TqYqu51xNrqAzg        Brawadis 22.000000000000    2020-08-12   \n",
       "4  UCDVPcEbVLQgLZX0Rt6jo34A        Mr. Kate 26.000000000000    2020-08-12   \n",
       "\n",
       "                                                tags           view_count  \\\n",
       "0  clash diljit dosanjh|diljit dosanjh|diljit dos... 9140911.000000000000   \n",
       "1  jacksepticeye|funny|funny meme|memes|jacksepti... 2038853.000000000000   \n",
       "2  Apex Legends|Apex Legends characters|new Apex ... 2381688.000000000000   \n",
       "3  brawadis|prank|basketball|skits|ghost|funny vi... 1514614.000000000000   \n",
       "4  The LaBrant Family|DIY|Interior Design|Makeove... 1123889.000000000000   \n",
       "\n",
       "                likes  ...  comments_disabled  ratings_disabled  \\\n",
       "0 296541.000000000000  ...              False             False   \n",
       "1 353797.000000000000  ...              False             False   \n",
       "2 146740.000000000000  ...              False             False   \n",
       "3 156914.000000000000  ...              False             False   \n",
       "4  45803.000000000000  ...              False             False   \n",
       "\n",
       "                                         description likes_to_dislikes  \\\n",
       "0  CLASH official music video performed by DILJIT...   47.983980582524   \n",
       "1  I left youtube for a month and this is what ha...  134.625951293759   \n",
       "2  While running her own modding shop, Ramya Pare...   52.519685039370   \n",
       "3  SUBSCRIBE to BRAWADIS ▶ http://bit.ly/Subscrib...   26.790848557282   \n",
       "4  Transforming The LaBrant Family's empty white ...   47.513485477178   \n",
       "\n",
       "   time_to_trend                                 youtube_link  no_description  \\\n",
       "0 1.000000000000  https://www.youtube.com/watch?v=KX06ksuS6Xo  0.000000000000   \n",
       "1 1.000000000000  https://www.youtube.com/watch?v=J78aPJ3VyNs  0.000000000000   \n",
       "2 1.000000000000  https://www.youtube.com/watch?v=M9Pmf9AB4Mo  0.000000000000   \n",
       "3 1.000000000000  https://www.youtube.com/watch?v=3C66w5Z0ixs  0.000000000000   \n",
       "4 1.000000000000  https://www.youtube.com/watch?v=VIUo6yapDbc  0.000000000000   \n",
       "\n",
       "        views_per_date    num_trending      num_per_day  \n",
       "0 9140911.000000000000 18.000000000000 230.000000000000  \n",
       "1 2038853.000000000000 11.000000000000 230.000000000000  \n",
       "2 2381688.000000000000 54.000000000000 230.000000000000  \n",
       "3 1514614.000000000000 12.000000000000 230.000000000000  \n",
       "4 1123889.000000000000 11.000000000000 230.000000000000  \n",
       "\n",
       "[5 rows x 23 columns]"
      ]
     },
     "execution_count": 182,
     "metadata": {},
     "output_type": "execute_result"
    }
   ],
   "source": [
    "model_features.head()"
   ]
  },
  {
   "cell_type": "code",
   "execution_count": 183,
   "metadata": {},
   "outputs": [
    {
     "data": {
      "text/plain": [
       "Index(['video_id', 'title', 'publishedAt', 'channelId', 'channelTitle',\n",
       "       'categoryId', 'trending_date', 'tags', 'view_count', 'likes',\n",
       "       'dislikes', 'comment_count', 'thumbnail_link', 'comments_disabled',\n",
       "       'ratings_disabled', 'description', 'likes_to_dislikes', 'time_to_trend',\n",
       "       'youtube_link', 'no_description', 'views_per_date', 'num_trending',\n",
       "       'num_per_day'],\n",
       "      dtype='object')"
      ]
     },
     "execution_count": 183,
     "metadata": {},
     "output_type": "execute_result"
    }
   ],
   "source": [
    "model_features.columns"
   ]
  },
  {
   "cell_type": "code",
   "execution_count": 184,
   "metadata": {},
   "outputs": [],
   "source": [
    "# Remove some variables temporarily\n",
    "model_features = model_features[['views_per_date', 'categoryId', 'view_count', 'likes', 'dislikes', 'comment_count', 'comments_disabled', 'ratings_disabled','likes_to_dislikes', 'time_to_trend', 'no_description', 'num_trending']]"
   ]
  },
  {
   "cell_type": "code",
   "execution_count": 185,
   "metadata": {},
   "outputs": [
    {
     "data": {
      "text/html": [
       "<div>\n",
       "<style scoped>\n",
       "    .dataframe tbody tr th:only-of-type {\n",
       "        vertical-align: middle;\n",
       "    }\n",
       "\n",
       "    .dataframe tbody tr th {\n",
       "        vertical-align: top;\n",
       "    }\n",
       "\n",
       "    .dataframe thead th {\n",
       "        text-align: right;\n",
       "    }\n",
       "</style>\n",
       "<table border=\"1\" class=\"dataframe\">\n",
       "  <thead>\n",
       "    <tr style=\"text-align: right;\">\n",
       "      <th></th>\n",
       "      <th>views_per_date</th>\n",
       "      <th>categoryId</th>\n",
       "      <th>view_count</th>\n",
       "      <th>likes</th>\n",
       "      <th>dislikes</th>\n",
       "      <th>comment_count</th>\n",
       "      <th>comments_disabled</th>\n",
       "      <th>ratings_disabled</th>\n",
       "      <th>likes_to_dislikes</th>\n",
       "      <th>time_to_trend</th>\n",
       "      <th>no_description</th>\n",
       "      <th>num_trending</th>\n",
       "    </tr>\n",
       "  </thead>\n",
       "  <tbody>\n",
       "    <tr>\n",
       "      <th>0</th>\n",
       "      <td>9140911.000000000000</td>\n",
       "      <td>10.000000000000</td>\n",
       "      <td>9140911.000000000000</td>\n",
       "      <td>296541.000000000000</td>\n",
       "      <td>6180.000000000000</td>\n",
       "      <td>30059.000000000000</td>\n",
       "      <td>False</td>\n",
       "      <td>False</td>\n",
       "      <td>47.983980582524</td>\n",
       "      <td>1.000000000000</td>\n",
       "      <td>0.000000000000</td>\n",
       "      <td>18.000000000000</td>\n",
       "    </tr>\n",
       "    <tr>\n",
       "      <th>1</th>\n",
       "      <td>2038853.000000000000</td>\n",
       "      <td>24.000000000000</td>\n",
       "      <td>2038853.000000000000</td>\n",
       "      <td>353797.000000000000</td>\n",
       "      <td>2628.000000000000</td>\n",
       "      <td>40222.000000000000</td>\n",
       "      <td>False</td>\n",
       "      <td>False</td>\n",
       "      <td>134.625951293759</td>\n",
       "      <td>1.000000000000</td>\n",
       "      <td>0.000000000000</td>\n",
       "      <td>11.000000000000</td>\n",
       "    </tr>\n",
       "    <tr>\n",
       "      <th>2</th>\n",
       "      <td>2381688.000000000000</td>\n",
       "      <td>20.000000000000</td>\n",
       "      <td>2381688.000000000000</td>\n",
       "      <td>146740.000000000000</td>\n",
       "      <td>2794.000000000000</td>\n",
       "      <td>16549.000000000000</td>\n",
       "      <td>False</td>\n",
       "      <td>False</td>\n",
       "      <td>52.519685039370</td>\n",
       "      <td>1.000000000000</td>\n",
       "      <td>0.000000000000</td>\n",
       "      <td>54.000000000000</td>\n",
       "    </tr>\n",
       "    <tr>\n",
       "      <th>3</th>\n",
       "      <td>1514614.000000000000</td>\n",
       "      <td>22.000000000000</td>\n",
       "      <td>1514614.000000000000</td>\n",
       "      <td>156914.000000000000</td>\n",
       "      <td>5857.000000000000</td>\n",
       "      <td>35331.000000000000</td>\n",
       "      <td>False</td>\n",
       "      <td>False</td>\n",
       "      <td>26.790848557282</td>\n",
       "      <td>1.000000000000</td>\n",
       "      <td>0.000000000000</td>\n",
       "      <td>12.000000000000</td>\n",
       "    </tr>\n",
       "    <tr>\n",
       "      <th>4</th>\n",
       "      <td>1123889.000000000000</td>\n",
       "      <td>26.000000000000</td>\n",
       "      <td>1123889.000000000000</td>\n",
       "      <td>45803.000000000000</td>\n",
       "      <td>964.000000000000</td>\n",
       "      <td>2198.000000000000</td>\n",
       "      <td>False</td>\n",
       "      <td>False</td>\n",
       "      <td>47.513485477178</td>\n",
       "      <td>1.000000000000</td>\n",
       "      <td>0.000000000000</td>\n",
       "      <td>11.000000000000</td>\n",
       "    </tr>\n",
       "  </tbody>\n",
       "</table>\n",
       "</div>"
      ],
      "text/plain": [
       "        views_per_date      categoryId           view_count  \\\n",
       "0 9140911.000000000000 10.000000000000 9140911.000000000000   \n",
       "1 2038853.000000000000 24.000000000000 2038853.000000000000   \n",
       "2 2381688.000000000000 20.000000000000 2381688.000000000000   \n",
       "3 1514614.000000000000 22.000000000000 1514614.000000000000   \n",
       "4 1123889.000000000000 26.000000000000 1123889.000000000000   \n",
       "\n",
       "                likes          dislikes      comment_count comments_disabled  \\\n",
       "0 296541.000000000000 6180.000000000000 30059.000000000000             False   \n",
       "1 353797.000000000000 2628.000000000000 40222.000000000000             False   \n",
       "2 146740.000000000000 2794.000000000000 16549.000000000000             False   \n",
       "3 156914.000000000000 5857.000000000000 35331.000000000000             False   \n",
       "4  45803.000000000000  964.000000000000  2198.000000000000             False   \n",
       "\n",
       "  ratings_disabled  likes_to_dislikes  time_to_trend  no_description  \\\n",
       "0            False    47.983980582524 1.000000000000  0.000000000000   \n",
       "1            False   134.625951293759 1.000000000000  0.000000000000   \n",
       "2            False    52.519685039370 1.000000000000  0.000000000000   \n",
       "3            False    26.790848557282 1.000000000000  0.000000000000   \n",
       "4            False    47.513485477178 1.000000000000  0.000000000000   \n",
       "\n",
       "     num_trending  \n",
       "0 18.000000000000  \n",
       "1 11.000000000000  \n",
       "2 54.000000000000  \n",
       "3 12.000000000000  \n",
       "4 11.000000000000  "
      ]
     },
     "execution_count": 185,
     "metadata": {},
     "output_type": "execute_result"
    }
   ],
   "source": [
    "model_features.head()"
   ]
  },
  {
   "cell_type": "code",
   "execution_count": 186,
   "metadata": {},
   "outputs": [],
   "source": [
    "# Change to categorical\n",
    "model_features['comments_disabled'] = model_features['comments_disabled'].astype('category').cat.codes\n",
    "model_features['ratings_disabled'] = model_features['ratings_disabled'].astype('category').cat.codes"
   ]
  },
  {
   "cell_type": "code",
   "execution_count": 187,
   "metadata": {},
   "outputs": [],
   "source": [
    "model_features = model_features.replace([np.inf, -np.inf], np.nan)\n",
    "model_features = model_features.dropna()"
   ]
  },
  {
   "cell_type": "code",
   "execution_count": 188,
   "metadata": {},
   "outputs": [
    {
     "data": {
      "text/html": [
       "<div>\n",
       "<style scoped>\n",
       "    .dataframe tbody tr th:only-of-type {\n",
       "        vertical-align: middle;\n",
       "    }\n",
       "\n",
       "    .dataframe tbody tr th {\n",
       "        vertical-align: top;\n",
       "    }\n",
       "\n",
       "    .dataframe thead th {\n",
       "        text-align: right;\n",
       "    }\n",
       "</style>\n",
       "<table border=\"1\" class=\"dataframe\">\n",
       "  <thead>\n",
       "    <tr style=\"text-align: right;\">\n",
       "      <th></th>\n",
       "      <th>views_per_date</th>\n",
       "      <th>categoryId</th>\n",
       "      <th>view_count</th>\n",
       "      <th>likes</th>\n",
       "      <th>dislikes</th>\n",
       "      <th>comment_count</th>\n",
       "      <th>comments_disabled</th>\n",
       "      <th>ratings_disabled</th>\n",
       "      <th>likes_to_dislikes</th>\n",
       "      <th>time_to_trend</th>\n",
       "      <th>no_description</th>\n",
       "      <th>num_trending</th>\n",
       "    </tr>\n",
       "  </thead>\n",
       "  <tbody>\n",
       "    <tr>\n",
       "      <th>0</th>\n",
       "      <td>9140911.000000000000</td>\n",
       "      <td>10.000000000000</td>\n",
       "      <td>9140911.000000000000</td>\n",
       "      <td>296541.000000000000</td>\n",
       "      <td>6180.000000000000</td>\n",
       "      <td>30059.000000000000</td>\n",
       "      <td>0</td>\n",
       "      <td>0</td>\n",
       "      <td>47.983980582524</td>\n",
       "      <td>1.000000000000</td>\n",
       "      <td>0.000000000000</td>\n",
       "      <td>18.000000000000</td>\n",
       "    </tr>\n",
       "    <tr>\n",
       "      <th>1</th>\n",
       "      <td>2038853.000000000000</td>\n",
       "      <td>24.000000000000</td>\n",
       "      <td>2038853.000000000000</td>\n",
       "      <td>353797.000000000000</td>\n",
       "      <td>2628.000000000000</td>\n",
       "      <td>40222.000000000000</td>\n",
       "      <td>0</td>\n",
       "      <td>0</td>\n",
       "      <td>134.625951293759</td>\n",
       "      <td>1.000000000000</td>\n",
       "      <td>0.000000000000</td>\n",
       "      <td>11.000000000000</td>\n",
       "    </tr>\n",
       "    <tr>\n",
       "      <th>2</th>\n",
       "      <td>2381688.000000000000</td>\n",
       "      <td>20.000000000000</td>\n",
       "      <td>2381688.000000000000</td>\n",
       "      <td>146740.000000000000</td>\n",
       "      <td>2794.000000000000</td>\n",
       "      <td>16549.000000000000</td>\n",
       "      <td>0</td>\n",
       "      <td>0</td>\n",
       "      <td>52.519685039370</td>\n",
       "      <td>1.000000000000</td>\n",
       "      <td>0.000000000000</td>\n",
       "      <td>54.000000000000</td>\n",
       "    </tr>\n",
       "    <tr>\n",
       "      <th>3</th>\n",
       "      <td>1514614.000000000000</td>\n",
       "      <td>22.000000000000</td>\n",
       "      <td>1514614.000000000000</td>\n",
       "      <td>156914.000000000000</td>\n",
       "      <td>5857.000000000000</td>\n",
       "      <td>35331.000000000000</td>\n",
       "      <td>0</td>\n",
       "      <td>0</td>\n",
       "      <td>26.790848557282</td>\n",
       "      <td>1.000000000000</td>\n",
       "      <td>0.000000000000</td>\n",
       "      <td>12.000000000000</td>\n",
       "    </tr>\n",
       "    <tr>\n",
       "      <th>4</th>\n",
       "      <td>1123889.000000000000</td>\n",
       "      <td>26.000000000000</td>\n",
       "      <td>1123889.000000000000</td>\n",
       "      <td>45803.000000000000</td>\n",
       "      <td>964.000000000000</td>\n",
       "      <td>2198.000000000000</td>\n",
       "      <td>0</td>\n",
       "      <td>0</td>\n",
       "      <td>47.513485477178</td>\n",
       "      <td>1.000000000000</td>\n",
       "      <td>0.000000000000</td>\n",
       "      <td>11.000000000000</td>\n",
       "    </tr>\n",
       "  </tbody>\n",
       "</table>\n",
       "</div>"
      ],
      "text/plain": [
       "        views_per_date      categoryId           view_count  \\\n",
       "0 9140911.000000000000 10.000000000000 9140911.000000000000   \n",
       "1 2038853.000000000000 24.000000000000 2038853.000000000000   \n",
       "2 2381688.000000000000 20.000000000000 2381688.000000000000   \n",
       "3 1514614.000000000000 22.000000000000 1514614.000000000000   \n",
       "4 1123889.000000000000 26.000000000000 1123889.000000000000   \n",
       "\n",
       "                likes          dislikes      comment_count  comments_disabled  \\\n",
       "0 296541.000000000000 6180.000000000000 30059.000000000000                  0   \n",
       "1 353797.000000000000 2628.000000000000 40222.000000000000                  0   \n",
       "2 146740.000000000000 2794.000000000000 16549.000000000000                  0   \n",
       "3 156914.000000000000 5857.000000000000 35331.000000000000                  0   \n",
       "4  45803.000000000000  964.000000000000  2198.000000000000                  0   \n",
       "\n",
       "   ratings_disabled  likes_to_dislikes  time_to_trend  no_description  \\\n",
       "0                 0    47.983980582524 1.000000000000  0.000000000000   \n",
       "1                 0   134.625951293759 1.000000000000  0.000000000000   \n",
       "2                 0    52.519685039370 1.000000000000  0.000000000000   \n",
       "3                 0    26.790848557282 1.000000000000  0.000000000000   \n",
       "4                 0    47.513485477178 1.000000000000  0.000000000000   \n",
       "\n",
       "     num_trending  \n",
       "0 18.000000000000  \n",
       "1 11.000000000000  \n",
       "2 54.000000000000  \n",
       "3 12.000000000000  \n",
       "4 11.000000000000  "
      ]
     },
     "execution_count": 188,
     "metadata": {},
     "output_type": "execute_result"
    }
   ],
   "source": [
    "model_features.head()"
   ]
  },
  {
   "cell_type": "code",
   "execution_count": 189,
   "metadata": {},
   "outputs": [
    {
     "data": {
      "text/html": [
       "<div>\n",
       "<style scoped>\n",
       "    .dataframe tbody tr th:only-of-type {\n",
       "        vertical-align: middle;\n",
       "    }\n",
       "\n",
       "    .dataframe tbody tr th {\n",
       "        vertical-align: top;\n",
       "    }\n",
       "\n",
       "    .dataframe thead th {\n",
       "        text-align: right;\n",
       "    }\n",
       "</style>\n",
       "<table border=\"1\" class=\"dataframe\">\n",
       "  <thead>\n",
       "    <tr style=\"text-align: right;\">\n",
       "      <th></th>\n",
       "      <th>views_per_date</th>\n",
       "      <th>likes</th>\n",
       "      <th>dislikes</th>\n",
       "      <th>comment_count</th>\n",
       "      <th>comments_disabled</th>\n",
       "      <th>ratings_disabled</th>\n",
       "      <th>likes_to_dislikes</th>\n",
       "      <th>time_to_trend</th>\n",
       "      <th>no_description</th>\n",
       "      <th>num_trending</th>\n",
       "    </tr>\n",
       "  </thead>\n",
       "  <tbody>\n",
       "    <tr>\n",
       "      <th>views_per_date</th>\n",
       "      <td>1.000000000000</td>\n",
       "      <td>0.779080381189</td>\n",
       "      <td>0.616313050851</td>\n",
       "      <td>0.676852624085</td>\n",
       "      <td>0.019298677606</td>\n",
       "      <td>nan</td>\n",
       "      <td>-0.030909781986</td>\n",
       "      <td>-0.073168621769</td>\n",
       "      <td>-0.012481064834</td>\n",
       "      <td>0.214460032749</td>\n",
       "    </tr>\n",
       "    <tr>\n",
       "      <th>likes</th>\n",
       "      <td>0.779080381189</td>\n",
       "      <td>1.000000000000</td>\n",
       "      <td>0.748775563577</td>\n",
       "      <td>0.806590779475</td>\n",
       "      <td>-0.013095701720</td>\n",
       "      <td>nan</td>\n",
       "      <td>0.038954693107</td>\n",
       "      <td>0.071613353579</td>\n",
       "      <td>-0.012123334160</td>\n",
       "      <td>0.199977165491</td>\n",
       "    </tr>\n",
       "    <tr>\n",
       "      <th>dislikes</th>\n",
       "      <td>0.616313050851</td>\n",
       "      <td>0.748775563577</td>\n",
       "      <td>1.000000000000</td>\n",
       "      <td>0.680323632489</td>\n",
       "      <td>0.013788642809</td>\n",
       "      <td>nan</td>\n",
       "      <td>-0.077446762858</td>\n",
       "      <td>0.067723030298</td>\n",
       "      <td>0.019699845046</td>\n",
       "      <td>0.102319592747</td>\n",
       "    </tr>\n",
       "    <tr>\n",
       "      <th>comment_count</th>\n",
       "      <td>0.676852624085</td>\n",
       "      <td>0.806590779475</td>\n",
       "      <td>0.680323632489</td>\n",
       "      <td>1.000000000000</td>\n",
       "      <td>-0.013502911671</td>\n",
       "      <td>nan</td>\n",
       "      <td>-0.010333377608</td>\n",
       "      <td>0.031083347050</td>\n",
       "      <td>-0.004824851062</td>\n",
       "      <td>0.103532964342</td>\n",
       "    </tr>\n",
       "    <tr>\n",
       "      <th>comments_disabled</th>\n",
       "      <td>0.019298677606</td>\n",
       "      <td>-0.013095701720</td>\n",
       "      <td>0.013788642809</td>\n",
       "      <td>-0.013502911671</td>\n",
       "      <td>1.000000000000</td>\n",
       "      <td>nan</td>\n",
       "      <td>-0.075133733840</td>\n",
       "      <td>0.041703138244</td>\n",
       "      <td>0.007746906275</td>\n",
       "      <td>-0.038365805091</td>\n",
       "    </tr>\n",
       "    <tr>\n",
       "      <th>ratings_disabled</th>\n",
       "      <td>nan</td>\n",
       "      <td>nan</td>\n",
       "      <td>nan</td>\n",
       "      <td>nan</td>\n",
       "      <td>nan</td>\n",
       "      <td>nan</td>\n",
       "      <td>nan</td>\n",
       "      <td>nan</td>\n",
       "      <td>nan</td>\n",
       "      <td>nan</td>\n",
       "    </tr>\n",
       "    <tr>\n",
       "      <th>likes_to_dislikes</th>\n",
       "      <td>-0.030909781986</td>\n",
       "      <td>0.038954693107</td>\n",
       "      <td>-0.077446762858</td>\n",
       "      <td>-0.010333377608</td>\n",
       "      <td>-0.075133733840</td>\n",
       "      <td>nan</td>\n",
       "      <td>1.000000000000</td>\n",
       "      <td>-0.075237169628</td>\n",
       "      <td>-0.010288188061</td>\n",
       "      <td>-0.066144561260</td>\n",
       "    </tr>\n",
       "    <tr>\n",
       "      <th>time_to_trend</th>\n",
       "      <td>-0.073168621769</td>\n",
       "      <td>0.071613353579</td>\n",
       "      <td>0.067723030298</td>\n",
       "      <td>0.031083347050</td>\n",
       "      <td>0.041703138244</td>\n",
       "      <td>nan</td>\n",
       "      <td>-0.075237169628</td>\n",
       "      <td>1.000000000000</td>\n",
       "      <td>0.105462327565</td>\n",
       "      <td>-0.017596674960</td>\n",
       "    </tr>\n",
       "    <tr>\n",
       "      <th>no_description</th>\n",
       "      <td>-0.012481064834</td>\n",
       "      <td>-0.012123334160</td>\n",
       "      <td>0.019699845046</td>\n",
       "      <td>-0.004824851062</td>\n",
       "      <td>0.007746906275</td>\n",
       "      <td>nan</td>\n",
       "      <td>-0.010288188061</td>\n",
       "      <td>0.105462327565</td>\n",
       "      <td>1.000000000000</td>\n",
       "      <td>-0.022317114646</td>\n",
       "    </tr>\n",
       "    <tr>\n",
       "      <th>num_trending</th>\n",
       "      <td>0.214460032749</td>\n",
       "      <td>0.199977165491</td>\n",
       "      <td>0.102319592747</td>\n",
       "      <td>0.103532964342</td>\n",
       "      <td>-0.038365805091</td>\n",
       "      <td>nan</td>\n",
       "      <td>-0.066144561260</td>\n",
       "      <td>-0.017596674960</td>\n",
       "      <td>-0.022317114646</td>\n",
       "      <td>1.000000000000</td>\n",
       "    </tr>\n",
       "  </tbody>\n",
       "</table>\n",
       "</div>"
      ],
      "text/plain": [
       "                   views_per_date           likes        dislikes  \\\n",
       "views_per_date     1.000000000000  0.779080381189  0.616313050851   \n",
       "likes              0.779080381189  1.000000000000  0.748775563577   \n",
       "dislikes           0.616313050851  0.748775563577  1.000000000000   \n",
       "comment_count      0.676852624085  0.806590779475  0.680323632489   \n",
       "comments_disabled  0.019298677606 -0.013095701720  0.013788642809   \n",
       "ratings_disabled              nan             nan             nan   \n",
       "likes_to_dislikes -0.030909781986  0.038954693107 -0.077446762858   \n",
       "time_to_trend     -0.073168621769  0.071613353579  0.067723030298   \n",
       "no_description    -0.012481064834 -0.012123334160  0.019699845046   \n",
       "num_trending       0.214460032749  0.199977165491  0.102319592747   \n",
       "\n",
       "                    comment_count  comments_disabled  ratings_disabled  \\\n",
       "views_per_date     0.676852624085     0.019298677606               nan   \n",
       "likes              0.806590779475    -0.013095701720               nan   \n",
       "dislikes           0.680323632489     0.013788642809               nan   \n",
       "comment_count      1.000000000000    -0.013502911671               nan   \n",
       "comments_disabled -0.013502911671     1.000000000000               nan   \n",
       "ratings_disabled              nan                nan               nan   \n",
       "likes_to_dislikes -0.010333377608    -0.075133733840               nan   \n",
       "time_to_trend      0.031083347050     0.041703138244               nan   \n",
       "no_description    -0.004824851062     0.007746906275               nan   \n",
       "num_trending       0.103532964342    -0.038365805091               nan   \n",
       "\n",
       "                   likes_to_dislikes   time_to_trend  no_description  \\\n",
       "views_per_date       -0.030909781986 -0.073168621769 -0.012481064834   \n",
       "likes                 0.038954693107  0.071613353579 -0.012123334160   \n",
       "dislikes             -0.077446762858  0.067723030298  0.019699845046   \n",
       "comment_count        -0.010333377608  0.031083347050 -0.004824851062   \n",
       "comments_disabled    -0.075133733840  0.041703138244  0.007746906275   \n",
       "ratings_disabled                 nan             nan             nan   \n",
       "likes_to_dislikes     1.000000000000 -0.075237169628 -0.010288188061   \n",
       "time_to_trend        -0.075237169628  1.000000000000  0.105462327565   \n",
       "no_description       -0.010288188061  0.105462327565  1.000000000000   \n",
       "num_trending         -0.066144561260 -0.017596674960 -0.022317114646   \n",
       "\n",
       "                     num_trending  \n",
       "views_per_date     0.214460032749  \n",
       "likes              0.199977165491  \n",
       "dislikes           0.102319592747  \n",
       "comment_count      0.103532964342  \n",
       "comments_disabled -0.038365805091  \n",
       "ratings_disabled              nan  \n",
       "likes_to_dislikes -0.066144561260  \n",
       "time_to_trend     -0.017596674960  \n",
       "no_description    -0.022317114646  \n",
       "num_trending       1.000000000000  "
      ]
     },
     "execution_count": 189,
     "metadata": {},
     "output_type": "execute_result"
    }
   ],
   "source": [
    "model_features.corr()"
   ]
  },
  {
   "cell_type": "markdown",
   "metadata": {},
   "source": [
    "### KMeans for Feature Engineering"
   ]
  },
  {
   "cell_type": "markdown",
   "metadata": {},
   "source": [
    "I will use kmeans to put these variables into two groups, 1 being a \"successful\" trending video, and one that represents to other trending videos."
   ]
  },
  {
   "cell_type": "code",
   "execution_count": 190,
   "metadata": {},
   "outputs": [],
   "source": [
    "from sklearn.cluster import KMeans \n",
    "from sklearn import metrics "
   ]
  },
  {
   "cell_type": "code",
   "execution_count": 191,
   "metadata": {},
   "outputs": [
    {
     "data": {
      "text/plain": [
       "Text(0.5, 1.0, 'Elbow method on cluster_df')"
      ]
     },
     "execution_count": 191,
     "metadata": {},
     "output_type": "execute_result"
    },
    {
     "data": {
      "image/png": "[encoded data removed]",
      "text/plain": [
       "<Figure size 720x504 with 1 Axes>"
      ]
     },
     "metadata": {
      "needs_background": "light"
     },
     "output_type": "display_data"
    }
   ],
   "source": [
    "distortions = []\n",
    "\n",
    "K = range(1,10)\n",
    "for k in K:\n",
    "    kmeanModel = KMeans(n_clusters=k)\n",
    "    kmeanModel.fit(model_features)\n",
    "    distortions.append(kmeanModel.inertia_)\n",
    "    \n",
    "plt.figure(figsize=(10,7))\n",
    "plt.plot(K, distortions, 'bx-')\n",
    "plt.xlabel('k')\n",
    "plt.ylabel('Distortion')\n",
    "plt.title('Elbow method on cluster_df')"
   ]
  },
  {
   "cell_type": "markdown",
   "metadata": {},
   "source": [
    "Given the dataset, the elbow method suggests 2-3 groups, but due to our models we want to use, we will select 2."
   ]
  },
  {
   "cell_type": "code",
   "execution_count": 192,
   "metadata": {},
   "outputs": [],
   "source": [
    "kmeans = KMeans(n_clusters=2, random_state=0).fit(model_features)\n",
    "model_features['successful_trend'] = kmeans.labels_"
   ]
  },
  {
   "cell_type": "code",
   "execution_count": 193,
   "metadata": {},
   "outputs": [],
   "source": [
    "# Filter variables for our model\n",
    "model_features = model_features[['views_per_date', 'categoryId', 'view_count', 'likes', 'dislikes', 'comment_count', 'comments_disabled', 'ratings_disabled','time_to_trend', 'no_description', 'num_trending', 'successful_trend']]"
   ]
  },
  {
   "cell_type": "code",
   "execution_count": 194,
   "metadata": {},
   "outputs": [
    {
     "data": {
      "text/html": [
       "<div>\n",
       "<style scoped>\n",
       "    .dataframe tbody tr th:only-of-type {\n",
       "        vertical-align: middle;\n",
       "    }\n",
       "\n",
       "    .dataframe tbody tr th {\n",
       "        vertical-align: top;\n",
       "    }\n",
       "\n",
       "    .dataframe thead th {\n",
       "        text-align: right;\n",
       "    }\n",
       "</style>\n",
       "<table border=\"1\" class=\"dataframe\">\n",
       "  <thead>\n",
       "    <tr style=\"text-align: right;\">\n",
       "      <th></th>\n",
       "      <th>views_per_date</th>\n",
       "      <th>categoryId</th>\n",
       "      <th>view_count</th>\n",
       "      <th>likes</th>\n",
       "      <th>dislikes</th>\n",
       "      <th>comment_count</th>\n",
       "      <th>comments_disabled</th>\n",
       "      <th>ratings_disabled</th>\n",
       "      <th>time_to_trend</th>\n",
       "      <th>no_description</th>\n",
       "      <th>num_trending</th>\n",
       "      <th>successful_trend</th>\n",
       "    </tr>\n",
       "  </thead>\n",
       "  <tbody>\n",
       "    <tr>\n",
       "      <th>0</th>\n",
       "      <td>9140911.000000000000</td>\n",
       "      <td>10.000000000000</td>\n",
       "      <td>9140911.000000000000</td>\n",
       "      <td>296541.000000000000</td>\n",
       "      <td>6180.000000000000</td>\n",
       "      <td>30059.000000000000</td>\n",
       "      <td>0</td>\n",
       "      <td>0</td>\n",
       "      <td>1.000000000000</td>\n",
       "      <td>0.000000000000</td>\n",
       "      <td>18.000000000000</td>\n",
       "      <td>0</td>\n",
       "    </tr>\n",
       "    <tr>\n",
       "      <th>1</th>\n",
       "      <td>2038853.000000000000</td>\n",
       "      <td>24.000000000000</td>\n",
       "      <td>2038853.000000000000</td>\n",
       "      <td>353797.000000000000</td>\n",
       "      <td>2628.000000000000</td>\n",
       "      <td>40222.000000000000</td>\n",
       "      <td>0</td>\n",
       "      <td>0</td>\n",
       "      <td>1.000000000000</td>\n",
       "      <td>0.000000000000</td>\n",
       "      <td>11.000000000000</td>\n",
       "      <td>0</td>\n",
       "    </tr>\n",
       "    <tr>\n",
       "      <th>2</th>\n",
       "      <td>2381688.000000000000</td>\n",
       "      <td>20.000000000000</td>\n",
       "      <td>2381688.000000000000</td>\n",
       "      <td>146740.000000000000</td>\n",
       "      <td>2794.000000000000</td>\n",
       "      <td>16549.000000000000</td>\n",
       "      <td>0</td>\n",
       "      <td>0</td>\n",
       "      <td>1.000000000000</td>\n",
       "      <td>0.000000000000</td>\n",
       "      <td>54.000000000000</td>\n",
       "      <td>0</td>\n",
       "    </tr>\n",
       "    <tr>\n",
       "      <th>3</th>\n",
       "      <td>1514614.000000000000</td>\n",
       "      <td>22.000000000000</td>\n",
       "      <td>1514614.000000000000</td>\n",
       "      <td>156914.000000000000</td>\n",
       "      <td>5857.000000000000</td>\n",
       "      <td>35331.000000000000</td>\n",
       "      <td>0</td>\n",
       "      <td>0</td>\n",
       "      <td>1.000000000000</td>\n",
       "      <td>0.000000000000</td>\n",
       "      <td>12.000000000000</td>\n",
       "      <td>0</td>\n",
       "    </tr>\n",
       "    <tr>\n",
       "      <th>4</th>\n",
       "      <td>1123889.000000000000</td>\n",
       "      <td>26.000000000000</td>\n",
       "      <td>1123889.000000000000</td>\n",
       "      <td>45803.000000000000</td>\n",
       "      <td>964.000000000000</td>\n",
       "      <td>2198.000000000000</td>\n",
       "      <td>0</td>\n",
       "      <td>0</td>\n",
       "      <td>1.000000000000</td>\n",
       "      <td>0.000000000000</td>\n",
       "      <td>11.000000000000</td>\n",
       "      <td>0</td>\n",
       "    </tr>\n",
       "  </tbody>\n",
       "</table>\n",
       "</div>"
      ],
      "text/plain": [
       "        views_per_date      categoryId           view_count  \\\n",
       "0 9140911.000000000000 10.000000000000 9140911.000000000000   \n",
       "1 2038853.000000000000 24.000000000000 2038853.000000000000   \n",
       "2 2381688.000000000000 20.000000000000 2381688.000000000000   \n",
       "3 1514614.000000000000 22.000000000000 1514614.000000000000   \n",
       "4 1123889.000000000000 26.000000000000 1123889.000000000000   \n",
       "\n",
       "                likes          dislikes      comment_count  comments_disabled  \\\n",
       "0 296541.000000000000 6180.000000000000 30059.000000000000                  0   \n",
       "1 353797.000000000000 2628.000000000000 40222.000000000000                  0   \n",
       "2 146740.000000000000 2794.000000000000 16549.000000000000                  0   \n",
       "3 156914.000000000000 5857.000000000000 35331.000000000000                  0   \n",
       "4  45803.000000000000  964.000000000000  2198.000000000000                  0   \n",
       "\n",
       "   ratings_disabled  time_to_trend  no_description    num_trending  \\\n",
       "0                 0 1.000000000000  0.000000000000 18.000000000000   \n",
       "1                 0 1.000000000000  0.000000000000 11.000000000000   \n",
       "2                 0 1.000000000000  0.000000000000 54.000000000000   \n",
       "3                 0 1.000000000000  0.000000000000 12.000000000000   \n",
       "4                 0 1.000000000000  0.000000000000 11.000000000000   \n",
       "\n",
       "   successful_trend  \n",
       "0                 0  \n",
       "1                 0  \n",
       "2                 0  \n",
       "3                 0  \n",
       "4                 0  "
      ]
     },
     "execution_count": 194,
     "metadata": {},
     "output_type": "execute_result"
    }
   ],
   "source": [
    "model_features.head()"
   ]
  },
  {
   "cell_type": "code",
   "execution_count": 195,
   "metadata": {},
   "outputs": [
    {
     "name": "stdout",
     "output_type": "stream",
     "text": [
      "<class 'pandas.core.frame.DataFrame'>\n",
      "Int64Index: 21153 entries, 0 to 688852\n",
      "Data columns (total 12 columns):\n",
      " #   Column             Non-Null Count  Dtype\n",
      "---  ------             --------------  -----\n",
      " 0   views_per_date     21153 non-null  int64\n",
      " 1   categoryId         21153 non-null  int64\n",
      " 2   view_count         21153 non-null  int64\n",
      " 3   likes              21153 non-null  int64\n",
      " 4   dislikes           21153 non-null  int64\n",
      " 5   comment_count      21153 non-null  int64\n",
      " 6   comments_disabled  21153 non-null  int8 \n",
      " 7   ratings_disabled   21153 non-null  int8 \n",
      " 8   time_to_trend      21153 non-null  int64\n",
      " 9   no_description     21153 non-null  int64\n",
      " 10  num_trending       21153 non-null  int64\n",
      " 11  successful_trend   21153 non-null  int32\n",
      "dtypes: int32(1), int64(9), int8(2)\n",
      "memory usage: 1.7 MB\n"
     ]
    }
   ],
   "source": [
    "# Change type to int\n",
    "model_features[['categoryId', 'view_count', 'views_per_date', 'likes', 'dislikes', 'comment_count', 'time_to_trend', 'no_description', 'num_trending']] = model_features[['categoryId', 'view_count', 'views_per_date', 'likes', 'dislikes', 'comment_count', 'time_to_trend', 'no_description', 'num_trending']] = model_features[['categoryId', 'view_count', 'views_per_date', 'likes', 'dislikes', 'comment_count', 'time_to_trend', 'no_description', 'num_trending']] = model_features[['categoryId', 'view_count', 'views_per_date', 'likes', 'dislikes', 'comment_count', 'time_to_trend', 'no_description', 'num_trending']].astype('int')\n",
    "model_features.info()"
   ]
  },
  {
   "cell_type": "markdown",
   "metadata": {},
   "source": [
    "### Baseline Model: Linear Regression w/o parameter tuning"
   ]
  },
  {
   "cell_type": "markdown",
   "metadata": {},
   "source": [
    "#### Note\n",
    "\n",
    "- Linear Regression is used for continuous dependant variables. In our situation, we are going to analyze trending vidoes by how many views they got per day. This gives us a better indicator of whather they were actually 'trending' and doesn't equate videos that were trending for one week vs. one day."
   ]
  },
  {
   "cell_type": "code",
   "execution_count": 196,
   "metadata": {},
   "outputs": [],
   "source": [
    "from sklearn.linear_model import LinearRegression\n",
    "from sklearn.model_selection import train_test_split"
   ]
  },
  {
   "cell_type": "code",
   "execution_count": 197,
   "metadata": {},
   "outputs": [],
   "source": [
    "X = np.array(model_features.loc[:, model_features.columns != 'views_per_date'])\n",
    "y = np.array(model_features.loc[:, model_features.columns == 'views_per_date']).reshape(-1, 1)"
   ]
  },
  {
   "cell_type": "code",
   "execution_count": 198,
   "metadata": {},
   "outputs": [],
   "source": [
    "X_train, X_test, y_train, y_test = train_test_split(X, y, test_size=0.2, random_state=0)"
   ]
  },
  {
   "cell_type": "code",
   "execution_count": 199,
   "metadata": {},
   "outputs": [
    {
     "data": {
      "text/plain": [
       "LinearRegression()"
      ]
     },
     "execution_count": 199,
     "metadata": {},
     "output_type": "execute_result"
    }
   ],
   "source": [
    "lr_model = LinearRegression()\n",
    "lr_model.fit(X_train,y_train)"
   ]
  },
  {
   "cell_type": "code",
   "execution_count": 200,
   "metadata": {},
   "outputs": [],
   "source": [
    "model_predict = lr_model.predict(X_test)"
   ]
  },
  {
   "cell_type": "code",
   "execution_count": 201,
   "metadata": {},
   "outputs": [
    {
     "data": {
      "text/html": [
       "<div>\n",
       "<style scoped>\n",
       "    .dataframe tbody tr th:only-of-type {\n",
       "        vertical-align: middle;\n",
       "    }\n",
       "\n",
       "    .dataframe tbody tr th {\n",
       "        vertical-align: top;\n",
       "    }\n",
       "\n",
       "    .dataframe thead th {\n",
       "        text-align: right;\n",
       "    }\n",
       "</style>\n",
       "<table border=\"1\" class=\"dataframe\">\n",
       "  <thead>\n",
       "    <tr style=\"text-align: right;\">\n",
       "      <th></th>\n",
       "      <th>Actual</th>\n",
       "      <th>LinearRegression</th>\n",
       "    </tr>\n",
       "  </thead>\n",
       "  <tbody>\n",
       "    <tr>\n",
       "      <th>0</th>\n",
       "      <td>41748</td>\n",
       "      <td>-142144.138606210006</td>\n",
       "    </tr>\n",
       "    <tr>\n",
       "      <th>1</th>\n",
       "      <td>265913</td>\n",
       "      <td>504129.143953389430</td>\n",
       "    </tr>\n",
       "    <tr>\n",
       "      <th>2</th>\n",
       "      <td>886076</td>\n",
       "      <td>1005221.739827656187</td>\n",
       "    </tr>\n",
       "    <tr>\n",
       "      <th>3</th>\n",
       "      <td>830181</td>\n",
       "      <td>1011445.700921416865</td>\n",
       "    </tr>\n",
       "    <tr>\n",
       "      <th>4</th>\n",
       "      <td>123063</td>\n",
       "      <td>434916.112909295713</td>\n",
       "    </tr>\n",
       "    <tr>\n",
       "      <th>5</th>\n",
       "      <td>861932</td>\n",
       "      <td>773792.359637470450</td>\n",
       "    </tr>\n",
       "    <tr>\n",
       "      <th>6</th>\n",
       "      <td>752534</td>\n",
       "      <td>717670.415830651415</td>\n",
       "    </tr>\n",
       "    <tr>\n",
       "      <th>7</th>\n",
       "      <td>1288500</td>\n",
       "      <td>1281410.399712563492</td>\n",
       "    </tr>\n",
       "    <tr>\n",
       "      <th>8</th>\n",
       "      <td>330979</td>\n",
       "      <td>528374.261111112079</td>\n",
       "    </tr>\n",
       "    <tr>\n",
       "      <th>9</th>\n",
       "      <td>701698</td>\n",
       "      <td>704864.772564270301</td>\n",
       "    </tr>\n",
       "  </tbody>\n",
       "</table>\n",
       "</div>"
      ],
      "text/plain": [
       "    Actual     LinearRegression\n",
       "0    41748 -142144.138606210006\n",
       "1   265913  504129.143953389430\n",
       "2   886076 1005221.739827656187\n",
       "3   830181 1011445.700921416865\n",
       "4   123063  434916.112909295713\n",
       "5   861932  773792.359637470450\n",
       "6   752534  717670.415830651415\n",
       "7  1288500 1281410.399712563492\n",
       "8   330979  528374.261111112079\n",
       "9   701698  704864.772564270301"
      ]
     },
     "execution_count": 201,
     "metadata": {},
     "output_type": "execute_result"
    }
   ],
   "source": [
    "#Sample of our predictions\n",
    "performance = pd.DataFrame({'Actual': y_test.flatten(), 'LinearRegression': list(model_predict.flatten())})\n",
    "performance.head(10)"
   ]
  },
  {
   "cell_type": "markdown",
   "metadata": {},
   "source": [
    "#### Using RMSE & Normalised RMSE as our metric of error"
   ]
  },
  {
   "cell_type": "code",
   "execution_count": 202,
   "metadata": {},
   "outputs": [
    {
     "name": "stdout",
     "output_type": "stream",
     "text": [
      "The RMSE for this model is  1215803.7679173807\n",
      "The Normalised RMSE for this model is  0.03659469144800184\n"
     ]
    }
   ],
   "source": [
    "rmse = sqrt(mean_squared_error(y_test, model_predict))\n",
    "n_rmse = sqrt(mean_squared_error(y_test, model_predict)) / (y_test.max() - y_test.min())\n",
    "print('The RMSE for this model is ', rmse)\n",
    "print('The Normalised RMSE for this model is ', n_rmse)"
   ]
  },
  {
   "cell_type": "code",
   "execution_count": 203,
   "metadata": {},
   "outputs": [
    {
     "data": {
      "text/plain": [
       "array([[-5.47643417e+03,  1.22542687e-01,  1.30859216e+00,\n",
       "        -2.05698162e+00,  2.60752394e+00,  5.21358527e+05,\n",
       "        -1.12049747e-09, -1.83525802e+05,  2.26276862e+05,\n",
       "         6.67468160e+03,  4.30846815e+06]])"
      ]
     },
     "execution_count": 203,
     "metadata": {},
     "output_type": "execute_result"
    }
   ],
   "source": [
    "lr_feature_importance = lr_model.coef_\n",
    "lr_feature_importance"
   ]
  },
  {
   "cell_type": "code",
   "execution_count": 204,
   "metadata": {},
   "outputs": [
    {
     "data": {
      "text/plain": [
       "Index(['views_per_date', 'categoryId', 'view_count', 'likes', 'dislikes',\n",
       "       'comment_count', 'comments_disabled', 'ratings_disabled',\n",
       "       'time_to_trend', 'no_description', 'num_trending', 'successful_trend'],\n",
       "      dtype='object')"
      ]
     },
     "execution_count": 204,
     "metadata": {},
     "output_type": "execute_result"
    }
   ],
   "source": [
    "model_features.columns"
   ]
  },
  {
   "cell_type": "markdown",
   "metadata": {},
   "source": [
    "### Decision Trees w/o parameter tuning"
   ]
  },
  {
   "cell_type": "code",
   "execution_count": 205,
   "metadata": {},
   "outputs": [],
   "source": [
    "from sklearn.tree import DecisionTreeRegressor"
   ]
  },
  {
   "cell_type": "code",
   "execution_count": 206,
   "metadata": {},
   "outputs": [],
   "source": [
    "X = np.array(model_features.loc[:, model_features.columns != 'views_per_date'])\n",
    "y = np.array(model_features.loc[:, model_features.columns == 'views_per_date']).reshape(-1, 1)"
   ]
  },
  {
   "cell_type": "code",
   "execution_count": 207,
   "metadata": {},
   "outputs": [],
   "source": [
    "X_train, X_test, y_train, y_test = train_test_split(X, y, test_size=0.2, random_state=0)"
   ]
  },
  {
   "cell_type": "code",
   "execution_count": 208,
   "metadata": {},
   "outputs": [
    {
     "data": {
      "text/plain": [
       "DecisionTreeRegressor()"
      ]
     },
     "execution_count": 208,
     "metadata": {},
     "output_type": "execute_result"
    }
   ],
   "source": [
    "dt_model = DecisionTreeRegressor()\n",
    "dt_model.fit(X_train,y_train)"
   ]
  },
  {
   "cell_type": "code",
   "execution_count": 209,
   "metadata": {},
   "outputs": [],
   "source": [
    "model_predict = dt_model.predict(X_test)"
   ]
  },
  {
   "cell_type": "code",
   "execution_count": 210,
   "metadata": {},
   "outputs": [
    {
     "data": {
      "text/html": [
       "<div>\n",
       "<style scoped>\n",
       "    .dataframe tbody tr th:only-of-type {\n",
       "        vertical-align: middle;\n",
       "    }\n",
       "\n",
       "    .dataframe tbody tr th {\n",
       "        vertical-align: top;\n",
       "    }\n",
       "\n",
       "    .dataframe thead th {\n",
       "        text-align: right;\n",
       "    }\n",
       "</style>\n",
       "<table border=\"1\" class=\"dataframe\">\n",
       "  <thead>\n",
       "    <tr style=\"text-align: right;\">\n",
       "      <th></th>\n",
       "      <th>Actual</th>\n",
       "      <th>LinearRegression</th>\n",
       "      <th>DecisionTree</th>\n",
       "    </tr>\n",
       "  </thead>\n",
       "  <tbody>\n",
       "    <tr>\n",
       "      <th>0</th>\n",
       "      <td>41748</td>\n",
       "      <td>-142144.138606210006</td>\n",
       "      <td>41938.000000000000</td>\n",
       "    </tr>\n",
       "    <tr>\n",
       "      <th>1</th>\n",
       "      <td>265913</td>\n",
       "      <td>504129.143953389430</td>\n",
       "      <td>264609.000000000000</td>\n",
       "    </tr>\n",
       "    <tr>\n",
       "      <th>2</th>\n",
       "      <td>886076</td>\n",
       "      <td>1005221.739827656187</td>\n",
       "      <td>884932.000000000000</td>\n",
       "    </tr>\n",
       "    <tr>\n",
       "      <th>3</th>\n",
       "      <td>830181</td>\n",
       "      <td>1011445.700921416865</td>\n",
       "      <td>829651.000000000000</td>\n",
       "    </tr>\n",
       "    <tr>\n",
       "      <th>4</th>\n",
       "      <td>123063</td>\n",
       "      <td>434916.112909295713</td>\n",
       "      <td>122795.000000000000</td>\n",
       "    </tr>\n",
       "    <tr>\n",
       "      <th>5</th>\n",
       "      <td>861932</td>\n",
       "      <td>773792.359637470450</td>\n",
       "      <td>859541.000000000000</td>\n",
       "    </tr>\n",
       "    <tr>\n",
       "      <th>6</th>\n",
       "      <td>752534</td>\n",
       "      <td>717670.415830651415</td>\n",
       "      <td>749175.000000000000</td>\n",
       "    </tr>\n",
       "    <tr>\n",
       "      <th>7</th>\n",
       "      <td>1288500</td>\n",
       "      <td>1281410.399712563492</td>\n",
       "      <td>1292125.000000000000</td>\n",
       "    </tr>\n",
       "    <tr>\n",
       "      <th>8</th>\n",
       "      <td>330979</td>\n",
       "      <td>528374.261111112079</td>\n",
       "      <td>330495.000000000000</td>\n",
       "    </tr>\n",
       "    <tr>\n",
       "      <th>9</th>\n",
       "      <td>701698</td>\n",
       "      <td>704864.772564270301</td>\n",
       "      <td>702218.000000000000</td>\n",
       "    </tr>\n",
       "  </tbody>\n",
       "</table>\n",
       "</div>"
      ],
      "text/plain": [
       "    Actual     LinearRegression         DecisionTree\n",
       "0    41748 -142144.138606210006   41938.000000000000\n",
       "1   265913  504129.143953389430  264609.000000000000\n",
       "2   886076 1005221.739827656187  884932.000000000000\n",
       "3   830181 1011445.700921416865  829651.000000000000\n",
       "4   123063  434916.112909295713  122795.000000000000\n",
       "5   861932  773792.359637470450  859541.000000000000\n",
       "6   752534  717670.415830651415  749175.000000000000\n",
       "7  1288500 1281410.399712563492 1292125.000000000000\n",
       "8   330979  528374.261111112079  330495.000000000000\n",
       "9   701698  704864.772564270301  702218.000000000000"
      ]
     },
     "execution_count": 210,
     "metadata": {},
     "output_type": "execute_result"
    }
   ],
   "source": [
    "performance['DecisionTree'] = list(model_predict.flatten())\n",
    "performance.head(10)"
   ]
  },
  {
   "cell_type": "code",
   "execution_count": 211,
   "metadata": {},
   "outputs": [
    {
     "name": "stdout",
     "output_type": "stream",
     "text": [
      "The RMSE for this model is  424747.39932398417\n",
      "The Normalised RMSE for this model is  0.012784546677485438\n"
     ]
    }
   ],
   "source": [
    "dt_rmse = sqrt(mean_squared_error(y_test, model_predict))\n",
    "dt_normalised_rmse = sqrt(mean_squared_error(y_test, model_predict)) / (y_test.max() - y_test.min())\n",
    "print('The RMSE for this model is ', dt_rmse)\n",
    "print('The Normalised RMSE for this model is ', dt_normalised_rmse)"
   ]
  },
  {
   "cell_type": "code",
   "execution_count": 212,
   "metadata": {},
   "outputs": [
    {
     "data": {
      "text/plain": [
       "array([1.02837990e-05, 2.34547616e-01, 4.83053971e-01, 5.61665754e-04,\n",
       "       3.06818571e-02, 7.98134243e-08, 0.00000000e+00, 2.50916502e-01,\n",
       "       7.26040264e-10, 2.28023502e-04, 0.00000000e+00])"
      ]
     },
     "execution_count": 212,
     "metadata": {},
     "output_type": "execute_result"
    }
   ],
   "source": [
    "dt_feature_importance = dt_model.feature_importances_\n",
    "dt_feature_importance"
   ]
  },
  {
   "cell_type": "markdown",
   "metadata": {},
   "source": [
    "### Random Forest w/o parameter tuning"
   ]
  },
  {
   "cell_type": "code",
   "execution_count": 213,
   "metadata": {},
   "outputs": [],
   "source": [
    "from sklearn.ensemble import RandomForestRegressor\n",
    "from sklearn.datasets import make_regression"
   ]
  },
  {
   "cell_type": "code",
   "execution_count": 214,
   "metadata": {},
   "outputs": [],
   "source": [
    "X = np.array(model_features.loc[:, model_features.columns != 'views_per_date'])\n",
    "y = np.array(model_features.loc[:, model_features.columns == 'views_per_date']).reshape(-1, 1)"
   ]
  },
  {
   "cell_type": "code",
   "execution_count": 215,
   "metadata": {},
   "outputs": [],
   "source": [
    "X_train, X_test, y_train, y_test = train_test_split(X, y, test_size=0.2, random_state=0)"
   ]
  },
  {
   "cell_type": "code",
   "execution_count": 216,
   "metadata": {},
   "outputs": [
    {
     "name": "stderr",
     "output_type": "stream",
     "text": [
      "<ipython-input-216-553550acb5eb>:2: DataConversionWarning: A column-vector y was passed when a 1d array was expected. Please change the shape of y to (n_samples,), for example using ravel().\n",
      "  rf_model.fit(X_train,y_train)\n"
     ]
    },
    {
     "data": {
      "text/plain": [
       "RandomForestRegressor()"
      ]
     },
     "execution_count": 216,
     "metadata": {},
     "output_type": "execute_result"
    }
   ],
   "source": [
    "rf_model = RandomForestRegressor()\n",
    "rf_model.fit(X_train,y_train)"
   ]
  },
  {
   "cell_type": "code",
   "execution_count": 217,
   "metadata": {},
   "outputs": [],
   "source": [
    "model_predict = rf_model.predict(X_test)"
   ]
  },
  {
   "cell_type": "code",
   "execution_count": 218,
   "metadata": {},
   "outputs": [
    {
     "data": {
      "text/html": [
       "<div>\n",
       "<style scoped>\n",
       "    .dataframe tbody tr th:only-of-type {\n",
       "        vertical-align: middle;\n",
       "    }\n",
       "\n",
       "    .dataframe tbody tr th {\n",
       "        vertical-align: top;\n",
       "    }\n",
       "\n",
       "    .dataframe thead th {\n",
       "        text-align: right;\n",
       "    }\n",
       "</style>\n",
       "<table border=\"1\" class=\"dataframe\">\n",
       "  <thead>\n",
       "    <tr style=\"text-align: right;\">\n",
       "      <th></th>\n",
       "      <th>Actual</th>\n",
       "      <th>LinearRegression</th>\n",
       "      <th>DecisionTree</th>\n",
       "      <th>RandomForest</th>\n",
       "    </tr>\n",
       "  </thead>\n",
       "  <tbody>\n",
       "    <tr>\n",
       "      <th>0</th>\n",
       "      <td>41748</td>\n",
       "      <td>-142144.138606210006</td>\n",
       "      <td>41938.000000000000</td>\n",
       "      <td>41743.400000000001</td>\n",
       "    </tr>\n",
       "    <tr>\n",
       "      <th>1</th>\n",
       "      <td>265913</td>\n",
       "      <td>504129.143953389430</td>\n",
       "      <td>264609.000000000000</td>\n",
       "      <td>265432.369999999995</td>\n",
       "    </tr>\n",
       "    <tr>\n",
       "      <th>2</th>\n",
       "      <td>886076</td>\n",
       "      <td>1005221.739827656187</td>\n",
       "      <td>884932.000000000000</td>\n",
       "      <td>885739.989999999991</td>\n",
       "    </tr>\n",
       "    <tr>\n",
       "      <th>3</th>\n",
       "      <td>830181</td>\n",
       "      <td>1011445.700921416865</td>\n",
       "      <td>829651.000000000000</td>\n",
       "      <td>829638.270000000019</td>\n",
       "    </tr>\n",
       "    <tr>\n",
       "      <th>4</th>\n",
       "      <td>123063</td>\n",
       "      <td>434916.112909295713</td>\n",
       "      <td>122795.000000000000</td>\n",
       "      <td>123054.610000000001</td>\n",
       "    </tr>\n",
       "    <tr>\n",
       "      <th>5</th>\n",
       "      <td>861932</td>\n",
       "      <td>773792.359637470450</td>\n",
       "      <td>859541.000000000000</td>\n",
       "      <td>859460.670000000042</td>\n",
       "    </tr>\n",
       "    <tr>\n",
       "      <th>6</th>\n",
       "      <td>752534</td>\n",
       "      <td>717670.415830651415</td>\n",
       "      <td>749175.000000000000</td>\n",
       "      <td>751457.859999999986</td>\n",
       "    </tr>\n",
       "    <tr>\n",
       "      <th>7</th>\n",
       "      <td>1288500</td>\n",
       "      <td>1281410.399712563492</td>\n",
       "      <td>1292125.000000000000</td>\n",
       "      <td>1291118.560000000056</td>\n",
       "    </tr>\n",
       "    <tr>\n",
       "      <th>8</th>\n",
       "      <td>330979</td>\n",
       "      <td>528374.261111112079</td>\n",
       "      <td>330495.000000000000</td>\n",
       "      <td>330619.799999999988</td>\n",
       "    </tr>\n",
       "    <tr>\n",
       "      <th>9</th>\n",
       "      <td>701698</td>\n",
       "      <td>704864.772564270301</td>\n",
       "      <td>702218.000000000000</td>\n",
       "      <td>701769.849999999977</td>\n",
       "    </tr>\n",
       "  </tbody>\n",
       "</table>\n",
       "</div>"
      ],
      "text/plain": [
       "    Actual     LinearRegression         DecisionTree         RandomForest\n",
       "0    41748 -142144.138606210006   41938.000000000000   41743.400000000001\n",
       "1   265913  504129.143953389430  264609.000000000000  265432.369999999995\n",
       "2   886076 1005221.739827656187  884932.000000000000  885739.989999999991\n",
       "3   830181 1011445.700921416865  829651.000000000000  829638.270000000019\n",
       "4   123063  434916.112909295713  122795.000000000000  123054.610000000001\n",
       "5   861932  773792.359637470450  859541.000000000000  859460.670000000042\n",
       "6   752534  717670.415830651415  749175.000000000000  751457.859999999986\n",
       "7  1288500 1281410.399712563492 1292125.000000000000 1291118.560000000056\n",
       "8   330979  528374.261111112079  330495.000000000000  330619.799999999988\n",
       "9   701698  704864.772564270301  702218.000000000000  701769.849999999977"
      ]
     },
     "execution_count": 218,
     "metadata": {},
     "output_type": "execute_result"
    }
   ],
   "source": [
    "performance['RandomForest'] = list(model_predict.flatten())\n",
    "performance.head(10)"
   ]
  },
  {
   "cell_type": "code",
   "execution_count": 219,
   "metadata": {},
   "outputs": [
    {
     "name": "stdout",
     "output_type": "stream",
     "text": [
      "The RMSE for this model is  216354.37504450316\n",
      "The Normalised RMSE for this model is  0.006512088387208294\n"
     ]
    }
   ],
   "source": [
    "rmse = sqrt(mean_squared_error(y_test, model_predict))\n",
    "n_rmse = sqrt(mean_squared_error(y_test, model_predict)) / (y_test.max() - y_test.min())\n",
    "print('The RMSE for this model is ', rmse)\n",
    "print('The Normalised RMSE for this model is ', n_rmse)"
   ]
  },
  {
   "cell_type": "code",
   "execution_count": 220,
   "metadata": {},
   "outputs": [
    {
     "data": {
      "text/plain": [
       "array([2.11198376e-04, 3.02757306e-01, 3.68199542e-01, 1.15580949e-02,\n",
       "       8.58168726e-02, 5.81517113e-05, 0.00000000e+00, 2.27800352e-01,\n",
       "       5.95237341e-05, 2.61920209e-03, 9.19757381e-04])"
      ]
     },
     "execution_count": 220,
     "metadata": {},
     "output_type": "execute_result"
    }
   ],
   "source": [
    "rf_feature_importance = rf_model.feature_importances_\n",
    "rf_feature_importance"
   ]
  },
  {
   "cell_type": "markdown",
   "metadata": {},
   "source": [
    "### XGBoost w/o parameter tuning"
   ]
  },
  {
   "cell_type": "code",
   "execution_count": 230,
   "metadata": {},
   "outputs": [
    {
     "name": "stdout",
     "output_type": "stream",
     "text": [
      "Requirement already satisfied: xgboost in ./opt/anaconda3/lib/python3.8/site-packages (1.2.0)\n",
      "Requirement already satisfied: numpy in ./opt/anaconda3/lib/python3.8/site-packages (from xgboost) (1.18.5)\n",
      "Requirement already satisfied: scipy in ./opt/anaconda3/lib/python3.8/site-packages (from xgboost) (1.4.1)\n"
     ]
    }
   ],
   "source": [
    "!pip install xgboost"
   ]
  },
  {
   "cell_type": "code",
   "execution_count": 229,
   "metadata": {},
   "outputs": [
    {
     "ename": "XGBoostError",
     "evalue": "XGBoost Library (libxgboost.dylib) could not be loaded.\nLikely causes:\n  * OpenMP runtime is not installed (vcomp140.dll or libgomp-1.dll for Windows, libomp.dylib for Mac OSX, libgomp.so for Linux and other UNIX-like OSes). Mac OSX users: Run `brew install libomp` to install OpenMP runtime.\n  * You are running 32-bit Python on a 64-bit OS\nError message(s): ['dlopen(/Users/oliverpan/opt/anaconda3/lib/python3.8/site-packages/xgboost/lib/libxgboost.dylib, 6): Library not loaded: /usr/local/opt/libomp/lib/libomp.dylib\\n  Referenced from: /Users/oliverpan/opt/anaconda3/lib/python3.8/site-packages/xgboost/lib/libxgboost.dylib\\n  Reason: image not found']\n",
     "output_type": "error",
     "traceback": [
      "\u001b[0;31m---------------------------------------------------------------------------\u001b[0m",
      "\u001b[0;31mXGBoostError\u001b[0m                              Traceback (most recent call last)",
      "\u001b[0;32m<ipython-input-229-5943d1bfe3f1>\u001b[0m in \u001b[0;36m<module>\u001b[0;34m\u001b[0m\n\u001b[0;32m----> 1\u001b[0;31m \u001b[0;32mimport\u001b[0m \u001b[0mxgboost\u001b[0m \u001b[0;32mas\u001b[0m \u001b[0mxgb\u001b[0m\u001b[0;34m\u001b[0m\u001b[0;34m\u001b[0m\u001b[0m\n\u001b[0m",
      "\u001b[0;32m~/opt/anaconda3/lib/python3.8/site-packages/xgboost/__init__.py\u001b[0m in \u001b[0;36m<module>\u001b[0;34m\u001b[0m\n\u001b[1;32m      7\u001b[0m \u001b[0;32mimport\u001b[0m \u001b[0mos\u001b[0m\u001b[0;34m\u001b[0m\u001b[0;34m\u001b[0m\u001b[0m\n\u001b[1;32m      8\u001b[0m \u001b[0;34m\u001b[0m\u001b[0m\n\u001b[0;32m----> 9\u001b[0;31m \u001b[0;32mfrom\u001b[0m \u001b[0;34m.\u001b[0m\u001b[0mcore\u001b[0m \u001b[0;32mimport\u001b[0m \u001b[0mDMatrix\u001b[0m\u001b[0;34m,\u001b[0m \u001b[0mDeviceQuantileDMatrix\u001b[0m\u001b[0;34m,\u001b[0m \u001b[0mBooster\u001b[0m\u001b[0;34m\u001b[0m\u001b[0;34m\u001b[0m\u001b[0m\n\u001b[0m\u001b[1;32m     10\u001b[0m \u001b[0;32mfrom\u001b[0m \u001b[0;34m.\u001b[0m\u001b[0mtraining\u001b[0m \u001b[0;32mimport\u001b[0m \u001b[0mtrain\u001b[0m\u001b[0;34m,\u001b[0m \u001b[0mcv\u001b[0m\u001b[0;34m\u001b[0m\u001b[0;34m\u001b[0m\u001b[0m\n\u001b[1;32m     11\u001b[0m \u001b[0;32mfrom\u001b[0m \u001b[0;34m.\u001b[0m \u001b[0;32mimport\u001b[0m \u001b[0mrabit\u001b[0m  \u001b[0;31m# noqa\u001b[0m\u001b[0;34m\u001b[0m\u001b[0;34m\u001b[0m\u001b[0m\n",
      "\u001b[0;32m~/opt/anaconda3/lib/python3.8/site-packages/xgboost/core.py\u001b[0m in \u001b[0;36m<module>\u001b[0;34m\u001b[0m\n\u001b[1;32m    171\u001b[0m \u001b[0;34m\u001b[0m\u001b[0m\n\u001b[1;32m    172\u001b[0m \u001b[0;31m# load the XGBoost library globally\u001b[0m\u001b[0;34m\u001b[0m\u001b[0;34m\u001b[0m\u001b[0;34m\u001b[0m\u001b[0m\n\u001b[0;32m--> 173\u001b[0;31m \u001b[0m_LIB\u001b[0m \u001b[0;34m=\u001b[0m \u001b[0m_load_lib\u001b[0m\u001b[0;34m(\u001b[0m\u001b[0;34m)\u001b[0m\u001b[0;34m\u001b[0m\u001b[0;34m\u001b[0m\u001b[0m\n\u001b[0m\u001b[1;32m    174\u001b[0m \u001b[0;34m\u001b[0m\u001b[0m\n\u001b[1;32m    175\u001b[0m \u001b[0;34m\u001b[0m\u001b[0m\n",
      "\u001b[0;32m~/opt/anaconda3/lib/python3.8/site-packages/xgboost/core.py\u001b[0m in \u001b[0;36m_load_lib\u001b[0;34m()\u001b[0m\n\u001b[1;32m    154\u001b[0m     \u001b[0;32mif\u001b[0m \u001b[0;32mnot\u001b[0m \u001b[0mlib_success\u001b[0m\u001b[0;34m:\u001b[0m\u001b[0;34m\u001b[0m\u001b[0;34m\u001b[0m\u001b[0m\n\u001b[1;32m    155\u001b[0m         \u001b[0mlibname\u001b[0m \u001b[0;34m=\u001b[0m \u001b[0mos\u001b[0m\u001b[0;34m.\u001b[0m\u001b[0mpath\u001b[0m\u001b[0;34m.\u001b[0m\u001b[0mbasename\u001b[0m\u001b[0;34m(\u001b[0m\u001b[0mlib_paths\u001b[0m\u001b[0;34m[\u001b[0m\u001b[0;36m0\u001b[0m\u001b[0;34m]\u001b[0m\u001b[0;34m)\u001b[0m\u001b[0;34m\u001b[0m\u001b[0;34m\u001b[0m\u001b[0m\n\u001b[0;32m--> 156\u001b[0;31m         raise XGBoostError(\n\u001b[0m\u001b[1;32m    157\u001b[0m             \u001b[0;34m'XGBoost Library ({}) could not be loaded.\\n'\u001b[0m\u001b[0;34m.\u001b[0m\u001b[0mformat\u001b[0m\u001b[0;34m(\u001b[0m\u001b[0mlibname\u001b[0m\u001b[0;34m)\u001b[0m \u001b[0;34m+\u001b[0m\u001b[0;34m\u001b[0m\u001b[0;34m\u001b[0m\u001b[0m\n\u001b[1;32m    158\u001b[0m             \u001b[0;34m'Likely causes:\\n'\u001b[0m \u001b[0;34m+\u001b[0m\u001b[0;34m\u001b[0m\u001b[0;34m\u001b[0m\u001b[0m\n",
      "\u001b[0;31mXGBoostError\u001b[0m: XGBoost Library (libxgboost.dylib) could not be loaded.\nLikely causes:\n  * OpenMP runtime is not installed (vcomp140.dll or libgomp-1.dll for Windows, libomp.dylib for Mac OSX, libgomp.so for Linux and other UNIX-like OSes). Mac OSX users: Run `brew install libomp` to install OpenMP runtime.\n  * You are running 32-bit Python on a 64-bit OS\nError message(s): ['dlopen(/Users/oliverpan/opt/anaconda3/lib/python3.8/site-packages/xgboost/lib/libxgboost.dylib, 6): Library not loaded: /usr/local/opt/libomp/lib/libomp.dylib\\n  Referenced from: /Users/oliverpan/opt/anaconda3/lib/python3.8/site-packages/xgboost/lib/libxgboost.dylib\\n  Reason: image not found']\n"
     ]
    }
   ],
   "source": [
    "import xgboost as xgb"
   ]
  },
  {
   "cell_type": "code",
   "execution_count": null,
   "metadata": {},
   "outputs": [],
   "source": [
    "X = np.array(model_features.loc[:, model_features.columns != 'views_per_date'])\n",
    "y = np.array(model_features.loc[:, model_features.columns == 'views_per_date']).reshape(-1, 1)"
   ]
  },
  {
   "cell_type": "code",
   "execution_count": null,
   "metadata": {},
   "outputs": [],
   "source": [
    "X_train, X_test, y_train, y_test = train_test_split(X, y, test_size=0.2, random_state=0)"
   ]
  },
  {
   "cell_type": "code",
   "execution_count": null,
   "metadata": {},
   "outputs": [],
   "source": [
    "xgb_model = xgb.XGBRegressor()\n",
    "xgb_model.fit(X_train,y_train)"
   ]
  },
  {
   "cell_type": "markdown",
   "metadata": {},
   "source": [
    "### Understanding feature importance across all models"
   ]
  },
  {
   "cell_type": "code",
   "execution_count": 225,
   "metadata": {},
   "outputs": [],
   "source": [
    "fi_table = pd.DataFrame()"
   ]
  },
  {
   "cell_type": "code",
   "execution_count": 226,
   "metadata": {},
   "outputs": [],
   "source": [
    "fi_table['Feature'] = list(model_features.drop(['views_per_date'], axis=1).columns)"
   ]
  },
  {
   "cell_type": "code",
   "execution_count": 227,
   "metadata": {},
   "outputs": [],
   "source": [
    "# Feature importance\n",
    "fi_table['LinearRegression'] = [float(i)/sum(lr_feature_importance[0]) for i in lr_feature_importance[0]]\n",
    "fi_table['DecisionTrees'] = dt_feature_importance\n",
    "fi_table['RandomForest'] = rf_feature_importance"
   ]
  },
  {
   "cell_type": "code",
   "execution_count": 228,
   "metadata": {},
   "outputs": [
    {
     "data": {
      "text/html": [
       "<div>\n",
       "<style scoped>\n",
       "    .dataframe tbody tr th:only-of-type {\n",
       "        vertical-align: middle;\n",
       "    }\n",
       "\n",
       "    .dataframe tbody tr th {\n",
       "        vertical-align: top;\n",
       "    }\n",
       "\n",
       "    .dataframe thead th {\n",
       "        text-align: right;\n",
       "    }\n",
       "</style>\n",
       "<table border=\"1\" class=\"dataframe\">\n",
       "  <thead>\n",
       "    <tr style=\"text-align: right;\">\n",
       "      <th></th>\n",
       "      <th>Feature</th>\n",
       "      <th>LinearRegression</th>\n",
       "      <th>DecisionTrees</th>\n",
       "      <th>RandomForest</th>\n",
       "    </tr>\n",
       "  </thead>\n",
       "  <tbody>\n",
       "    <tr>\n",
       "      <th>0</th>\n",
       "      <td>categoryId</td>\n",
       "      <td>-0.001123652783</td>\n",
       "      <td>0.000010283799</td>\n",
       "      <td>0.000211198376</td>\n",
       "    </tr>\n",
       "    <tr>\n",
       "      <th>1</th>\n",
       "      <td>view_count</td>\n",
       "      <td>0.000000025143</td>\n",
       "      <td>0.234547616365</td>\n",
       "      <td>0.302757305534</td>\n",
       "    </tr>\n",
       "    <tr>\n",
       "      <th>2</th>\n",
       "      <td>likes</td>\n",
       "      <td>0.000000268496</td>\n",
       "      <td>0.483053971143</td>\n",
       "      <td>0.368199541959</td>\n",
       "    </tr>\n",
       "    <tr>\n",
       "      <th>3</th>\n",
       "      <td>dislikes</td>\n",
       "      <td>-0.000000422051</td>\n",
       "      <td>0.000561665754</td>\n",
       "      <td>0.011558094942</td>\n",
       "    </tr>\n",
       "    <tr>\n",
       "      <th>4</th>\n",
       "      <td>comment_count</td>\n",
       "      <td>0.000000535011</td>\n",
       "      <td>0.030681857121</td>\n",
       "      <td>0.085816872644</td>\n",
       "    </tr>\n",
       "    <tr>\n",
       "      <th>5</th>\n",
       "      <td>comments_disabled</td>\n",
       "      <td>0.106972153997</td>\n",
       "      <td>0.000000079813</td>\n",
       "      <td>0.000058151711</td>\n",
       "    </tr>\n",
       "    <tr>\n",
       "      <th>6</th>\n",
       "      <td>ratings_disabled</td>\n",
       "      <td>-0.000000000000</td>\n",
       "      <td>0.000000000000</td>\n",
       "      <td>0.000000000000</td>\n",
       "    </tr>\n",
       "    <tr>\n",
       "      <th>7</th>\n",
       "      <td>time_to_trend</td>\n",
       "      <td>-0.037655757653</td>\n",
       "      <td>0.250916501777</td>\n",
       "      <td>0.227800351627</td>\n",
       "    </tr>\n",
       "    <tr>\n",
       "      <th>8</th>\n",
       "      <td>no_description</td>\n",
       "      <td>0.046427404609</td>\n",
       "      <td>0.000000000726</td>\n",
       "      <td>0.000059523734</td>\n",
       "    </tr>\n",
       "    <tr>\n",
       "      <th>9</th>\n",
       "      <td>num_trending</td>\n",
       "      <td>0.001369508756</td>\n",
       "      <td>0.000228023502</td>\n",
       "      <td>0.002619202093</td>\n",
       "    </tr>\n",
       "    <tr>\n",
       "      <th>10</th>\n",
       "      <td>successful_trend</td>\n",
       "      <td>0.884009936475</td>\n",
       "      <td>0.000000000000</td>\n",
       "      <td>0.000919757381</td>\n",
       "    </tr>\n",
       "  </tbody>\n",
       "</table>\n",
       "</div>"
      ],
      "text/plain": [
       "              Feature  LinearRegression  DecisionTrees   RandomForest\n",
       "0          categoryId   -0.001123652783 0.000010283799 0.000211198376\n",
       "1          view_count    0.000000025143 0.234547616365 0.302757305534\n",
       "2               likes    0.000000268496 0.483053971143 0.368199541959\n",
       "3            dislikes   -0.000000422051 0.000561665754 0.011558094942\n",
       "4       comment_count    0.000000535011 0.030681857121 0.085816872644\n",
       "5   comments_disabled    0.106972153997 0.000000079813 0.000058151711\n",
       "6    ratings_disabled   -0.000000000000 0.000000000000 0.000000000000\n",
       "7       time_to_trend   -0.037655757653 0.250916501777 0.227800351627\n",
       "8      no_description    0.046427404609 0.000000000726 0.000059523734\n",
       "9        num_trending    0.001369508756 0.000228023502 0.002619202093\n",
       "10   successful_trend    0.884009936475 0.000000000000 0.000919757381"
      ]
     },
     "execution_count": 228,
     "metadata": {},
     "output_type": "execute_result"
    }
   ],
   "source": [
    "fi_table"
   ]
  },
  {
   "cell_type": "code",
   "execution_count": null,
   "metadata": {},
   "outputs": [],
   "source": []
  }
 ],
 "metadata": {
  "kernelspec": {
   "display_name": "Python 3",
   "language": "python",
   "name": "python3"
  },
  "language_info": {
   "codemirror_mode": {
    "name": "ipython",
    "version": 3
   },
   "file_extension": ".py",
   "mimetype": "text/x-python",
   "name": "python",
   "nbconvert_exporter": "python",
   "pygments_lexer": "ipython3",
   "version": "3.8.3"
  }
 },
 "nbformat": 4,
 "nbformat_minor": 4
}
