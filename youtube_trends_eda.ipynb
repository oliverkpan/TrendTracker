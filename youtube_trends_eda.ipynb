{
 "cells": [
  {
   "cell_type": "markdown",
   "metadata": {},
   "source": [
    "# TrendTracker: Exploring Trending Youtube Videos in Canada"
   ]
  },
  {
   "cell_type": "markdown",
   "metadata": {},
   "source": [
    "### Introduction"
   ]
  },
  {
   "cell_type": "markdown",
   "metadata": {},
   "source": [
    "When browsing Kaggle, I was fortunate enough to find a dataset that contained data on Youtube videos. Specically, this dataset highlights trending videos, with additional data such as tags, description, etc. This type of data is very applicable to life, so I decided to go ahead and explore it. I want to know what makes a video viral!"
   ]
  },
  {
   "cell_type": "markdown",
   "metadata": {},
   "source": [
    "#### Goals\n",
    "Some of the goals I have for this project are also inspired by the creator, **Rishav Sharma**.\n",
    "\n",
    "1. Categorize and cluster youtube videos based on features\n",
    "  \n",
    "2. Analyze what features make a youtube video successful\n",
    "  \n",
    "3. See the overall trend of youtube success, and apply that to future trending videos"
   ]
  },
  {
   "cell_type": "markdown",
   "metadata": {},
   "source": [
    "### Notebook Contents"
   ]
  },
  {
   "cell_type": "markdown",
   "metadata": {},
   "source": [
    "In this notebook, we will explore the data and get a feel for what we are working with. I will describe the data and point out any issues we may have. When we are contructing our machine learning models, we need to be aware of our data, and clean if necessary."
   ]
  },
  {
   "cell_type": "markdown",
   "metadata": {},
   "source": [
    "### Import Libraries and Data"
   ]
  },
  {
   "cell_type": "code",
   "execution_count": 2,
   "metadata": {},
   "outputs": [],
   "source": [
    "import pandas as pd\n",
    "import numpy as np\n",
    "import matplotlib.pyplot as plt\n",
    "import seaborn as sns\n",
    "import datetime"
   ]
  },
  {
   "cell_type": "code",
   "execution_count": 3,
   "metadata": {},
   "outputs": [],
   "source": [
    "# File name represents most recent update\n",
    "file = r'/Users/OliverPan/Desktop/youtube_data/trend_12-03-20.csv'"
   ]
  },
  {
   "cell_type": "code",
   "execution_count": 4,
   "metadata": {},
   "outputs": [],
   "source": [
    "trends = pd.read_csv(file)"
   ]
  },
  {
   "cell_type": "code",
   "execution_count": 5,
   "metadata": {},
   "outputs": [],
   "source": [
    "# Change format\n",
    "pd.options.display.float_format = '{:.5f}'.format"
   ]
  },
  {
   "cell_type": "markdown",
   "metadata": {},
   "source": [
    "### Exploratory Data Analysis"
   ]
  },
  {
   "cell_type": "code",
   "execution_count": 6,
   "metadata": {},
   "outputs": [
    {
     "data": {
      "text/html": [
       "<div>\n",
       "<style scoped>\n",
       "    .dataframe tbody tr th:only-of-type {\n",
       "        vertical-align: middle;\n",
       "    }\n",
       "\n",
       "    .dataframe tbody tr th {\n",
       "        vertical-align: top;\n",
       "    }\n",
       "\n",
       "    .dataframe thead th {\n",
       "        text-align: right;\n",
       "    }\n",
       "</style>\n",
       "<table border=\"1\" class=\"dataframe\">\n",
       "  <thead>\n",
       "    <tr style=\"text-align: right;\">\n",
       "      <th></th>\n",
       "      <th>video_id</th>\n",
       "      <th>title</th>\n",
       "      <th>publishedAt</th>\n",
       "      <th>channelId</th>\n",
       "      <th>channelTitle</th>\n",
       "      <th>categoryId</th>\n",
       "      <th>trending_date</th>\n",
       "      <th>tags</th>\n",
       "      <th>view_count</th>\n",
       "      <th>likes</th>\n",
       "      <th>dislikes</th>\n",
       "      <th>comment_count</th>\n",
       "      <th>thumbnail_link</th>\n",
       "      <th>comments_disabled</th>\n",
       "      <th>ratings_disabled</th>\n",
       "      <th>description</th>\n",
       "    </tr>\n",
       "  </thead>\n",
       "  <tbody>\n",
       "    <tr>\n",
       "      <th>0</th>\n",
       "      <td>KX06ksuS6Xo</td>\n",
       "      <td>Diljit Dosanjh: CLASH (Official) Music Video |...</td>\n",
       "      <td>2020-08-11T07:30:02Z</td>\n",
       "      <td>UCZRdNleCgW-BGUJf-bbjzQg</td>\n",
       "      <td>Diljit Dosanjh</td>\n",
       "      <td>10</td>\n",
       "      <td>2020-08-12T00:00:00Z</td>\n",
       "      <td>clash diljit dosanjh|diljit dosanjh|diljit dos...</td>\n",
       "      <td>9140911</td>\n",
       "      <td>296541</td>\n",
       "      <td>6180</td>\n",
       "      <td>30059</td>\n",
       "      <td>https://i.ytimg.com/vi/KX06ksuS6Xo/default.jpg</td>\n",
       "      <td>False</td>\n",
       "      <td>False</td>\n",
       "      <td>CLASH official music video performed by DILJIT...</td>\n",
       "    </tr>\n",
       "    <tr>\n",
       "      <th>1</th>\n",
       "      <td>J78aPJ3VyNs</td>\n",
       "      <td>I left youtube for a month and THIS is what ha...</td>\n",
       "      <td>2020-08-11T16:34:06Z</td>\n",
       "      <td>UCYzPXprvl5Y-Sf0g4vX-m6g</td>\n",
       "      <td>jacksepticeye</td>\n",
       "      <td>24</td>\n",
       "      <td>2020-08-12T00:00:00Z</td>\n",
       "      <td>jacksepticeye|funny|funny meme|memes|jacksepti...</td>\n",
       "      <td>2038853</td>\n",
       "      <td>353797</td>\n",
       "      <td>2628</td>\n",
       "      <td>40222</td>\n",
       "      <td>https://i.ytimg.com/vi/J78aPJ3VyNs/default.jpg</td>\n",
       "      <td>False</td>\n",
       "      <td>False</td>\n",
       "      <td>I left youtube for a month and this is what ha...</td>\n",
       "    </tr>\n",
       "    <tr>\n",
       "      <th>2</th>\n",
       "      <td>M9Pmf9AB4Mo</td>\n",
       "      <td>Apex Legends | Stories from the Outlands – “Th...</td>\n",
       "      <td>2020-08-11T17:00:10Z</td>\n",
       "      <td>UC0ZV6M2THA81QT9hrVWJG3A</td>\n",
       "      <td>Apex Legends</td>\n",
       "      <td>20</td>\n",
       "      <td>2020-08-12T00:00:00Z</td>\n",
       "      <td>Apex Legends|Apex Legends characters|new Apex ...</td>\n",
       "      <td>2381688</td>\n",
       "      <td>146740</td>\n",
       "      <td>2794</td>\n",
       "      <td>16549</td>\n",
       "      <td>https://i.ytimg.com/vi/M9Pmf9AB4Mo/default.jpg</td>\n",
       "      <td>False</td>\n",
       "      <td>False</td>\n",
       "      <td>While running her own modding shop, Ramya Pare...</td>\n",
       "    </tr>\n",
       "    <tr>\n",
       "      <th>3</th>\n",
       "      <td>3C66w5Z0ixs</td>\n",
       "      <td>I ASKED HER TO BE MY GIRLFRIEND...</td>\n",
       "      <td>2020-08-11T19:20:14Z</td>\n",
       "      <td>UCvtRTOMP2TqYqu51xNrqAzg</td>\n",
       "      <td>Brawadis</td>\n",
       "      <td>22</td>\n",
       "      <td>2020-08-12T00:00:00Z</td>\n",
       "      <td>brawadis|prank|basketball|skits|ghost|funny vi...</td>\n",
       "      <td>1514614</td>\n",
       "      <td>156914</td>\n",
       "      <td>5857</td>\n",
       "      <td>35331</td>\n",
       "      <td>https://i.ytimg.com/vi/3C66w5Z0ixs/default.jpg</td>\n",
       "      <td>False</td>\n",
       "      <td>False</td>\n",
       "      <td>SUBSCRIBE to BRAWADIS ▶ http://bit.ly/Subscrib...</td>\n",
       "    </tr>\n",
       "    <tr>\n",
       "      <th>4</th>\n",
       "      <td>VIUo6yapDbc</td>\n",
       "      <td>Ultimate DIY Home Movie Theater for The LaBran...</td>\n",
       "      <td>2020-08-11T15:10:05Z</td>\n",
       "      <td>UCDVPcEbVLQgLZX0Rt6jo34A</td>\n",
       "      <td>Mr. Kate</td>\n",
       "      <td>26</td>\n",
       "      <td>2020-08-12T00:00:00Z</td>\n",
       "      <td>The LaBrant Family|DIY|Interior Design|Makeove...</td>\n",
       "      <td>1123889</td>\n",
       "      <td>45803</td>\n",
       "      <td>964</td>\n",
       "      <td>2198</td>\n",
       "      <td>https://i.ytimg.com/vi/VIUo6yapDbc/default.jpg</td>\n",
       "      <td>False</td>\n",
       "      <td>False</td>\n",
       "      <td>Transforming The LaBrant Family's empty white ...</td>\n",
       "    </tr>\n",
       "  </tbody>\n",
       "</table>\n",
       "</div>"
      ],
      "text/plain": [
       "      video_id                                              title  \\\n",
       "0  KX06ksuS6Xo  Diljit Dosanjh: CLASH (Official) Music Video |...   \n",
       "1  J78aPJ3VyNs  I left youtube for a month and THIS is what ha...   \n",
       "2  M9Pmf9AB4Mo  Apex Legends | Stories from the Outlands – “Th...   \n",
       "3  3C66w5Z0ixs                 I ASKED HER TO BE MY GIRLFRIEND...   \n",
       "4  VIUo6yapDbc  Ultimate DIY Home Movie Theater for The LaBran...   \n",
       "\n",
       "            publishedAt                 channelId    channelTitle  categoryId  \\\n",
       "0  2020-08-11T07:30:02Z  UCZRdNleCgW-BGUJf-bbjzQg  Diljit Dosanjh          10   \n",
       "1  2020-08-11T16:34:06Z  UCYzPXprvl5Y-Sf0g4vX-m6g   jacksepticeye          24   \n",
       "2  2020-08-11T17:00:10Z  UC0ZV6M2THA81QT9hrVWJG3A    Apex Legends          20   \n",
       "3  2020-08-11T19:20:14Z  UCvtRTOMP2TqYqu51xNrqAzg        Brawadis          22   \n",
       "4  2020-08-11T15:10:05Z  UCDVPcEbVLQgLZX0Rt6jo34A        Mr. Kate          26   \n",
       "\n",
       "          trending_date                                               tags  \\\n",
       "0  2020-08-12T00:00:00Z  clash diljit dosanjh|diljit dosanjh|diljit dos...   \n",
       "1  2020-08-12T00:00:00Z  jacksepticeye|funny|funny meme|memes|jacksepti...   \n",
       "2  2020-08-12T00:00:00Z  Apex Legends|Apex Legends characters|new Apex ...   \n",
       "3  2020-08-12T00:00:00Z  brawadis|prank|basketball|skits|ghost|funny vi...   \n",
       "4  2020-08-12T00:00:00Z  The LaBrant Family|DIY|Interior Design|Makeove...   \n",
       "\n",
       "   view_count   likes  dislikes  comment_count  \\\n",
       "0     9140911  296541      6180          30059   \n",
       "1     2038853  353797      2628          40222   \n",
       "2     2381688  146740      2794          16549   \n",
       "3     1514614  156914      5857          35331   \n",
       "4     1123889   45803       964           2198   \n",
       "\n",
       "                                   thumbnail_link  comments_disabled  \\\n",
       "0  https://i.ytimg.com/vi/KX06ksuS6Xo/default.jpg              False   \n",
       "1  https://i.ytimg.com/vi/J78aPJ3VyNs/default.jpg              False   \n",
       "2  https://i.ytimg.com/vi/M9Pmf9AB4Mo/default.jpg              False   \n",
       "3  https://i.ytimg.com/vi/3C66w5Z0ixs/default.jpg              False   \n",
       "4  https://i.ytimg.com/vi/VIUo6yapDbc/default.jpg              False   \n",
       "\n",
       "   ratings_disabled                                        description  \n",
       "0             False  CLASH official music video performed by DILJIT...  \n",
       "1             False  I left youtube for a month and this is what ha...  \n",
       "2             False  While running her own modding shop, Ramya Pare...  \n",
       "3             False  SUBSCRIBE to BRAWADIS ▶ http://bit.ly/Subscrib...  \n",
       "4             False  Transforming The LaBrant Family's empty white ...  "
      ]
     },
     "execution_count": 6,
     "metadata": {},
     "output_type": "execute_result"
    }
   ],
   "source": [
    "# Get a feel for how the data looks\n",
    "trends.head()"
   ]
  },
  {
   "cell_type": "markdown",
   "metadata": {},
   "source": [
    "### Data Profiling"
   ]
  },
  {
   "cell_type": "code",
   "execution_count": 8,
   "metadata": {},
   "outputs": [
    {
     "data": {
      "text/plain": [
       "(22400, 16)"
      ]
     },
     "execution_count": 8,
     "metadata": {},
     "output_type": "execute_result"
    }
   ],
   "source": [
    "# See the size and structure of data\n",
    "trends.shape"
   ]
  },
  {
   "cell_type": "markdown",
   "metadata": {},
   "source": [
    "This means we have 22400 rows of data, and 16 columns per row"
   ]
  },
  {
   "cell_type": "code",
   "execution_count": 9,
   "metadata": {},
   "outputs": [
    {
     "data": {
      "text/html": [
       "<div>\n",
       "<style scoped>\n",
       "    .dataframe tbody tr th:only-of-type {\n",
       "        vertical-align: middle;\n",
       "    }\n",
       "\n",
       "    .dataframe tbody tr th {\n",
       "        vertical-align: top;\n",
       "    }\n",
       "\n",
       "    .dataframe thead th {\n",
       "        text-align: right;\n",
       "    }\n",
       "</style>\n",
       "<table border=\"1\" class=\"dataframe\">\n",
       "  <thead>\n",
       "    <tr style=\"text-align: right;\">\n",
       "      <th></th>\n",
       "      <th>categoryId</th>\n",
       "      <th>view_count</th>\n",
       "      <th>likes</th>\n",
       "      <th>dislikes</th>\n",
       "      <th>comment_count</th>\n",
       "    </tr>\n",
       "  </thead>\n",
       "  <tbody>\n",
       "    <tr>\n",
       "      <th>count</th>\n",
       "      <td>22400.00000</td>\n",
       "      <td>22400.00000</td>\n",
       "      <td>22400.00000</td>\n",
       "      <td>22400.00000</td>\n",
       "      <td>22400.00000</td>\n",
       "    </tr>\n",
       "    <tr>\n",
       "      <th>mean</th>\n",
       "      <td>19.20607</td>\n",
       "      <td>2490682.58625</td>\n",
       "      <td>155618.90786</td>\n",
       "      <td>3694.09897</td>\n",
       "      <td>18253.96250</td>\n",
       "    </tr>\n",
       "    <tr>\n",
       "      <th>std</th>\n",
       "      <td>7.04592</td>\n",
       "      <td>7104581.76535</td>\n",
       "      <td>515116.63400</td>\n",
       "      <td>21586.13290</td>\n",
       "      <td>153717.31406</td>\n",
       "    </tr>\n",
       "    <tr>\n",
       "      <th>min</th>\n",
       "      <td>1.00000</td>\n",
       "      <td>37503.00000</td>\n",
       "      <td>0.00000</td>\n",
       "      <td>0.00000</td>\n",
       "      <td>0.00000</td>\n",
       "    </tr>\n",
       "    <tr>\n",
       "      <th>25%</th>\n",
       "      <td>17.00000</td>\n",
       "      <td>420217.75000</td>\n",
       "      <td>17379.75000</td>\n",
       "      <td>318.00000</td>\n",
       "      <td>1597.00000</td>\n",
       "    </tr>\n",
       "    <tr>\n",
       "      <th>50%</th>\n",
       "      <td>22.00000</td>\n",
       "      <td>920557.00000</td>\n",
       "      <td>46600.50000</td>\n",
       "      <td>801.00000</td>\n",
       "      <td>3830.00000</td>\n",
       "    </tr>\n",
       "    <tr>\n",
       "      <th>75%</th>\n",
       "      <td>24.00000</td>\n",
       "      <td>2153668.00000</td>\n",
       "      <td>128303.25000</td>\n",
       "      <td>2333.50000</td>\n",
       "      <td>9540.25000</td>\n",
       "    </tr>\n",
       "    <tr>\n",
       "      <th>max</th>\n",
       "      <td>29.00000</td>\n",
       "      <td>232649205.00000</td>\n",
       "      <td>15735572.00000</td>\n",
       "      <td>879357.00000</td>\n",
       "      <td>6064909.00000</td>\n",
       "    </tr>\n",
       "  </tbody>\n",
       "</table>\n",
       "</div>"
      ],
      "text/plain": [
       "       categoryId      view_count          likes     dislikes  comment_count\n",
       "count 22400.00000     22400.00000    22400.00000  22400.00000    22400.00000\n",
       "mean     19.20607   2490682.58625   155618.90786   3694.09897    18253.96250\n",
       "std       7.04592   7104581.76535   515116.63400  21586.13290   153717.31406\n",
       "min       1.00000     37503.00000        0.00000      0.00000        0.00000\n",
       "25%      17.00000    420217.75000    17379.75000    318.00000     1597.00000\n",
       "50%      22.00000    920557.00000    46600.50000    801.00000     3830.00000\n",
       "75%      24.00000   2153668.00000   128303.25000   2333.50000     9540.25000\n",
       "max      29.00000 232649205.00000 15735572.00000 879357.00000  6064909.00000"
      ]
     },
     "execution_count": 9,
     "metadata": {},
     "output_type": "execute_result"
    }
   ],
   "source": [
    "trends.describe()"
   ]
  },
  {
   "cell_type": "markdown",
   "metadata": {},
   "source": [
    "We can see our numerical columns here, and various statistical measures that will be important later on"
   ]
  },
  {
   "cell_type": "code",
   "execution_count": 10,
   "metadata": {},
   "outputs": [
    {
     "name": "stdout",
     "output_type": "stream",
     "text": [
      "<class 'pandas.core.frame.DataFrame'>\n",
      "RangeIndex: 22400 entries, 0 to 22399\n",
      "Data columns (total 16 columns):\n",
      " #   Column             Non-Null Count  Dtype \n",
      "---  ------             --------------  ----- \n",
      " 0   video_id           22400 non-null  object\n",
      " 1   title              22400 non-null  object\n",
      " 2   publishedAt        22400 non-null  object\n",
      " 3   channelId          22400 non-null  object\n",
      " 4   channelTitle       22400 non-null  object\n",
      " 5   categoryId         22400 non-null  int64 \n",
      " 6   trending_date      22400 non-null  object\n",
      " 7   tags               22400 non-null  object\n",
      " 8   view_count         22400 non-null  int64 \n",
      " 9   likes              22400 non-null  int64 \n",
      " 10  dislikes           22400 non-null  int64 \n",
      " 11  comment_count      22400 non-null  int64 \n",
      " 12  thumbnail_link     22400 non-null  object\n",
      " 13  comments_disabled  22400 non-null  bool  \n",
      " 14  ratings_disabled   22400 non-null  bool  \n",
      " 15  description        22274 non-null  object\n",
      "dtypes: bool(2), int64(5), object(9)\n",
      "memory usage: 2.4+ MB\n"
     ]
    }
   ],
   "source": [
    "# Explore data types to see what we are working with\n",
    "trends.info()"
   ]
  },
  {
   "cell_type": "markdown",
   "metadata": {},
   "source": [
    "### Columns and Unique Values"
   ]
  },
  {
   "cell_type": "code",
   "execution_count": 7,
   "metadata": {},
   "outputs": [
    {
     "data": {
      "text/plain": [
       "Index(['video_id', 'title', 'publishedAt', 'channelId', 'channelTitle',\n",
       "       'categoryId', 'trending_date', 'tags', 'view_count', 'likes',\n",
       "       'dislikes', 'comment_count', 'thumbnail_link', 'comments_disabled',\n",
       "       'ratings_disabled', 'description'],\n",
       "      dtype='object')"
      ]
     },
     "execution_count": 7,
     "metadata": {},
     "output_type": "execute_result"
    }
   ],
   "source": [
    "trends.columns"
   ]
  },
  {
   "cell_type": "code",
   "execution_count": 27,
   "metadata": {},
   "outputs": [
    {
     "data": {
      "text/plain": [
       "video_id              4689\n",
       "title                 4793\n",
       "publishedAt            124\n",
       "channelId             2056\n",
       "channelTitle          2065\n",
       "categoryId              15\n",
       "trending_date          112\n",
       "tags                  3976\n",
       "view_count           22276\n",
       "likes                20637\n",
       "dislikes              6543\n",
       "comment_count        12071\n",
       "thumbnail_link        4689\n",
       "comments_disabled        2\n",
       "ratings_disabled         2\n",
       "description           4992\n",
       "dtype: int64"
      ]
     },
     "execution_count": 27,
     "metadata": {},
     "output_type": "execute_result"
    }
   ],
   "source": [
    "trends.nunique()"
   ]
  },
  {
   "cell_type": "markdown",
   "metadata": {},
   "source": [
    "### Interpreting Null Values"
   ]
  },
  {
   "cell_type": "code",
   "execution_count": 11,
   "metadata": {},
   "outputs": [
    {
     "data": {
      "text/plain": [
       "<matplotlib.axes._subplots.AxesSubplot at 0x7fb29a726370>"
      ]
     },
     "execution_count": 11,
     "metadata": {},
     "output_type": "execute_result"
    },
    {
     "data": {
      "image/png": "[encoded data removed]",
      "text/plain": [
       "<Figure size 432x288 with 2 Axes>"
      ]
     },
     "metadata": {
      "needs_background": "light"
     },
     "output_type": "display_data"
    }
   ],
   "source": [
    "# Are we missing any values (NULL)\n",
    "sns.heatmap(trends.isnull())"
   ]
  },
  {
   "cell_type": "code",
   "execution_count": 12,
   "metadata": {},
   "outputs": [
    {
     "data": {
      "text/plain": [
       "<matplotlib.axes._subplots.AxesSubplot at 0x7fb28168ebb0>"
      ]
     },
     "execution_count": 12,
     "metadata": {},
     "output_type": "execute_result"
    },
    {
     "data": {
      "image/png": "[encoded data removed]",
      "text/plain": [
       "<Figure size 432x288 with 2 Axes>"
      ]
     },
     "metadata": {
      "needs_background": "light"
     },
     "output_type": "display_data"
    }
   ],
   "source": [
    "# Seems like it is only one column so take a deeper dive\n",
    "sns.heatmap(trends[['description']].isnull())"
   ]
  },
  {
   "cell_type": "code",
   "execution_count": 13,
   "metadata": {},
   "outputs": [
    {
     "data": {
      "text/html": [
       "<div>\n",
       "<style scoped>\n",
       "    .dataframe tbody tr th:only-of-type {\n",
       "        vertical-align: middle;\n",
       "    }\n",
       "\n",
       "    .dataframe tbody tr th {\n",
       "        vertical-align: top;\n",
       "    }\n",
       "\n",
       "    .dataframe thead th {\n",
       "        text-align: right;\n",
       "    }\n",
       "</style>\n",
       "<table border=\"1\" class=\"dataframe\">\n",
       "  <thead>\n",
       "    <tr style=\"text-align: right;\">\n",
       "      <th></th>\n",
       "      <th>video_id</th>\n",
       "      <th>title</th>\n",
       "      <th>publishedAt</th>\n",
       "      <th>channelId</th>\n",
       "      <th>channelTitle</th>\n",
       "      <th>categoryId</th>\n",
       "      <th>trending_date</th>\n",
       "      <th>tags</th>\n",
       "      <th>view_count</th>\n",
       "      <th>likes</th>\n",
       "      <th>dislikes</th>\n",
       "      <th>comment_count</th>\n",
       "      <th>thumbnail_link</th>\n",
       "      <th>comments_disabled</th>\n",
       "      <th>ratings_disabled</th>\n",
       "      <th>description</th>\n",
       "    </tr>\n",
       "  </thead>\n",
       "  <tbody>\n",
       "    <tr>\n",
       "      <th>90</th>\n",
       "      <td>yyXGTANms4g</td>\n",
       "      <td>BENEFIT PAPA</td>\n",
       "      <td>2020-08-11T09:28:25Z</td>\n",
       "      <td>UCxAkiUiL3KnMl0BIFBv6xxA</td>\n",
       "      <td>Mr Macaroni</td>\n",
       "      <td>24</td>\n",
       "      <td>2020-08-12T00:00:00Z</td>\n",
       "      <td>[None]</td>\n",
       "      <td>121898</td>\n",
       "      <td>8795</td>\n",
       "      <td>60</td>\n",
       "      <td>1205</td>\n",
       "      <td>https://i.ytimg.com/vi/yyXGTANms4g/default.jpg</td>\n",
       "      <td>False</td>\n",
       "      <td>False</td>\n",
       "      <td>NaN</td>\n",
       "    </tr>\n",
       "    <tr>\n",
       "      <th>222</th>\n",
       "      <td>NSuaUok-wTY</td>\n",
       "      <td>[1147] Locksmith Says My Videos Are BS... Lose...</td>\n",
       "      <td>2020-08-12T13:00:12Z</td>\n",
       "      <td>UCm9K6rby98W8JigLoZOh6FQ</td>\n",
       "      <td>LockPickingLawyer</td>\n",
       "      <td>27</td>\n",
       "      <td>2020-08-13T00:00:00Z</td>\n",
       "      <td>Lock|picking</td>\n",
       "      <td>422963</td>\n",
       "      <td>62940</td>\n",
       "      <td>168</td>\n",
       "      <td>7301</td>\n",
       "      <td>https://i.ytimg.com/vi/NSuaUok-wTY/default.jpg</td>\n",
       "      <td>False</td>\n",
       "      <td>False</td>\n",
       "      <td>NaN</td>\n",
       "    </tr>\n",
       "    <tr>\n",
       "      <th>317</th>\n",
       "      <td>yyXGTANms4g</td>\n",
       "      <td>BENEFIT PAPA</td>\n",
       "      <td>2020-08-11T09:28:25Z</td>\n",
       "      <td>UCxAkiUiL3KnMl0BIFBv6xxA</td>\n",
       "      <td>Mr Macaroni</td>\n",
       "      <td>24</td>\n",
       "      <td>2020-08-13T00:00:00Z</td>\n",
       "      <td>[None]</td>\n",
       "      <td>150314</td>\n",
       "      <td>9737</td>\n",
       "      <td>65</td>\n",
       "      <td>1282</td>\n",
       "      <td>https://i.ytimg.com/vi/yyXGTANms4g/default.jpg</td>\n",
       "      <td>False</td>\n",
       "      <td>False</td>\n",
       "      <td>NaN</td>\n",
       "    </tr>\n",
       "    <tr>\n",
       "      <th>445</th>\n",
       "      <td>NSuaUok-wTY</td>\n",
       "      <td>[1147] Locksmith Says My Videos Are BS... Lose...</td>\n",
       "      <td>2020-08-12T13:00:12Z</td>\n",
       "      <td>UCm9K6rby98W8JigLoZOh6FQ</td>\n",
       "      <td>LockPickingLawyer</td>\n",
       "      <td>27</td>\n",
       "      <td>2020-08-14T00:00:00Z</td>\n",
       "      <td>Lock|picking</td>\n",
       "      <td>511773</td>\n",
       "      <td>69611</td>\n",
       "      <td>214</td>\n",
       "      <td>7837</td>\n",
       "      <td>https://i.ytimg.com/vi/NSuaUok-wTY/default.jpg</td>\n",
       "      <td>False</td>\n",
       "      <td>False</td>\n",
       "      <td>NaN</td>\n",
       "    </tr>\n",
       "    <tr>\n",
       "      <th>542</th>\n",
       "      <td>yyXGTANms4g</td>\n",
       "      <td>BENEFIT PAPA</td>\n",
       "      <td>2020-08-11T09:28:25Z</td>\n",
       "      <td>UCxAkiUiL3KnMl0BIFBv6xxA</td>\n",
       "      <td>Mr Macaroni</td>\n",
       "      <td>24</td>\n",
       "      <td>2020-08-14T00:00:00Z</td>\n",
       "      <td>[None]</td>\n",
       "      <td>173118</td>\n",
       "      <td>10486</td>\n",
       "      <td>74</td>\n",
       "      <td>1343</td>\n",
       "      <td>https://i.ytimg.com/vi/yyXGTANms4g/default.jpg</td>\n",
       "      <td>False</td>\n",
       "      <td>False</td>\n",
       "      <td>NaN</td>\n",
       "    </tr>\n",
       "  </tbody>\n",
       "</table>\n",
       "</div>"
      ],
      "text/plain": [
       "        video_id                                              title  \\\n",
       "90   yyXGTANms4g                                       BENEFIT PAPA   \n",
       "222  NSuaUok-wTY  [1147] Locksmith Says My Videos Are BS... Lose...   \n",
       "317  yyXGTANms4g                                       BENEFIT PAPA   \n",
       "445  NSuaUok-wTY  [1147] Locksmith Says My Videos Are BS... Lose...   \n",
       "542  yyXGTANms4g                                       BENEFIT PAPA   \n",
       "\n",
       "              publishedAt                 channelId       channelTitle  \\\n",
       "90   2020-08-11T09:28:25Z  UCxAkiUiL3KnMl0BIFBv6xxA        Mr Macaroni   \n",
       "222  2020-08-12T13:00:12Z  UCm9K6rby98W8JigLoZOh6FQ  LockPickingLawyer   \n",
       "317  2020-08-11T09:28:25Z  UCxAkiUiL3KnMl0BIFBv6xxA        Mr Macaroni   \n",
       "445  2020-08-12T13:00:12Z  UCm9K6rby98W8JigLoZOh6FQ  LockPickingLawyer   \n",
       "542  2020-08-11T09:28:25Z  UCxAkiUiL3KnMl0BIFBv6xxA        Mr Macaroni   \n",
       "\n",
       "     categoryId         trending_date          tags  view_count  likes  \\\n",
       "90           24  2020-08-12T00:00:00Z        [None]      121898   8795   \n",
       "222          27  2020-08-13T00:00:00Z  Lock|picking      422963  62940   \n",
       "317          24  2020-08-13T00:00:00Z        [None]      150314   9737   \n",
       "445          27  2020-08-14T00:00:00Z  Lock|picking      511773  69611   \n",
       "542          24  2020-08-14T00:00:00Z        [None]      173118  10486   \n",
       "\n",
       "     dislikes  comment_count                                  thumbnail_link  \\\n",
       "90         60           1205  https://i.ytimg.com/vi/yyXGTANms4g/default.jpg   \n",
       "222       168           7301  https://i.ytimg.com/vi/NSuaUok-wTY/default.jpg   \n",
       "317        65           1282  https://i.ytimg.com/vi/yyXGTANms4g/default.jpg   \n",
       "445       214           7837  https://i.ytimg.com/vi/NSuaUok-wTY/default.jpg   \n",
       "542        74           1343  https://i.ytimg.com/vi/yyXGTANms4g/default.jpg   \n",
       "\n",
       "     comments_disabled  ratings_disabled description  \n",
       "90               False             False         NaN  \n",
       "222              False             False         NaN  \n",
       "317              False             False         NaN  \n",
       "445              False             False         NaN  \n",
       "542              False             False         NaN  "
      ]
     },
     "execution_count": 13,
     "metadata": {},
     "output_type": "execute_result"
    }
   ],
   "source": [
    "# Taking a closer look at null values\n",
    "trends[trends['description'].isnull()].head()"
   ]
  },
  {
   "cell_type": "markdown",
   "metadata": {},
   "source": [
    "We can see that we have a couple nulls in the description column. We can fix that up later."
   ]
  },
  {
   "cell_type": "code",
   "execution_count": 14,
   "metadata": {},
   "outputs": [
    {
     "data": {
      "text/plain": [
       "126"
      ]
     },
     "execution_count": 14,
     "metadata": {},
     "output_type": "execute_result"
    }
   ],
   "source": [
    "# Exact number that have null description\n",
    "len(trends[trends['description'].isnull()])"
   ]
  },
  {
   "cell_type": "markdown",
   "metadata": {},
   "source": [
    "### Data Type Configuration"
   ]
  },
  {
   "cell_type": "code",
   "execution_count": 15,
   "metadata": {},
   "outputs": [],
   "source": [
    "# Turn trending_date and publishedAt to datetime format\n",
    "trends['trending_date'] = trends['trending_date'].str[0:10]\n",
    "trends['publishedAt'] = trends['publishedAt'].str[0:10]"
   ]
  },
  {
   "cell_type": "code",
   "execution_count": 16,
   "metadata": {},
   "outputs": [],
   "source": [
    "trends['trending_date'] = pd.to_datetime(trends['trending_date'])\n",
    "trends['publishedAt'] = pd.to_datetime(trends['publishedAt'])"
   ]
  },
  {
   "cell_type": "markdown",
   "metadata": {},
   "source": [
    "### Correlation"
   ]
  },
  {
   "cell_type": "code",
   "execution_count": 25,
   "metadata": {
    "scrolled": true
   },
   "outputs": [
    {
     "data": {
      "text/plain": [
       "<matplotlib.axes._subplots.AxesSubplot at 0x7fb280da9be0>"
      ]
     },
     "execution_count": 25,
     "metadata": {},
     "output_type": "execute_result"
    },
    {
     "data": {
      "image/png": "[encoded data removed]",
      "text/plain": [
       "<Figure size 432x288 with 2 Axes>"
      ]
     },
     "metadata": {
      "needs_background": "light"
     },
     "output_type": "display_data"
    }
   ],
   "source": [
    "sns.heatmap(trends.corr())"
   ]
  },
  {
   "cell_type": "markdown",
   "metadata": {},
   "source": [
    "#### Some quick interpretation of the data\n",
    "- Comment count and View count are highly correlated, maybe the more comments, the more traction a video can get\n",
    "- Comment count and Dislikes also correlated, we can take a look at that relationship later"
   ]
  },
  {
   "cell_type": "markdown",
   "metadata": {},
   "source": [
    "### Views, Likes, & Dislikes"
   ]
  },
  {
   "cell_type": "code",
   "execution_count": 18,
   "metadata": {},
   "outputs": [],
   "source": [
    "numerical = trends[['video_id', 'view_count', 'likes', 'dislikes']]"
   ]
  },
  {
   "cell_type": "code",
   "execution_count": 19,
   "metadata": {},
   "outputs": [
    {
     "data": {
      "text/plain": [
       "count       22400.00000\n",
       "mean      2490682.58625\n",
       "std       7104581.76535\n",
       "min         37503.00000\n",
       "25%        420217.75000\n",
       "50%        920557.00000\n",
       "75%       2153668.00000\n",
       "max     232649205.00000\n",
       "Name: view_count, dtype: float64"
      ]
     },
     "execution_count": 19,
     "metadata": {},
     "output_type": "execute_result"
    }
   ],
   "source": [
    "numerical['view_count'].describe()"
   ]
  },
  {
   "cell_type": "markdown",
   "metadata": {},
   "source": [
    "There is a high std with view_count meaning that there are large differences in view_count"
   ]
  },
  {
   "cell_type": "code",
   "execution_count": 20,
   "metadata": {},
   "outputs": [
    {
     "data": {
      "text/plain": [
       "<matplotlib.axes._subplots.AxesSubplot at 0x7fb297341910>"
      ]
     },
     "execution_count": 20,
     "metadata": {},
     "output_type": "execute_result"
    },
    {
     "data": {
      "image/png": "[encoded data removed]",
      "text/plain": [
       "<Figure size 432x288 with 1 Axes>"
      ]
     },
     "metadata": {
      "needs_background": "light"
     },
     "output_type": "display_data"
    }
   ],
   "source": [
    "sns.boxplot(numerical['view_count'])"
   ]
  },
  {
   "cell_type": "markdown",
   "metadata": {},
   "source": [
    "The boxplot does not show, indicating large amounts of outliers"
   ]
  },
  {
   "cell_type": "code",
   "execution_count": 21,
   "metadata": {},
   "outputs": [
    {
     "data": {
      "text/html": [
       "<div>\n",
       "<style scoped>\n",
       "    .dataframe tbody tr th:only-of-type {\n",
       "        vertical-align: middle;\n",
       "    }\n",
       "\n",
       "    .dataframe tbody tr th {\n",
       "        vertical-align: top;\n",
       "    }\n",
       "\n",
       "    .dataframe thead th {\n",
       "        text-align: right;\n",
       "    }\n",
       "</style>\n",
       "<table border=\"1\" class=\"dataframe\">\n",
       "  <thead>\n",
       "    <tr style=\"text-align: right;\">\n",
       "      <th></th>\n",
       "      <th>video_id</th>\n",
       "      <th>title</th>\n",
       "      <th>publishedAt</th>\n",
       "      <th>channelId</th>\n",
       "      <th>channelTitle</th>\n",
       "      <th>categoryId</th>\n",
       "      <th>trending_date</th>\n",
       "      <th>tags</th>\n",
       "      <th>view_count</th>\n",
       "      <th>likes</th>\n",
       "      <th>dislikes</th>\n",
       "      <th>comment_count</th>\n",
       "      <th>thumbnail_link</th>\n",
       "      <th>comments_disabled</th>\n",
       "      <th>ratings_disabled</th>\n",
       "      <th>description</th>\n",
       "    </tr>\n",
       "  </thead>\n",
       "  <tbody>\n",
       "    <tr>\n",
       "      <th>3379</th>\n",
       "      <td>gdZLi9oWNZg</td>\n",
       "      <td>BTS (방탄소년단) 'Dynamite' Official MV</td>\n",
       "      <td>2020-08-21</td>\n",
       "      <td>UC3IZKseVpdzPSBaWxBxundA</td>\n",
       "      <td>Big Hit Labels</td>\n",
       "      <td>10</td>\n",
       "      <td>2020-08-28</td>\n",
       "      <td>BIGHIT|빅히트|방탄소년단|BTS|BANGTAN|방탄</td>\n",
       "      <td>232649205</td>\n",
       "      <td>15735572</td>\n",
       "      <td>714195</td>\n",
       "      <td>6064909</td>\n",
       "      <td>https://i.ytimg.com/vi/gdZLi9oWNZg/default.jpg</td>\n",
       "      <td>False</td>\n",
       "      <td>False</td>\n",
       "      <td>BTS (방탄소년단) 'Dynamite' Official MVCredits:Dire...</td>\n",
       "    </tr>\n",
       "  </tbody>\n",
       "</table>\n",
       "</div>"
      ],
      "text/plain": [
       "         video_id                               title publishedAt  \\\n",
       "3379  gdZLi9oWNZg  BTS (방탄소년단) 'Dynamite' Official MV  2020-08-21   \n",
       "\n",
       "                     channelId    channelTitle  categoryId trending_date  \\\n",
       "3379  UC3IZKseVpdzPSBaWxBxundA  Big Hit Labels          10    2020-08-28   \n",
       "\n",
       "                                 tags  view_count     likes  dislikes  \\\n",
       "3379  BIGHIT|빅히트|방탄소년단|BTS|BANGTAN|방탄   232649205  15735572    714195   \n",
       "\n",
       "      comment_count                                  thumbnail_link  \\\n",
       "3379        6064909  https://i.ytimg.com/vi/gdZLi9oWNZg/default.jpg   \n",
       "\n",
       "      comments_disabled  ratings_disabled  \\\n",
       "3379              False             False   \n",
       "\n",
       "                                            description  \n",
       "3379  BTS (방탄소년단) 'Dynamite' Official MVCredits:Dire...  "
      ]
     },
     "execution_count": 21,
     "metadata": {},
     "output_type": "execute_result"
    }
   ],
   "source": [
    "# Looking at the video with highest view count\n",
    "trends[trends['view_count'] == 232649205]"
   ]
  },
  {
   "cell_type": "code",
   "execution_count": 22,
   "metadata": {},
   "outputs": [
    {
     "data": {
      "text/plain": [
       "count      22400.00000\n",
       "mean      155618.90786\n",
       "std       515116.63400\n",
       "min            0.00000\n",
       "25%        17379.75000\n",
       "50%        46600.50000\n",
       "75%       128303.25000\n",
       "max     15735572.00000\n",
       "Name: likes, dtype: float64"
      ]
     },
     "execution_count": 22,
     "metadata": {},
     "output_type": "execute_result"
    }
   ],
   "source": [
    "numerical['likes'].describe()"
   ]
  },
  {
   "cell_type": "markdown",
   "metadata": {},
   "source": [
    "Apparently, a video had 0 likes and was still 'trending'"
   ]
  },
  {
   "cell_type": "code",
   "execution_count": 23,
   "metadata": {},
   "outputs": [
    {
     "data": {
      "text/html": [
       "<div>\n",
       "<style scoped>\n",
       "    .dataframe tbody tr th:only-of-type {\n",
       "        vertical-align: middle;\n",
       "    }\n",
       "\n",
       "    .dataframe tbody tr th {\n",
       "        vertical-align: top;\n",
       "    }\n",
       "\n",
       "    .dataframe thead th {\n",
       "        text-align: right;\n",
       "    }\n",
       "</style>\n",
       "<table border=\"1\" class=\"dataframe\">\n",
       "  <thead>\n",
       "    <tr style=\"text-align: right;\">\n",
       "      <th></th>\n",
       "      <th>video_id</th>\n",
       "      <th>title</th>\n",
       "      <th>publishedAt</th>\n",
       "      <th>channelId</th>\n",
       "      <th>channelTitle</th>\n",
       "      <th>categoryId</th>\n",
       "      <th>trending_date</th>\n",
       "      <th>tags</th>\n",
       "      <th>view_count</th>\n",
       "      <th>likes</th>\n",
       "      <th>dislikes</th>\n",
       "      <th>comment_count</th>\n",
       "      <th>thumbnail_link</th>\n",
       "      <th>comments_disabled</th>\n",
       "      <th>ratings_disabled</th>\n",
       "      <th>description</th>\n",
       "    </tr>\n",
       "  </thead>\n",
       "  <tbody>\n",
       "    <tr>\n",
       "      <th>1221</th>\n",
       "      <td>rZUTFDjDZSQ</td>\n",
       "      <td>The Paris Hilton you never knew | This Is Pari...</td>\n",
       "      <td>2020-08-17</td>\n",
       "      <td>UCwl5c3q0uBK3mVv9OXQUeeQ</td>\n",
       "      <td>Paris Hilton</td>\n",
       "      <td>24</td>\n",
       "      <td>2020-08-18</td>\n",
       "      <td>Paris Hilton|Paris|Hilton|Documentary|This Is ...</td>\n",
       "      <td>330188</td>\n",
       "      <td>0</td>\n",
       "      <td>0</td>\n",
       "      <td>1362</td>\n",
       "      <td>https://i.ytimg.com/vi/rZUTFDjDZSQ/default.jpg</td>\n",
       "      <td>False</td>\n",
       "      <td>True</td>\n",
       "      <td>This September 14th, meet the real Paris Hilto...</td>\n",
       "    </tr>\n",
       "    <tr>\n",
       "      <th>1333</th>\n",
       "      <td>b8pSdMHicYw</td>\n",
       "      <td>What Really Happened to Sean O'Malley vs Marlo...</td>\n",
       "      <td>2020-08-16</td>\n",
       "      <td>UCQ2xsPeC159i2RzHAme1gmg</td>\n",
       "      <td>kenanK TV</td>\n",
       "      <td>17</td>\n",
       "      <td>2020-08-18</td>\n",
       "      <td>sean o malley|sean o'malley|ufc 252|ufc 252 se...</td>\n",
       "      <td>391246</td>\n",
       "      <td>0</td>\n",
       "      <td>0</td>\n",
       "      <td>969</td>\n",
       "      <td>https://i.ytimg.com/vi/b8pSdMHicYw/default.jpg</td>\n",
       "      <td>False</td>\n",
       "      <td>True</td>\n",
       "      <td>In Sean O'malley's fight against Marlon Chito ...</td>\n",
       "    </tr>\n",
       "    <tr>\n",
       "      <th>1439</th>\n",
       "      <td>RHPRUe-aZHA</td>\n",
       "      <td>SuperM 슈퍼엠 '100' MV Reaction</td>\n",
       "      <td>2020-08-18</td>\n",
       "      <td>UCcjV926qiLr_Ghw6A0lTNjA</td>\n",
       "      <td>SuperM</td>\n",
       "      <td>10</td>\n",
       "      <td>2020-08-19</td>\n",
       "      <td>[None]</td>\n",
       "      <td>958787</td>\n",
       "      <td>0</td>\n",
       "      <td>0</td>\n",
       "      <td>8315</td>\n",
       "      <td>https://i.ytimg.com/vi/RHPRUe-aZHA/default.jpg</td>\n",
       "      <td>False</td>\n",
       "      <td>True</td>\n",
       "      <td>SuperM's new single “100” is out!🎧Listen and d...</td>\n",
       "    </tr>\n",
       "    <tr>\n",
       "      <th>1451</th>\n",
       "      <td>rZUTFDjDZSQ</td>\n",
       "      <td>The Paris Hilton you never knew | This Is Pari...</td>\n",
       "      <td>2020-08-17</td>\n",
       "      <td>UCwl5c3q0uBK3mVv9OXQUeeQ</td>\n",
       "      <td>Paris Hilton</td>\n",
       "      <td>24</td>\n",
       "      <td>2020-08-19</td>\n",
       "      <td>Paris Hilton|Paris|Hilton|Documentary|This Is ...</td>\n",
       "      <td>600752</td>\n",
       "      <td>0</td>\n",
       "      <td>0</td>\n",
       "      <td>1898</td>\n",
       "      <td>https://i.ytimg.com/vi/rZUTFDjDZSQ/default.jpg</td>\n",
       "      <td>False</td>\n",
       "      <td>True</td>\n",
       "      <td>This September 14th, meet the real Paris Hilto...</td>\n",
       "    </tr>\n",
       "    <tr>\n",
       "      <th>1575</th>\n",
       "      <td>b8pSdMHicYw</td>\n",
       "      <td>What Really Happened to Sean O'Malley vs Marlo...</td>\n",
       "      <td>2020-08-16</td>\n",
       "      <td>UCQ2xsPeC159i2RzHAme1gmg</td>\n",
       "      <td>kenanK TV</td>\n",
       "      <td>17</td>\n",
       "      <td>2020-08-19</td>\n",
       "      <td>sean o malley|sean o'malley|ufc 252|ufc 252 se...</td>\n",
       "      <td>396637</td>\n",
       "      <td>0</td>\n",
       "      <td>0</td>\n",
       "      <td>947</td>\n",
       "      <td>https://i.ytimg.com/vi/b8pSdMHicYw/default.jpg</td>\n",
       "      <td>False</td>\n",
       "      <td>True</td>\n",
       "      <td>In Sean O'malley's fight against Marlon Chito ...</td>\n",
       "    </tr>\n",
       "    <tr>\n",
       "      <th>...</th>\n",
       "      <td>...</td>\n",
       "      <td>...</td>\n",
       "      <td>...</td>\n",
       "      <td>...</td>\n",
       "      <td>...</td>\n",
       "      <td>...</td>\n",
       "      <td>...</td>\n",
       "      <td>...</td>\n",
       "      <td>...</td>\n",
       "      <td>...</td>\n",
       "      <td>...</td>\n",
       "      <td>...</td>\n",
       "      <td>...</td>\n",
       "      <td>...</td>\n",
       "      <td>...</td>\n",
       "      <td>...</td>\n",
       "    </tr>\n",
       "    <tr>\n",
       "      <th>21558</th>\n",
       "      <td>kjVRROvfMEw</td>\n",
       "      <td>T1, An Update, and My Future Plans</td>\n",
       "      <td>2020-11-24</td>\n",
       "      <td>UCWIfnDrWU_Cvc1a8qZribhA</td>\n",
       "      <td>LS</td>\n",
       "      <td>20</td>\n",
       "      <td>2020-11-29</td>\n",
       "      <td>T1|T1LoL|LS|LSXYZ9|Korea|South Korea|LCK|Analy...</td>\n",
       "      <td>271719</td>\n",
       "      <td>0</td>\n",
       "      <td>0</td>\n",
       "      <td>2465</td>\n",
       "      <td>https://i.ytimg.com/vi/kjVRROvfMEw/default.jpg</td>\n",
       "      <td>False</td>\n",
       "      <td>True</td>\n",
       "      <td>I'll be elaborating further on certain topics ...</td>\n",
       "    </tr>\n",
       "    <tr>\n",
       "      <th>21727</th>\n",
       "      <td>OZWGxfT8TM8</td>\n",
       "      <td>Update on COVID-19 – November 24, 2020</td>\n",
       "      <td>2020-11-25</td>\n",
       "      <td>UCnuHHh1V4fubDUY_8YN8ysA</td>\n",
       "      <td>YourAlberta</td>\n",
       "      <td>25</td>\n",
       "      <td>2020-11-30</td>\n",
       "      <td>Alberta|Government of Alberta|Health|Dr. Deena...</td>\n",
       "      <td>281588</td>\n",
       "      <td>0</td>\n",
       "      <td>0</td>\n",
       "      <td>0</td>\n",
       "      <td>https://i.ytimg.com/vi/OZWGxfT8TM8/default.jpg</td>\n",
       "      <td>True</td>\n",
       "      <td>True</td>\n",
       "      <td>Premier Jason Kenney and officials provided an...</td>\n",
       "    </tr>\n",
       "    <tr>\n",
       "      <th>21747</th>\n",
       "      <td>AMEC0uXDhvc</td>\n",
       "      <td>Paris Hilton Renovates Her Home - House Tour 2...</td>\n",
       "      <td>2020-11-25</td>\n",
       "      <td>UCwl5c3q0uBK3mVv9OXQUeeQ</td>\n",
       "      <td>Paris Hilton</td>\n",
       "      <td>24</td>\n",
       "      <td>2020-11-30</td>\n",
       "      <td>[None]</td>\n",
       "      <td>811919</td>\n",
       "      <td>0</td>\n",
       "      <td>0</td>\n",
       "      <td>2147</td>\n",
       "      <td>https://i.ytimg.com/vi/AMEC0uXDhvc/default.jpg</td>\n",
       "      <td>False</td>\n",
       "      <td>True</td>\n",
       "      <td>So many incredible memories in my home but I a...</td>\n",
       "    </tr>\n",
       "    <tr>\n",
       "      <th>21965</th>\n",
       "      <td>OZWGxfT8TM8</td>\n",
       "      <td>Update on COVID-19 – November 24, 2020</td>\n",
       "      <td>2020-11-25</td>\n",
       "      <td>UCnuHHh1V4fubDUY_8YN8ysA</td>\n",
       "      <td>YourAlberta</td>\n",
       "      <td>25</td>\n",
       "      <td>2020-12-01</td>\n",
       "      <td>Alberta|Government of Alberta|Health|Dr. Deena...</td>\n",
       "      <td>281859</td>\n",
       "      <td>0</td>\n",
       "      <td>0</td>\n",
       "      <td>0</td>\n",
       "      <td>https://i.ytimg.com/vi/OZWGxfT8TM8/default.jpg</td>\n",
       "      <td>True</td>\n",
       "      <td>True</td>\n",
       "      <td>Premier Jason Kenney and officials provided an...</td>\n",
       "    </tr>\n",
       "    <tr>\n",
       "      <th>21984</th>\n",
       "      <td>AMEC0uXDhvc</td>\n",
       "      <td>Paris Hilton Renovates Her Home - House Tour 2...</td>\n",
       "      <td>2020-11-25</td>\n",
       "      <td>UCwl5c3q0uBK3mVv9OXQUeeQ</td>\n",
       "      <td>Paris Hilton</td>\n",
       "      <td>24</td>\n",
       "      <td>2020-12-01</td>\n",
       "      <td>[None]</td>\n",
       "      <td>865590</td>\n",
       "      <td>0</td>\n",
       "      <td>0</td>\n",
       "      <td>2227</td>\n",
       "      <td>https://i.ytimg.com/vi/AMEC0uXDhvc/default.jpg</td>\n",
       "      <td>False</td>\n",
       "      <td>True</td>\n",
       "      <td>So many incredible memories in my home but I a...</td>\n",
       "    </tr>\n",
       "  </tbody>\n",
       "</table>\n",
       "<p>152 rows × 16 columns</p>\n",
       "</div>"
      ],
      "text/plain": [
       "          video_id                                              title  \\\n",
       "1221   rZUTFDjDZSQ  The Paris Hilton you never knew | This Is Pari...   \n",
       "1333   b8pSdMHicYw  What Really Happened to Sean O'Malley vs Marlo...   \n",
       "1439   RHPRUe-aZHA                       SuperM 슈퍼엠 '100' MV Reaction   \n",
       "1451   rZUTFDjDZSQ  The Paris Hilton you never knew | This Is Pari...   \n",
       "1575   b8pSdMHicYw  What Really Happened to Sean O'Malley vs Marlo...   \n",
       "...            ...                                                ...   \n",
       "21558  kjVRROvfMEw                 T1, An Update, and My Future Plans   \n",
       "21727  OZWGxfT8TM8             Update on COVID-19 – November 24, 2020   \n",
       "21747  AMEC0uXDhvc  Paris Hilton Renovates Her Home - House Tour 2...   \n",
       "21965  OZWGxfT8TM8             Update on COVID-19 – November 24, 2020   \n",
       "21984  AMEC0uXDhvc  Paris Hilton Renovates Her Home - House Tour 2...   \n",
       "\n",
       "      publishedAt                 channelId  channelTitle  categoryId  \\\n",
       "1221   2020-08-17  UCwl5c3q0uBK3mVv9OXQUeeQ  Paris Hilton          24   \n",
       "1333   2020-08-16  UCQ2xsPeC159i2RzHAme1gmg     kenanK TV          17   \n",
       "1439   2020-08-18  UCcjV926qiLr_Ghw6A0lTNjA        SuperM          10   \n",
       "1451   2020-08-17  UCwl5c3q0uBK3mVv9OXQUeeQ  Paris Hilton          24   \n",
       "1575   2020-08-16  UCQ2xsPeC159i2RzHAme1gmg     kenanK TV          17   \n",
       "...           ...                       ...           ...         ...   \n",
       "21558  2020-11-24  UCWIfnDrWU_Cvc1a8qZribhA            LS          20   \n",
       "21727  2020-11-25  UCnuHHh1V4fubDUY_8YN8ysA   YourAlberta          25   \n",
       "21747  2020-11-25  UCwl5c3q0uBK3mVv9OXQUeeQ  Paris Hilton          24   \n",
       "21965  2020-11-25  UCnuHHh1V4fubDUY_8YN8ysA   YourAlberta          25   \n",
       "21984  2020-11-25  UCwl5c3q0uBK3mVv9OXQUeeQ  Paris Hilton          24   \n",
       "\n",
       "      trending_date                                               tags  \\\n",
       "1221     2020-08-18  Paris Hilton|Paris|Hilton|Documentary|This Is ...   \n",
       "1333     2020-08-18  sean o malley|sean o'malley|ufc 252|ufc 252 se...   \n",
       "1439     2020-08-19                                             [None]   \n",
       "1451     2020-08-19  Paris Hilton|Paris|Hilton|Documentary|This Is ...   \n",
       "1575     2020-08-19  sean o malley|sean o'malley|ufc 252|ufc 252 se...   \n",
       "...             ...                                                ...   \n",
       "21558    2020-11-29  T1|T1LoL|LS|LSXYZ9|Korea|South Korea|LCK|Analy...   \n",
       "21727    2020-11-30  Alberta|Government of Alberta|Health|Dr. Deena...   \n",
       "21747    2020-11-30                                             [None]   \n",
       "21965    2020-12-01  Alberta|Government of Alberta|Health|Dr. Deena...   \n",
       "21984    2020-12-01                                             [None]   \n",
       "\n",
       "       view_count  likes  dislikes  comment_count  \\\n",
       "1221       330188      0         0           1362   \n",
       "1333       391246      0         0            969   \n",
       "1439       958787      0         0           8315   \n",
       "1451       600752      0         0           1898   \n",
       "1575       396637      0         0            947   \n",
       "...           ...    ...       ...            ...   \n",
       "21558      271719      0         0           2465   \n",
       "21727      281588      0         0              0   \n",
       "21747      811919      0         0           2147   \n",
       "21965      281859      0         0              0   \n",
       "21984      865590      0         0           2227   \n",
       "\n",
       "                                       thumbnail_link  comments_disabled  \\\n",
       "1221   https://i.ytimg.com/vi/rZUTFDjDZSQ/default.jpg              False   \n",
       "1333   https://i.ytimg.com/vi/b8pSdMHicYw/default.jpg              False   \n",
       "1439   https://i.ytimg.com/vi/RHPRUe-aZHA/default.jpg              False   \n",
       "1451   https://i.ytimg.com/vi/rZUTFDjDZSQ/default.jpg              False   \n",
       "1575   https://i.ytimg.com/vi/b8pSdMHicYw/default.jpg              False   \n",
       "...                                               ...                ...   \n",
       "21558  https://i.ytimg.com/vi/kjVRROvfMEw/default.jpg              False   \n",
       "21727  https://i.ytimg.com/vi/OZWGxfT8TM8/default.jpg               True   \n",
       "21747  https://i.ytimg.com/vi/AMEC0uXDhvc/default.jpg              False   \n",
       "21965  https://i.ytimg.com/vi/OZWGxfT8TM8/default.jpg               True   \n",
       "21984  https://i.ytimg.com/vi/AMEC0uXDhvc/default.jpg              False   \n",
       "\n",
       "       ratings_disabled                                        description  \n",
       "1221               True  This September 14th, meet the real Paris Hilto...  \n",
       "1333               True  In Sean O'malley's fight against Marlon Chito ...  \n",
       "1439               True  SuperM's new single “100” is out!🎧Listen and d...  \n",
       "1451               True  This September 14th, meet the real Paris Hilto...  \n",
       "1575               True  In Sean O'malley's fight against Marlon Chito ...  \n",
       "...                 ...                                                ...  \n",
       "21558              True  I'll be elaborating further on certain topics ...  \n",
       "21727              True  Premier Jason Kenney and officials provided an...  \n",
       "21747              True  So many incredible memories in my home but I a...  \n",
       "21965              True  Premier Jason Kenney and officials provided an...  \n",
       "21984              True  So many incredible memories in my home but I a...  \n",
       "\n",
       "[152 rows x 16 columns]"
      ]
     },
     "execution_count": 23,
     "metadata": {},
     "output_type": "execute_result"
    }
   ],
   "source": [
    "trends[trends['likes'] == 0]"
   ]
  },
  {
   "cell_type": "markdown",
   "metadata": {},
   "source": [
    "Looks like this might be a flaw in our data, since it is highly unlikely that a video would have 0 likes and 0 dislikes and be trending"
   ]
  },
  {
   "cell_type": "markdown",
   "metadata": {},
   "source": [
    "### Removing Outliers and Anomalies "
   ]
  },
  {
   "cell_type": "code",
   "execution_count": 28,
   "metadata": {},
   "outputs": [],
   "source": [
    "# Removing when likes is 0, data may be incorrect\n",
    "trends = trends[trends['likes'] != 0]\n",
    "trends = trends[trends['dislikes'] != 0]"
   ]
  },
  {
   "cell_type": "code",
   "execution_count": null,
   "metadata": {},
   "outputs": [],
   "source": []
  }
 ],
 "metadata": {
  "kernelspec": {
   "display_name": "Python 3",
   "language": "python",
   "name": "python3"
  },
  "language_info": {
   "codemirror_mode": {
    "name": "ipython",
    "version": 3
   },
   "file_extension": ".py",
   "mimetype": "text/x-python",
   "name": "python",
   "nbconvert_exporter": "python",
   "pygments_lexer": "ipython3",
   "version": "3.8.3"
  }
 },
 "nbformat": 4,
 "nbformat_minor": 4
}
