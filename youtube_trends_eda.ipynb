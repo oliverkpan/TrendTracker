{
 "cells": [
  {
   "cell_type": "markdown",
   "metadata": {},
   "source": [
    "# TrendTracker: Exploring Trending Youtube Videos in Canada"
   ]
  },
  {
   "cell_type": "markdown",
   "metadata": {},
   "source": [
    "The goal of this project is to understand what factors drive youtube attention within trending videos."
   ]
  },
  {
   "cell_type": "markdown",
   "metadata": {},
   "source": [
    "Another challenge with the data is that we are missing 2019 data. Let's try to predict the trends in 2019 with the data available."
   ]
  },
  {
   "cell_type": "markdown",
   "metadata": {},
   "source": [
    "### Import Libraries and Data"
   ]
  },
  {
   "cell_type": "code",
   "execution_count": 1,
   "metadata": {},
   "outputs": [],
   "source": [
    "import pandas as pd\n",
    "import datetime"
   ]
  },
  {
   "cell_type": "code",
   "execution_count": 2,
   "metadata": {},
   "outputs": [],
   "source": [
    "# File name represents most recent update\n",
    "file = r'/Users/OliverPan/Desktop/youtube_data/trend_12-03-20.csv'"
   ]
  },
  {
   "cell_type": "code",
   "execution_count": 3,
   "metadata": {},
   "outputs": [],
   "source": [
    "trends = pd.read_csv(file)"
   ]
  },
  {
   "cell_type": "markdown",
   "metadata": {},
   "source": [
    "### Exploratory Data Analysis"
   ]
  },
  {
   "cell_type": "code",
   "execution_count": 4,
   "metadata": {},
   "outputs": [
    {
     "data": {
      "text/plain": [
       "(22400, 16)"
      ]
     },
     "execution_count": 4,
     "metadata": {},
     "output_type": "execute_result"
    }
   ],
   "source": [
    "# See the size and structure of data\n",
    "trends.shape"
   ]
  },
  {
   "cell_type": "code",
   "execution_count": 5,
   "metadata": {},
   "outputs": [
    {
     "data": {
      "text/html": [
       "<div>\n",
       "<style scoped>\n",
       "    .dataframe tbody tr th:only-of-type {\n",
       "        vertical-align: middle;\n",
       "    }\n",
       "\n",
       "    .dataframe tbody tr th {\n",
       "        vertical-align: top;\n",
       "    }\n",
       "\n",
       "    .dataframe thead th {\n",
       "        text-align: right;\n",
       "    }\n",
       "</style>\n",
       "<table border=\"1\" class=\"dataframe\">\n",
       "  <thead>\n",
       "    <tr style=\"text-align: right;\">\n",
       "      <th></th>\n",
       "      <th>video_id</th>\n",
       "      <th>title</th>\n",
       "      <th>publishedAt</th>\n",
       "      <th>channelId</th>\n",
       "      <th>channelTitle</th>\n",
       "      <th>categoryId</th>\n",
       "      <th>trending_date</th>\n",
       "      <th>tags</th>\n",
       "      <th>view_count</th>\n",
       "      <th>likes</th>\n",
       "      <th>dislikes</th>\n",
       "      <th>comment_count</th>\n",
       "      <th>thumbnail_link</th>\n",
       "      <th>comments_disabled</th>\n",
       "      <th>ratings_disabled</th>\n",
       "      <th>description</th>\n",
       "    </tr>\n",
       "  </thead>\n",
       "  <tbody>\n",
       "    <tr>\n",
       "      <th>0</th>\n",
       "      <td>KX06ksuS6Xo</td>\n",
       "      <td>Diljit Dosanjh: CLASH (Official) Music Video |...</td>\n",
       "      <td>2020-08-11T07:30:02Z</td>\n",
       "      <td>UCZRdNleCgW-BGUJf-bbjzQg</td>\n",
       "      <td>Diljit Dosanjh</td>\n",
       "      <td>10</td>\n",
       "      <td>2020-08-12T00:00:00Z</td>\n",
       "      <td>clash diljit dosanjh|diljit dosanjh|diljit dos...</td>\n",
       "      <td>9140911</td>\n",
       "      <td>296541</td>\n",
       "      <td>6180</td>\n",
       "      <td>30059</td>\n",
       "      <td>https://i.ytimg.com/vi/KX06ksuS6Xo/default.jpg</td>\n",
       "      <td>False</td>\n",
       "      <td>False</td>\n",
       "      <td>CLASH official music video performed by DILJIT...</td>\n",
       "    </tr>\n",
       "    <tr>\n",
       "      <th>1</th>\n",
       "      <td>J78aPJ3VyNs</td>\n",
       "      <td>I left youtube for a month and THIS is what ha...</td>\n",
       "      <td>2020-08-11T16:34:06Z</td>\n",
       "      <td>UCYzPXprvl5Y-Sf0g4vX-m6g</td>\n",
       "      <td>jacksepticeye</td>\n",
       "      <td>24</td>\n",
       "      <td>2020-08-12T00:00:00Z</td>\n",
       "      <td>jacksepticeye|funny|funny meme|memes|jacksepti...</td>\n",
       "      <td>2038853</td>\n",
       "      <td>353797</td>\n",
       "      <td>2628</td>\n",
       "      <td>40222</td>\n",
       "      <td>https://i.ytimg.com/vi/J78aPJ3VyNs/default.jpg</td>\n",
       "      <td>False</td>\n",
       "      <td>False</td>\n",
       "      <td>I left youtube for a month and this is what ha...</td>\n",
       "    </tr>\n",
       "    <tr>\n",
       "      <th>2</th>\n",
       "      <td>M9Pmf9AB4Mo</td>\n",
       "      <td>Apex Legends | Stories from the Outlands – “Th...</td>\n",
       "      <td>2020-08-11T17:00:10Z</td>\n",
       "      <td>UC0ZV6M2THA81QT9hrVWJG3A</td>\n",
       "      <td>Apex Legends</td>\n",
       "      <td>20</td>\n",
       "      <td>2020-08-12T00:00:00Z</td>\n",
       "      <td>Apex Legends|Apex Legends characters|new Apex ...</td>\n",
       "      <td>2381688</td>\n",
       "      <td>146740</td>\n",
       "      <td>2794</td>\n",
       "      <td>16549</td>\n",
       "      <td>https://i.ytimg.com/vi/M9Pmf9AB4Mo/default.jpg</td>\n",
       "      <td>False</td>\n",
       "      <td>False</td>\n",
       "      <td>While running her own modding shop, Ramya Pare...</td>\n",
       "    </tr>\n",
       "    <tr>\n",
       "      <th>3</th>\n",
       "      <td>3C66w5Z0ixs</td>\n",
       "      <td>I ASKED HER TO BE MY GIRLFRIEND...</td>\n",
       "      <td>2020-08-11T19:20:14Z</td>\n",
       "      <td>UCvtRTOMP2TqYqu51xNrqAzg</td>\n",
       "      <td>Brawadis</td>\n",
       "      <td>22</td>\n",
       "      <td>2020-08-12T00:00:00Z</td>\n",
       "      <td>brawadis|prank|basketball|skits|ghost|funny vi...</td>\n",
       "      <td>1514614</td>\n",
       "      <td>156914</td>\n",
       "      <td>5857</td>\n",
       "      <td>35331</td>\n",
       "      <td>https://i.ytimg.com/vi/3C66w5Z0ixs/default.jpg</td>\n",
       "      <td>False</td>\n",
       "      <td>False</td>\n",
       "      <td>SUBSCRIBE to BRAWADIS ▶ http://bit.ly/Subscrib...</td>\n",
       "    </tr>\n",
       "    <tr>\n",
       "      <th>4</th>\n",
       "      <td>VIUo6yapDbc</td>\n",
       "      <td>Ultimate DIY Home Movie Theater for The LaBran...</td>\n",
       "      <td>2020-08-11T15:10:05Z</td>\n",
       "      <td>UCDVPcEbVLQgLZX0Rt6jo34A</td>\n",
       "      <td>Mr. Kate</td>\n",
       "      <td>26</td>\n",
       "      <td>2020-08-12T00:00:00Z</td>\n",
       "      <td>The LaBrant Family|DIY|Interior Design|Makeove...</td>\n",
       "      <td>1123889</td>\n",
       "      <td>45803</td>\n",
       "      <td>964</td>\n",
       "      <td>2198</td>\n",
       "      <td>https://i.ytimg.com/vi/VIUo6yapDbc/default.jpg</td>\n",
       "      <td>False</td>\n",
       "      <td>False</td>\n",
       "      <td>Transforming The LaBrant Family's empty white ...</td>\n",
       "    </tr>\n",
       "  </tbody>\n",
       "</table>\n",
       "</div>"
      ],
      "text/plain": [
       "      video_id                                              title  \\\n",
       "0  KX06ksuS6Xo  Diljit Dosanjh: CLASH (Official) Music Video |...   \n",
       "1  J78aPJ3VyNs  I left youtube for a month and THIS is what ha...   \n",
       "2  M9Pmf9AB4Mo  Apex Legends | Stories from the Outlands – “Th...   \n",
       "3  3C66w5Z0ixs                 I ASKED HER TO BE MY GIRLFRIEND...   \n",
       "4  VIUo6yapDbc  Ultimate DIY Home Movie Theater for The LaBran...   \n",
       "\n",
       "            publishedAt                 channelId    channelTitle  categoryId  \\\n",
       "0  2020-08-11T07:30:02Z  UCZRdNleCgW-BGUJf-bbjzQg  Diljit Dosanjh          10   \n",
       "1  2020-08-11T16:34:06Z  UCYzPXprvl5Y-Sf0g4vX-m6g   jacksepticeye          24   \n",
       "2  2020-08-11T17:00:10Z  UC0ZV6M2THA81QT9hrVWJG3A    Apex Legends          20   \n",
       "3  2020-08-11T19:20:14Z  UCvtRTOMP2TqYqu51xNrqAzg        Brawadis          22   \n",
       "4  2020-08-11T15:10:05Z  UCDVPcEbVLQgLZX0Rt6jo34A        Mr. Kate          26   \n",
       "\n",
       "          trending_date                                               tags  \\\n",
       "0  2020-08-12T00:00:00Z  clash diljit dosanjh|diljit dosanjh|diljit dos...   \n",
       "1  2020-08-12T00:00:00Z  jacksepticeye|funny|funny meme|memes|jacksepti...   \n",
       "2  2020-08-12T00:00:00Z  Apex Legends|Apex Legends characters|new Apex ...   \n",
       "3  2020-08-12T00:00:00Z  brawadis|prank|basketball|skits|ghost|funny vi...   \n",
       "4  2020-08-12T00:00:00Z  The LaBrant Family|DIY|Interior Design|Makeove...   \n",
       "\n",
       "   view_count   likes  dislikes  comment_count  \\\n",
       "0     9140911  296541      6180          30059   \n",
       "1     2038853  353797      2628          40222   \n",
       "2     2381688  146740      2794          16549   \n",
       "3     1514614  156914      5857          35331   \n",
       "4     1123889   45803       964           2198   \n",
       "\n",
       "                                   thumbnail_link  comments_disabled  \\\n",
       "0  https://i.ytimg.com/vi/KX06ksuS6Xo/default.jpg              False   \n",
       "1  https://i.ytimg.com/vi/J78aPJ3VyNs/default.jpg              False   \n",
       "2  https://i.ytimg.com/vi/M9Pmf9AB4Mo/default.jpg              False   \n",
       "3  https://i.ytimg.com/vi/3C66w5Z0ixs/default.jpg              False   \n",
       "4  https://i.ytimg.com/vi/VIUo6yapDbc/default.jpg              False   \n",
       "\n",
       "   ratings_disabled                                        description  \n",
       "0             False  CLASH official music video performed by DILJIT...  \n",
       "1             False  I left youtube for a month and this is what ha...  \n",
       "2             False  While running her own modding shop, Ramya Pare...  \n",
       "3             False  SUBSCRIBE to BRAWADIS ▶ http://bit.ly/Subscrib...  \n",
       "4             False  Transforming The LaBrant Family's empty white ...  "
      ]
     },
     "execution_count": 5,
     "metadata": {},
     "output_type": "execute_result"
    }
   ],
   "source": [
    "trends.head()"
   ]
  },
  {
   "cell_type": "code",
   "execution_count": 6,
   "metadata": {},
   "outputs": [
    {
     "name": "stdout",
     "output_type": "stream",
     "text": [
      "<class 'pandas.core.frame.DataFrame'>\n",
      "RangeIndex: 22400 entries, 0 to 22399\n",
      "Data columns (total 16 columns):\n",
      " #   Column             Non-Null Count  Dtype \n",
      "---  ------             --------------  ----- \n",
      " 0   video_id           22400 non-null  object\n",
      " 1   title              22400 non-null  object\n",
      " 2   publishedAt        22400 non-null  object\n",
      " 3   channelId          22400 non-null  object\n",
      " 4   channelTitle       22400 non-null  object\n",
      " 5   categoryId         22400 non-null  int64 \n",
      " 6   trending_date      22400 non-null  object\n",
      " 7   tags               22400 non-null  object\n",
      " 8   view_count         22400 non-null  int64 \n",
      " 9   likes              22400 non-null  int64 \n",
      " 10  dislikes           22400 non-null  int64 \n",
      " 11  comment_count      22400 non-null  int64 \n",
      " 12  thumbnail_link     22400 non-null  object\n",
      " 13  comments_disabled  22400 non-null  bool  \n",
      " 14  ratings_disabled   22400 non-null  bool  \n",
      " 15  description        22274 non-null  object\n",
      "dtypes: bool(2), int64(5), object(9)\n",
      "memory usage: 2.4+ MB\n"
     ]
    }
   ],
   "source": [
    "trends.info()"
   ]
  },
  {
   "cell_type": "code",
   "execution_count": 7,
   "metadata": {},
   "outputs": [],
   "source": [
    "# Turn trending_date and publishedAt to datetime format\n",
    "trends['trending_date'] = trends['trending_date'].str[0:10]\n",
    "trends['publishedAt'] = trends['publishedAt'].str[0:10]"
   ]
  },
  {
   "cell_type": "code",
   "execution_count": 8,
   "metadata": {},
   "outputs": [],
   "source": [
    "# The video_id represents the youtube link, so we can feature engineer it in\n",
    "trends['youtube_link'] = 'https://www.youtube.com/watch?v=' + trends['video_id']"
   ]
  },
  {
   "cell_type": "code",
   "execution_count": 9,
   "metadata": {},
   "outputs": [
    {
     "data": {
      "text/html": [
       "<div>\n",
       "<style scoped>\n",
       "    .dataframe tbody tr th:only-of-type {\n",
       "        vertical-align: middle;\n",
       "    }\n",
       "\n",
       "    .dataframe tbody tr th {\n",
       "        vertical-align: top;\n",
       "    }\n",
       "\n",
       "    .dataframe thead th {\n",
       "        text-align: right;\n",
       "    }\n",
       "</style>\n",
       "<table border=\"1\" class=\"dataframe\">\n",
       "  <thead>\n",
       "    <tr style=\"text-align: right;\">\n",
       "      <th></th>\n",
       "      <th>video_id</th>\n",
       "      <th>title</th>\n",
       "      <th>youtube_link</th>\n",
       "    </tr>\n",
       "  </thead>\n",
       "  <tbody>\n",
       "    <tr>\n",
       "      <th>0</th>\n",
       "      <td>KX06ksuS6Xo</td>\n",
       "      <td>Diljit Dosanjh: CLASH (Official) Music Video |...</td>\n",
       "      <td>https://www.youtube.com/watch?v=KX06ksuS6Xo</td>\n",
       "    </tr>\n",
       "    <tr>\n",
       "      <th>1</th>\n",
       "      <td>J78aPJ3VyNs</td>\n",
       "      <td>I left youtube for a month and THIS is what ha...</td>\n",
       "      <td>https://www.youtube.com/watch?v=J78aPJ3VyNs</td>\n",
       "    </tr>\n",
       "    <tr>\n",
       "      <th>2</th>\n",
       "      <td>M9Pmf9AB4Mo</td>\n",
       "      <td>Apex Legends | Stories from the Outlands – “Th...</td>\n",
       "      <td>https://www.youtube.com/watch?v=M9Pmf9AB4Mo</td>\n",
       "    </tr>\n",
       "    <tr>\n",
       "      <th>3</th>\n",
       "      <td>3C66w5Z0ixs</td>\n",
       "      <td>I ASKED HER TO BE MY GIRLFRIEND...</td>\n",
       "      <td>https://www.youtube.com/watch?v=3C66w5Z0ixs</td>\n",
       "    </tr>\n",
       "    <tr>\n",
       "      <th>4</th>\n",
       "      <td>VIUo6yapDbc</td>\n",
       "      <td>Ultimate DIY Home Movie Theater for The LaBran...</td>\n",
       "      <td>https://www.youtube.com/watch?v=VIUo6yapDbc</td>\n",
       "    </tr>\n",
       "    <tr>\n",
       "      <th>...</th>\n",
       "      <td>...</td>\n",
       "      <td>...</td>\n",
       "      <td>...</td>\n",
       "    </tr>\n",
       "    <tr>\n",
       "      <th>22395</th>\n",
       "      <td>Wmi5R_SMxv0</td>\n",
       "      <td>Rest In Peace, Uncle Phil</td>\n",
       "      <td>https://www.youtube.com/watch?v=Wmi5R_SMxv0</td>\n",
       "    </tr>\n",
       "    <tr>\n",
       "      <th>22396</th>\n",
       "      <td>KTsemYgLIBk</td>\n",
       "      <td>ITZY Performance Practice (Asia Artist Awards ...</td>\n",
       "      <td>https://www.youtube.com/watch?v=KTsemYgLIBk</td>\n",
       "    </tr>\n",
       "    <tr>\n",
       "      <th>22397</th>\n",
       "      <td>vHv4uyQ3J44</td>\n",
       "      <td>🎄The 2020 Clashmas Tree Is Here!🎄</td>\n",
       "      <td>https://www.youtube.com/watch?v=vHv4uyQ3J44</td>\n",
       "    </tr>\n",
       "    <tr>\n",
       "      <th>22398</th>\n",
       "      <td>lG-klvI4yzI</td>\n",
       "      <td>Fally Ipupa -  Likolo feat. Ninho (Clip officiel)</td>\n",
       "      <td>https://www.youtube.com/watch?v=lG-klvI4yzI</td>\n",
       "    </tr>\n",
       "    <tr>\n",
       "      <th>22399</th>\n",
       "      <td>wSRiURAb67g</td>\n",
       "      <td>[쇼! 음악중심] 에스파 -블랙맘바 (aespa -Black Mamba) 20201128</td>\n",
       "      <td>https://www.youtube.com/watch?v=wSRiURAb67g</td>\n",
       "    </tr>\n",
       "  </tbody>\n",
       "</table>\n",
       "<p>22400 rows × 3 columns</p>\n",
       "</div>"
      ],
      "text/plain": [
       "          video_id                                              title  \\\n",
       "0      KX06ksuS6Xo  Diljit Dosanjh: CLASH (Official) Music Video |...   \n",
       "1      J78aPJ3VyNs  I left youtube for a month and THIS is what ha...   \n",
       "2      M9Pmf9AB4Mo  Apex Legends | Stories from the Outlands – “Th...   \n",
       "3      3C66w5Z0ixs                 I ASKED HER TO BE MY GIRLFRIEND...   \n",
       "4      VIUo6yapDbc  Ultimate DIY Home Movie Theater for The LaBran...   \n",
       "...            ...                                                ...   \n",
       "22395  Wmi5R_SMxv0                          Rest In Peace, Uncle Phil   \n",
       "22396  KTsemYgLIBk  ITZY Performance Practice (Asia Artist Awards ...   \n",
       "22397  vHv4uyQ3J44                  🎄The 2020 Clashmas Tree Is Here!🎄   \n",
       "22398  lG-klvI4yzI  Fally Ipupa -  Likolo feat. Ninho (Clip officiel)   \n",
       "22399  wSRiURAb67g  [쇼! 음악중심] 에스파 -블랙맘바 (aespa -Black Mamba) 20201128   \n",
       "\n",
       "                                      youtube_link  \n",
       "0      https://www.youtube.com/watch?v=KX06ksuS6Xo  \n",
       "1      https://www.youtube.com/watch?v=J78aPJ3VyNs  \n",
       "2      https://www.youtube.com/watch?v=M9Pmf9AB4Mo  \n",
       "3      https://www.youtube.com/watch?v=3C66w5Z0ixs  \n",
       "4      https://www.youtube.com/watch?v=VIUo6yapDbc  \n",
       "...                                            ...  \n",
       "22395  https://www.youtube.com/watch?v=Wmi5R_SMxv0  \n",
       "22396  https://www.youtube.com/watch?v=KTsemYgLIBk  \n",
       "22397  https://www.youtube.com/watch?v=vHv4uyQ3J44  \n",
       "22398  https://www.youtube.com/watch?v=lG-klvI4yzI  \n",
       "22399  https://www.youtube.com/watch?v=wSRiURAb67g  \n",
       "\n",
       "[22400 rows x 3 columns]"
      ]
     },
     "execution_count": 9,
     "metadata": {},
     "output_type": "execute_result"
    }
   ],
   "source": [
    "# Let's see some columns\n",
    "trends[['video_id', 'title', 'youtube_link']]"
   ]
  },
  {
   "cell_type": "code",
   "execution_count": null,
   "metadata": {},
   "outputs": [],
   "source": []
  }
 ],
 "metadata": {
  "kernelspec": {
   "display_name": "Python 3",
   "language": "python",
   "name": "python3"
  },
  "language_info": {
   "codemirror_mode": {
    "name": "ipython",
    "version": 3
   },
   "file_extension": ".py",
   "mimetype": "text/x-python",
   "name": "python",
   "nbconvert_exporter": "python",
   "pygments_lexer": "ipython3",
   "version": "3.8.3"
  }
 },
 "nbformat": 4,
 "nbformat_minor": 4
}
