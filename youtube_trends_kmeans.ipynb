{
 "cells": [
  {
   "cell_type": "markdown",
   "metadata": {},
   "source": [
    "# TrendTracker: Exploring Trending Youtube Videos in Canada"
   ]
  },
  {
   "cell_type": "markdown",
   "metadata": {},
   "source": [
    "### Notebook Contents"
   ]
  },
  {
   "cell_type": "markdown",
   "metadata": {},
   "source": [
    "In this notebook, I want to categorize and cluster videos by their features. I want to see which characteristics seem important when deciding what a trending video is."
   ]
  },
  {
   "cell_type": "markdown",
   "metadata": {},
   "source": [
    "### Import Libraries and Data"
   ]
  },
  {
   "cell_type": "code",
   "execution_count": 52,
   "metadata": {},
   "outputs": [],
   "source": [
    "import pandas as pd\n",
    "import numpy as np\n",
    "import matplotlib.pyplot as plt\n",
    "import seaborn as sns\n",
    "import datetime"
   ]
  },
  {
   "cell_type": "code",
   "execution_count": 53,
   "metadata": {},
   "outputs": [],
   "source": [
    "# New CSV file that includes new features\n",
    "file = r'/Users/OliverPan/Desktop/youtube_data/trend_features.csv'"
   ]
  },
  {
   "cell_type": "code",
   "execution_count": 54,
   "metadata": {},
   "outputs": [
    {
     "name": "stderr",
     "output_type": "stream",
     "text": [
      "/Users/oliverpan/opt/anaconda3/lib/python3.8/site-packages/IPython/core/interactiveshell.py:3071: DtypeWarning: Columns (1,2,3,4,6,7,12,13,14,15,18) have mixed types.Specify dtype option on import or set low_memory=False.\n",
      "  has_raised = await self.run_ast_nodes(code_ast.body, cell_name,\n"
     ]
    }
   ],
   "source": [
    "trends_kmeans = pd.read_csv(file)"
   ]
  },
  {
   "cell_type": "code",
   "execution_count": 55,
   "metadata": {},
   "outputs": [
    {
     "data": {
      "text/html": [
       "<div>\n",
       "<style scoped>\n",
       "    .dataframe tbody tr th:only-of-type {\n",
       "        vertical-align: middle;\n",
       "    }\n",
       "\n",
       "    .dataframe tbody tr th {\n",
       "        vertical-align: top;\n",
       "    }\n",
       "\n",
       "    .dataframe thead th {\n",
       "        text-align: right;\n",
       "    }\n",
       "</style>\n",
       "<table border=\"1\" class=\"dataframe\">\n",
       "  <thead>\n",
       "    <tr style=\"text-align: right;\">\n",
       "      <th></th>\n",
       "      <th>video_id</th>\n",
       "      <th>title</th>\n",
       "      <th>publishedAt</th>\n",
       "      <th>channelId</th>\n",
       "      <th>channelTitle</th>\n",
       "      <th>categoryId</th>\n",
       "      <th>trending_date</th>\n",
       "      <th>tags</th>\n",
       "      <th>view_count</th>\n",
       "      <th>likes</th>\n",
       "      <th>...</th>\n",
       "      <th>comment_count</th>\n",
       "      <th>thumbnail_link</th>\n",
       "      <th>comments_disabled</th>\n",
       "      <th>ratings_disabled</th>\n",
       "      <th>description</th>\n",
       "      <th>likes_to_dislikes</th>\n",
       "      <th>time_to_trend</th>\n",
       "      <th>youtube_link</th>\n",
       "      <th>no_description</th>\n",
       "      <th>views_per_date</th>\n",
       "    </tr>\n",
       "  </thead>\n",
       "  <tbody>\n",
       "    <tr>\n",
       "      <th>0</th>\n",
       "      <td>KX06ksuS6Xo</td>\n",
       "      <td>Diljit Dosanjh: CLASH (Official) Music Video |...</td>\n",
       "      <td>2020-08-11</td>\n",
       "      <td>UCZRdNleCgW-BGUJf-bbjzQg</td>\n",
       "      <td>Diljit Dosanjh</td>\n",
       "      <td>10.0</td>\n",
       "      <td>2020-08-12</td>\n",
       "      <td>clash diljit dosanjh|diljit dosanjh|diljit dos...</td>\n",
       "      <td>9140911.0</td>\n",
       "      <td>296541.0</td>\n",
       "      <td>...</td>\n",
       "      <td>30059.0</td>\n",
       "      <td>https://i.ytimg.com/vi/KX06ksuS6Xo/default.jpg</td>\n",
       "      <td>False</td>\n",
       "      <td>False</td>\n",
       "      <td>CLASH official music video performed by DILJIT...</td>\n",
       "      <td>47.983981</td>\n",
       "      <td>1.0</td>\n",
       "      <td>https://www.youtube.com/watch?v=KX06ksuS6Xo</td>\n",
       "      <td>0.0</td>\n",
       "      <td>9140911.0</td>\n",
       "    </tr>\n",
       "    <tr>\n",
       "      <th>1</th>\n",
       "      <td>J78aPJ3VyNs</td>\n",
       "      <td>I left youtube for a month and THIS is what ha...</td>\n",
       "      <td>2020-08-11</td>\n",
       "      <td>UCYzPXprvl5Y-Sf0g4vX-m6g</td>\n",
       "      <td>jacksepticeye</td>\n",
       "      <td>24.0</td>\n",
       "      <td>2020-08-12</td>\n",
       "      <td>jacksepticeye|funny|funny meme|memes|jacksepti...</td>\n",
       "      <td>2038853.0</td>\n",
       "      <td>353797.0</td>\n",
       "      <td>...</td>\n",
       "      <td>40222.0</td>\n",
       "      <td>https://i.ytimg.com/vi/J78aPJ3VyNs/default.jpg</td>\n",
       "      <td>False</td>\n",
       "      <td>False</td>\n",
       "      <td>I left youtube for a month and this is what ha...</td>\n",
       "      <td>134.625951</td>\n",
       "      <td>1.0</td>\n",
       "      <td>https://www.youtube.com/watch?v=J78aPJ3VyNs</td>\n",
       "      <td>0.0</td>\n",
       "      <td>2038853.0</td>\n",
       "    </tr>\n",
       "    <tr>\n",
       "      <th>2</th>\n",
       "      <td>M9Pmf9AB4Mo</td>\n",
       "      <td>Apex Legends | Stories from the Outlands – “Th...</td>\n",
       "      <td>2020-08-11</td>\n",
       "      <td>UC0ZV6M2THA81QT9hrVWJG3A</td>\n",
       "      <td>Apex Legends</td>\n",
       "      <td>20.0</td>\n",
       "      <td>2020-08-12</td>\n",
       "      <td>Apex Legends|Apex Legends characters|new Apex ...</td>\n",
       "      <td>2381688.0</td>\n",
       "      <td>146740.0</td>\n",
       "      <td>...</td>\n",
       "      <td>16549.0</td>\n",
       "      <td>https://i.ytimg.com/vi/M9Pmf9AB4Mo/default.jpg</td>\n",
       "      <td>False</td>\n",
       "      <td>False</td>\n",
       "      <td>While running her own modding shop, Ramya Pare...</td>\n",
       "      <td>52.519685</td>\n",
       "      <td>1.0</td>\n",
       "      <td>https://www.youtube.com/watch?v=M9Pmf9AB4Mo</td>\n",
       "      <td>0.0</td>\n",
       "      <td>2381688.0</td>\n",
       "    </tr>\n",
       "    <tr>\n",
       "      <th>3</th>\n",
       "      <td>3C66w5Z0ixs</td>\n",
       "      <td>I ASKED HER TO BE MY GIRLFRIEND...</td>\n",
       "      <td>2020-08-11</td>\n",
       "      <td>UCvtRTOMP2TqYqu51xNrqAzg</td>\n",
       "      <td>Brawadis</td>\n",
       "      <td>22.0</td>\n",
       "      <td>2020-08-12</td>\n",
       "      <td>brawadis|prank|basketball|skits|ghost|funny vi...</td>\n",
       "      <td>1514614.0</td>\n",
       "      <td>156914.0</td>\n",
       "      <td>...</td>\n",
       "      <td>35331.0</td>\n",
       "      <td>https://i.ytimg.com/vi/3C66w5Z0ixs/default.jpg</td>\n",
       "      <td>False</td>\n",
       "      <td>False</td>\n",
       "      <td>SUBSCRIBE to BRAWADIS ▶ http://bit.ly/Subscrib...</td>\n",
       "      <td>26.790849</td>\n",
       "      <td>1.0</td>\n",
       "      <td>https://www.youtube.com/watch?v=3C66w5Z0ixs</td>\n",
       "      <td>0.0</td>\n",
       "      <td>1514614.0</td>\n",
       "    </tr>\n",
       "    <tr>\n",
       "      <th>4</th>\n",
       "      <td>VIUo6yapDbc</td>\n",
       "      <td>Ultimate DIY Home Movie Theater for The LaBran...</td>\n",
       "      <td>2020-08-11</td>\n",
       "      <td>UCDVPcEbVLQgLZX0Rt6jo34A</td>\n",
       "      <td>Mr. Kate</td>\n",
       "      <td>26.0</td>\n",
       "      <td>2020-08-12</td>\n",
       "      <td>The LaBrant Family|DIY|Interior Design|Makeove...</td>\n",
       "      <td>1123889.0</td>\n",
       "      <td>45803.0</td>\n",
       "      <td>...</td>\n",
       "      <td>2198.0</td>\n",
       "      <td>https://i.ytimg.com/vi/VIUo6yapDbc/default.jpg</td>\n",
       "      <td>False</td>\n",
       "      <td>False</td>\n",
       "      <td>Transforming The LaBrant Family's empty white ...</td>\n",
       "      <td>47.513485</td>\n",
       "      <td>1.0</td>\n",
       "      <td>https://www.youtube.com/watch?v=VIUo6yapDbc</td>\n",
       "      <td>0.0</td>\n",
       "      <td>1123889.0</td>\n",
       "    </tr>\n",
       "  </tbody>\n",
       "</table>\n",
       "<p>5 rows × 21 columns</p>\n",
       "</div>"
      ],
      "text/plain": [
       "      video_id                                              title publishedAt  \\\n",
       "0  KX06ksuS6Xo  Diljit Dosanjh: CLASH (Official) Music Video |...  2020-08-11   \n",
       "1  J78aPJ3VyNs  I left youtube for a month and THIS is what ha...  2020-08-11   \n",
       "2  M9Pmf9AB4Mo  Apex Legends | Stories from the Outlands – “Th...  2020-08-11   \n",
       "3  3C66w5Z0ixs                 I ASKED HER TO BE MY GIRLFRIEND...  2020-08-11   \n",
       "4  VIUo6yapDbc  Ultimate DIY Home Movie Theater for The LaBran...  2020-08-11   \n",
       "\n",
       "                  channelId    channelTitle  categoryId trending_date  \\\n",
       "0  UCZRdNleCgW-BGUJf-bbjzQg  Diljit Dosanjh        10.0    2020-08-12   \n",
       "1  UCYzPXprvl5Y-Sf0g4vX-m6g   jacksepticeye        24.0    2020-08-12   \n",
       "2  UC0ZV6M2THA81QT9hrVWJG3A    Apex Legends        20.0    2020-08-12   \n",
       "3  UCvtRTOMP2TqYqu51xNrqAzg        Brawadis        22.0    2020-08-12   \n",
       "4  UCDVPcEbVLQgLZX0Rt6jo34A        Mr. Kate        26.0    2020-08-12   \n",
       "\n",
       "                                                tags  view_count     likes  \\\n",
       "0  clash diljit dosanjh|diljit dosanjh|diljit dos...   9140911.0  296541.0   \n",
       "1  jacksepticeye|funny|funny meme|memes|jacksepti...   2038853.0  353797.0   \n",
       "2  Apex Legends|Apex Legends characters|new Apex ...   2381688.0  146740.0   \n",
       "3  brawadis|prank|basketball|skits|ghost|funny vi...   1514614.0  156914.0   \n",
       "4  The LaBrant Family|DIY|Interior Design|Makeove...   1123889.0   45803.0   \n",
       "\n",
       "   ...  comment_count                                  thumbnail_link  \\\n",
       "0  ...        30059.0  https://i.ytimg.com/vi/KX06ksuS6Xo/default.jpg   \n",
       "1  ...        40222.0  https://i.ytimg.com/vi/J78aPJ3VyNs/default.jpg   \n",
       "2  ...        16549.0  https://i.ytimg.com/vi/M9Pmf9AB4Mo/default.jpg   \n",
       "3  ...        35331.0  https://i.ytimg.com/vi/3C66w5Z0ixs/default.jpg   \n",
       "4  ...         2198.0  https://i.ytimg.com/vi/VIUo6yapDbc/default.jpg   \n",
       "\n",
       "  comments_disabled ratings_disabled  \\\n",
       "0             False            False   \n",
       "1             False            False   \n",
       "2             False            False   \n",
       "3             False            False   \n",
       "4             False            False   \n",
       "\n",
       "                                         description likes_to_dislikes  \\\n",
       "0  CLASH official music video performed by DILJIT...         47.983981   \n",
       "1  I left youtube for a month and this is what ha...        134.625951   \n",
       "2  While running her own modding shop, Ramya Pare...         52.519685   \n",
       "3  SUBSCRIBE to BRAWADIS ▶ http://bit.ly/Subscrib...         26.790849   \n",
       "4  Transforming The LaBrant Family's empty white ...         47.513485   \n",
       "\n",
       "   time_to_trend                                 youtube_link no_description  \\\n",
       "0            1.0  https://www.youtube.com/watch?v=KX06ksuS6Xo            0.0   \n",
       "1            1.0  https://www.youtube.com/watch?v=J78aPJ3VyNs            0.0   \n",
       "2            1.0  https://www.youtube.com/watch?v=M9Pmf9AB4Mo            0.0   \n",
       "3            1.0  https://www.youtube.com/watch?v=3C66w5Z0ixs            0.0   \n",
       "4            1.0  https://www.youtube.com/watch?v=VIUo6yapDbc            0.0   \n",
       "\n",
       "   views_per_date  \n",
       "0       9140911.0  \n",
       "1       2038853.0  \n",
       "2       2381688.0  \n",
       "3       1514614.0  \n",
       "4       1123889.0  \n",
       "\n",
       "[5 rows x 21 columns]"
      ]
     },
     "execution_count": 55,
     "metadata": {},
     "output_type": "execute_result"
    }
   ],
   "source": [
    "trends_kmeans.head()"
   ]
  },
  {
   "cell_type": "markdown",
   "metadata": {},
   "source": [
    "### Data Cleansing"
   ]
  },
  {
   "cell_type": "code",
   "execution_count": 56,
   "metadata": {},
   "outputs": [
    {
     "data": {
      "text/plain": [
       "Index(['video_id', 'title', 'publishedAt', 'channelId', 'channelTitle',\n",
       "       'categoryId', 'trending_date', 'tags', 'view_count', 'likes',\n",
       "       'dislikes', 'comment_count', 'thumbnail_link', 'comments_disabled',\n",
       "       'ratings_disabled', 'description', 'likes_to_dislikes', 'time_to_trend',\n",
       "       'youtube_link', 'no_description', 'views_per_date'],\n",
       "      dtype='object')"
      ]
     },
     "execution_count": 56,
     "metadata": {},
     "output_type": "execute_result"
    }
   ],
   "source": [
    "trends_kmeans.columns"
   ]
  },
  {
   "cell_type": "code",
   "execution_count": 57,
   "metadata": {},
   "outputs": [
    {
     "data": {
      "text/plain": [
       "2066"
      ]
     },
     "execution_count": 57,
     "metadata": {},
     "output_type": "execute_result"
    }
   ],
   "source": [
    "trends_kmeans['channelTitle'].nunique()"
   ]
  },
  {
   "cell_type": "code",
   "execution_count": 58,
   "metadata": {},
   "outputs": [
    {
     "data": {
      "text/html": [
       "<div>\n",
       "<style scoped>\n",
       "    .dataframe tbody tr th:only-of-type {\n",
       "        vertical-align: middle;\n",
       "    }\n",
       "\n",
       "    .dataframe tbody tr th {\n",
       "        vertical-align: top;\n",
       "    }\n",
       "\n",
       "    .dataframe thead th {\n",
       "        text-align: right;\n",
       "    }\n",
       "</style>\n",
       "<table border=\"1\" class=\"dataframe\">\n",
       "  <thead>\n",
       "    <tr style=\"text-align: right;\">\n",
       "      <th></th>\n",
       "      <th>channelName</th>\n",
       "    </tr>\n",
       "  </thead>\n",
       "  <tbody>\n",
       "    <tr>\n",
       "      <th>0</th>\n",
       "      <td>#TeamTrees</td>\n",
       "    </tr>\n",
       "    <tr>\n",
       "      <th>1</th>\n",
       "      <td>0</td>\n",
       "    </tr>\n",
       "    <tr>\n",
       "      <th>2</th>\n",
       "      <td>100 Thieves</td>\n",
       "    </tr>\n",
       "    <tr>\n",
       "      <th>3</th>\n",
       "      <td>11Alive</td>\n",
       "    </tr>\n",
       "    <tr>\n",
       "      <th>4</th>\n",
       "      <td>1MILLION Dance Studio</td>\n",
       "    </tr>\n",
       "    <tr>\n",
       "      <th>5</th>\n",
       "      <td>1Rod1ReelFishing</td>\n",
       "    </tr>\n",
       "    <tr>\n",
       "      <th>6</th>\n",
       "      <td>2020 Democratic National Convention</td>\n",
       "    </tr>\n",
       "    <tr>\n",
       "      <th>7</th>\n",
       "      <td>20th Century Studios</td>\n",
       "    </tr>\n",
       "    <tr>\n",
       "      <th>8</th>\n",
       "      <td>21 Savage</td>\n",
       "    </tr>\n",
       "    <tr>\n",
       "      <th>9</th>\n",
       "      <td>24 Heures du Mans</td>\n",
       "    </tr>\n",
       "  </tbody>\n",
       "</table>\n",
       "</div>"
      ],
      "text/plain": [
       "                           channelName\n",
       "0                           #TeamTrees\n",
       "1                                    0\n",
       "2                          100 Thieves\n",
       "3                              11Alive\n",
       "4                1MILLION Dance Studio\n",
       "5                     1Rod1ReelFishing\n",
       "6  2020 Democratic National Convention\n",
       "7                 20th Century Studios\n",
       "8                            21 Savage\n",
       "9                    24 Heures du Mans"
      ]
     },
     "execution_count": 58,
     "metadata": {},
     "output_type": "execute_result"
    }
   ],
   "source": [
    "# Since we change over 2000 columns to numbers, we need to have a dictionary for reference later\n",
    "channels = trends_kmeans['channelTitle'].astype('category')\n",
    "\n",
    "d = dict(enumerate(channels.cat.categories))\n",
    "\n",
    "channels_df = pd.DataFrame(list(d.items()),columns = ['channelId','channelName']).drop(columns = ['channelId'], axis = 1)\n",
    "channels_df.head(10)"
   ]
  },
  {
   "cell_type": "code",
   "execution_count": 59,
   "metadata": {},
   "outputs": [],
   "source": [
    "# Pick columns that we can use in kmeans\n",
    "trends_kmeans = trends_kmeans[['channelTitle', 'categoryId', 'view_count', 'likes', 'dislikes', 'comment_count', 'likes_to_dislikes', 'time_to_trend', 'no_description', 'views_per_date']]\n",
    "trends_kmeans['channelTitle'] = trends_kmeans['channelTitle'].astype('category').cat.codes"
   ]
  },
  {
   "cell_type": "code",
   "execution_count": 60,
   "metadata": {},
   "outputs": [
    {
     "data": {
      "text/html": [
       "<div>\n",
       "<style scoped>\n",
       "    .dataframe tbody tr th:only-of-type {\n",
       "        vertical-align: middle;\n",
       "    }\n",
       "\n",
       "    .dataframe tbody tr th {\n",
       "        vertical-align: top;\n",
       "    }\n",
       "\n",
       "    .dataframe thead th {\n",
       "        text-align: right;\n",
       "    }\n",
       "</style>\n",
       "<table border=\"1\" class=\"dataframe\">\n",
       "  <thead>\n",
       "    <tr style=\"text-align: right;\">\n",
       "      <th></th>\n",
       "      <th>channelTitle</th>\n",
       "      <th>categoryId</th>\n",
       "      <th>view_count</th>\n",
       "      <th>likes</th>\n",
       "      <th>dislikes</th>\n",
       "      <th>comment_count</th>\n",
       "      <th>likes_to_dislikes</th>\n",
       "      <th>time_to_trend</th>\n",
       "      <th>no_description</th>\n",
       "      <th>views_per_date</th>\n",
       "    </tr>\n",
       "  </thead>\n",
       "  <tbody>\n",
       "    <tr>\n",
       "      <th>0</th>\n",
       "      <td>437</td>\n",
       "      <td>10.0</td>\n",
       "      <td>9140911.0</td>\n",
       "      <td>296541.0</td>\n",
       "      <td>6180.0</td>\n",
       "      <td>30059.0</td>\n",
       "      <td>47.983981</td>\n",
       "      <td>1.0</td>\n",
       "      <td>0.0</td>\n",
       "      <td>9140911.0</td>\n",
       "    </tr>\n",
       "    <tr>\n",
       "      <th>1</th>\n",
       "      <td>2000</td>\n",
       "      <td>24.0</td>\n",
       "      <td>2038853.0</td>\n",
       "      <td>353797.0</td>\n",
       "      <td>2628.0</td>\n",
       "      <td>40222.0</td>\n",
       "      <td>134.625951</td>\n",
       "      <td>1.0</td>\n",
       "      <td>0.0</td>\n",
       "      <td>2038853.0</td>\n",
       "    </tr>\n",
       "    <tr>\n",
       "      <th>2</th>\n",
       "      <td>105</td>\n",
       "      <td>20.0</td>\n",
       "      <td>2381688.0</td>\n",
       "      <td>146740.0</td>\n",
       "      <td>2794.0</td>\n",
       "      <td>16549.0</td>\n",
       "      <td>52.519685</td>\n",
       "      <td>1.0</td>\n",
       "      <td>0.0</td>\n",
       "      <td>2381688.0</td>\n",
       "    </tr>\n",
       "    <tr>\n",
       "      <th>3</th>\n",
       "      <td>217</td>\n",
       "      <td>22.0</td>\n",
       "      <td>1514614.0</td>\n",
       "      <td>156914.0</td>\n",
       "      <td>5857.0</td>\n",
       "      <td>35331.0</td>\n",
       "      <td>26.790849</td>\n",
       "      <td>1.0</td>\n",
       "      <td>0.0</td>\n",
       "      <td>1514614.0</td>\n",
       "    </tr>\n",
       "    <tr>\n",
       "      <th>4</th>\n",
       "      <td>1145</td>\n",
       "      <td>26.0</td>\n",
       "      <td>1123889.0</td>\n",
       "      <td>45803.0</td>\n",
       "      <td>964.0</td>\n",
       "      <td>2198.0</td>\n",
       "      <td>47.513485</td>\n",
       "      <td>1.0</td>\n",
       "      <td>0.0</td>\n",
       "      <td>1123889.0</td>\n",
       "    </tr>\n",
       "  </tbody>\n",
       "</table>\n",
       "</div>"
      ],
      "text/plain": [
       "   channelTitle  categoryId  view_count     likes  dislikes  comment_count  \\\n",
       "0           437        10.0   9140911.0  296541.0    6180.0        30059.0   \n",
       "1          2000        24.0   2038853.0  353797.0    2628.0        40222.0   \n",
       "2           105        20.0   2381688.0  146740.0    2794.0        16549.0   \n",
       "3           217        22.0   1514614.0  156914.0    5857.0        35331.0   \n",
       "4          1145        26.0   1123889.0   45803.0     964.0         2198.0   \n",
       "\n",
       "   likes_to_dislikes  time_to_trend  no_description  views_per_date  \n",
       "0          47.983981            1.0             0.0       9140911.0  \n",
       "1         134.625951            1.0             0.0       2038853.0  \n",
       "2          52.519685            1.0             0.0       2381688.0  \n",
       "3          26.790849            1.0             0.0       1514614.0  \n",
       "4          47.513485            1.0             0.0       1123889.0  "
      ]
     },
     "execution_count": 60,
     "metadata": {},
     "output_type": "execute_result"
    }
   ],
   "source": [
    "trends_kmeans.head()"
   ]
  },
  {
   "cell_type": "code",
   "execution_count": 61,
   "metadata": {},
   "outputs": [
    {
     "name": "stdout",
     "output_type": "stream",
     "text": [
      "<class 'pandas.core.frame.DataFrame'>\n",
      "RangeIndex: 688853 entries, 0 to 688852\n",
      "Data columns (total 10 columns):\n",
      " #   Column             Non-Null Count   Dtype  \n",
      "---  ------             --------------   -----  \n",
      " 0   channelTitle       688853 non-null  int16  \n",
      " 1   categoryId         26352 non-null   float64\n",
      " 2   view_count         25730 non-null   float64\n",
      " 3   likes              25730 non-null   float64\n",
      " 4   dislikes           25730 non-null   float64\n",
      " 5   comment_count      25730 non-null   float64\n",
      " 6   likes_to_dislikes  21626 non-null   float64\n",
      " 7   time_to_trend      21778 non-null   float64\n",
      " 8   no_description     21778 non-null   float64\n",
      " 9   views_per_date     21778 non-null   float64\n",
      "dtypes: float64(9), int16(1)\n",
      "memory usage: 48.6 MB\n"
     ]
    }
   ],
   "source": [
    "trends_kmeans.info()"
   ]
  },
  {
   "cell_type": "code",
   "execution_count": 67,
   "metadata": {},
   "outputs": [],
   "source": [
    "# Remove NA and Inf values\n",
    "trends_kmeans = trends_kmeans.replace([np.inf, -np.inf], np.nan)\n",
    "trends_kmeans.dropna(inplace = True)"
   ]
  },
  {
   "cell_type": "markdown",
   "metadata": {},
   "source": [
    "### Elbow Method"
   ]
  },
  {
   "cell_type": "markdown",
   "metadata": {},
   "source": [
    "We need to figure out the number of clusters we want to group into, so we can use elbow method to visualize."
   ]
  },
  {
   "cell_type": "code",
   "execution_count": 68,
   "metadata": {},
   "outputs": [],
   "source": [
    "from sklearn.cluster import KMeans \n",
    "from sklearn import metrics "
   ]
  },
  {
   "cell_type": "code",
   "execution_count": 69,
   "metadata": {},
   "outputs": [
    {
     "data": {
      "text/plain": [
       "Text(0.5, 1.0, 'Elbow method on cluster_df')"
      ]
     },
     "execution_count": 69,
     "metadata": {},
     "output_type": "execute_result"
    },
    {
     "data": {
      "image/png": "[encoded data removed]",
      "text/plain": [
       "<Figure size 720x504 with 1 Axes>"
      ]
     },
     "metadata": {
      "needs_background": "light"
     },
     "output_type": "display_data"
    }
   ],
   "source": [
    "distortions = []\n",
    "\n",
    "K = range(1,10)\n",
    "for k in K:\n",
    "    kmeanModel = KMeans(n_clusters=k)\n",
    "    kmeanModel.fit(trends_kmeans)\n",
    "    distortions.append(kmeanModel.inertia_)\n",
    "    \n",
    "plt.figure(figsize=(10,7))\n",
    "plt.plot(K, distortions, 'bx-')\n",
    "plt.xlabel('k')\n",
    "plt.ylabel('Distortion')\n",
    "plt.title('Elbow method on cluster_df')"
   ]
  },
  {
   "cell_type": "markdown",
   "metadata": {},
   "source": [
    "Typically with the elbow method, we want to see where the bend is to identify how many clusters we should use. From here, it seems like 3 clusters is the most optimal."
   ]
  },
  {
   "cell_type": "code",
   "execution_count": null,
   "metadata": {},
   "outputs": [],
   "source": []
  }
 ],
 "metadata": {
  "kernelspec": {
   "display_name": "Python 3",
   "language": "python",
   "name": "python3"
  },
  "language_info": {
   "codemirror_mode": {
    "name": "ipython",
    "version": 3
   },
   "file_extension": ".py",
   "mimetype": "text/x-python",
   "name": "python",
   "nbconvert_exporter": "python",
   "pygments_lexer": "ipython3",
   "version": "3.8.3"
  }
 },
 "nbformat": 4,
 "nbformat_minor": 4
}
